{
 "cells": [
  {
   "cell_type": "code",
   "execution_count": 2,
   "id": "ac323b7b",
   "metadata": {
    "ExecuteTime": {
     "end_time": "2022-05-16T09:57:56.565229Z",
     "start_time": "2022-05-16T09:57:55.848528Z"
    }
   },
   "outputs": [],
   "source": [
    "import pandas as pd\n",
    "import numpy as np"
   ]
  },
  {
   "cell_type": "code",
   "execution_count": null,
   "id": "488623ac",
   "metadata": {},
   "outputs": [],
   "source": []
  },
  {
   "cell_type": "markdown",
   "id": "dcfa9886",
   "metadata": {},
   "source": [
    "## 原始数据"
   ]
  },
  {
   "cell_type": "code",
   "execution_count": 3,
   "id": "ee3873ec",
   "metadata": {
    "ExecuteTime": {
     "end_time": "2022-05-13T06:56:44.455527Z",
     "start_time": "2022-05-13T06:56:44.442837Z"
    }
   },
   "outputs": [],
   "source": [
    "# 一般使用特殊类型 NaN 代表缺失值，\n",
    "# 可以用 Numpy 可定义它np.NaN/np.nan。\n",
    "# 在 Pandas 1.0 以后实验性地使用一个标量 pd.NA 来代表\n",
    "\n",
    "df = pd.DataFrame({'Unnamed:0': [0,1,2,3,4,5,6],\n",
    "                  'Date': ['04/04/2021','april 17th,2021','2021-08-21','05/02/2021','05/12/2021','2021-10-11',np.nan],\n",
    "                  'Name': ['doe,john','Doe,Jane','smith,Adam','Tuck,matt','James,Ben',np.nan,np.nan],\n",
    "                  'Payment': ['$100,50','$78.50','$65','$120',np.nan,'$100',np.nan],\n",
    "                  'Note': ['Unhappy!','?Satidfied','Neutral','Unhappy-','Neutral0','Neutral',np.nan],\n",
    "                  'Remark':[np.nan,np.nan,np.nan,np.nan,np.nan,np.nan,np.nan]},\n",
    "#                  index = [0,1,2,3,4,5]\n",
    "                 )"
   ]
  },
  {
   "cell_type": "code",
   "execution_count": 119,
   "id": "ea419147",
   "metadata": {
    "ExecuteTime": {
     "end_time": "2022-05-13T06:56:45.271471Z",
     "start_time": "2022-05-13T06:56:45.247002Z"
    }
   },
   "outputs": [
    {
     "data": {
      "text/html": [
       "<div>\n",
       "<style scoped>\n",
       "    .dataframe tbody tr th:only-of-type {\n",
       "        vertical-align: middle;\n",
       "    }\n",
       "\n",
       "    .dataframe tbody tr th {\n",
       "        vertical-align: top;\n",
       "    }\n",
       "\n",
       "    .dataframe thead th {\n",
       "        text-align: right;\n",
       "    }\n",
       "</style>\n",
       "<table border=\"1\" class=\"dataframe\">\n",
       "  <thead>\n",
       "    <tr style=\"text-align: right;\">\n",
       "      <th></th>\n",
       "      <th>Unnamed:0</th>\n",
       "      <th>Date</th>\n",
       "      <th>Name</th>\n",
       "      <th>Payment</th>\n",
       "      <th>Note</th>\n",
       "      <th>Remark</th>\n",
       "    </tr>\n",
       "  </thead>\n",
       "  <tbody>\n",
       "    <tr>\n",
       "      <th>0</th>\n",
       "      <td>0</td>\n",
       "      <td>04/04/2021</td>\n",
       "      <td>doe,john</td>\n",
       "      <td>$100,50</td>\n",
       "      <td>Unhappy!</td>\n",
       "      <td>NaN</td>\n",
       "    </tr>\n",
       "    <tr>\n",
       "      <th>1</th>\n",
       "      <td>1</td>\n",
       "      <td>april 17th,2021</td>\n",
       "      <td>Doe,Jane</td>\n",
       "      <td>$78.50</td>\n",
       "      <td>?Satidfied</td>\n",
       "      <td>NaN</td>\n",
       "    </tr>\n",
       "    <tr>\n",
       "      <th>2</th>\n",
       "      <td>2</td>\n",
       "      <td>2021-08-21</td>\n",
       "      <td>smith,Adam</td>\n",
       "      <td>$65</td>\n",
       "      <td>Neutral</td>\n",
       "      <td>NaN</td>\n",
       "    </tr>\n",
       "    <tr>\n",
       "      <th>3</th>\n",
       "      <td>3</td>\n",
       "      <td>05/02/2021</td>\n",
       "      <td>Tuck,matt</td>\n",
       "      <td>$120</td>\n",
       "      <td>Unhappy-</td>\n",
       "      <td>NaN</td>\n",
       "    </tr>\n",
       "    <tr>\n",
       "      <th>4</th>\n",
       "      <td>4</td>\n",
       "      <td>05/12/2021</td>\n",
       "      <td>James,Ben</td>\n",
       "      <td>NaN</td>\n",
       "      <td>Neutral0</td>\n",
       "      <td>NaN</td>\n",
       "    </tr>\n",
       "    <tr>\n",
       "      <th>5</th>\n",
       "      <td>5</td>\n",
       "      <td>2021-10-11</td>\n",
       "      <td>NaN</td>\n",
       "      <td>$100</td>\n",
       "      <td>Neutral</td>\n",
       "      <td>NaN</td>\n",
       "    </tr>\n",
       "    <tr>\n",
       "      <th>6</th>\n",
       "      <td>6</td>\n",
       "      <td>NaN</td>\n",
       "      <td>NaN</td>\n",
       "      <td>NaN</td>\n",
       "      <td>NaN</td>\n",
       "      <td>NaN</td>\n",
       "    </tr>\n",
       "  </tbody>\n",
       "</table>\n",
       "</div>"
      ],
      "text/plain": [
       "   Unnamed:0             Date        Name  Payment        Note  Remark\n",
       "0          0       04/04/2021    doe,john  $100,50    Unhappy!     NaN\n",
       "1          1  april 17th,2021    Doe,Jane   $78.50  ?Satidfied     NaN\n",
       "2          2       2021-08-21  smith,Adam      $65     Neutral     NaN\n",
       "3          3       05/02/2021   Tuck,matt     $120    Unhappy-     NaN\n",
       "4          4       05/12/2021   James,Ben      NaN    Neutral0     NaN\n",
       "5          5       2021-10-11         NaN     $100     Neutral     NaN\n",
       "6          6              NaN         NaN      NaN         NaN     NaN"
      ]
     },
     "execution_count": 119,
     "metadata": {},
     "output_type": "execute_result"
    }
   ],
   "source": [
    "df"
   ]
  },
  {
   "cell_type": "code",
   "execution_count": null,
   "id": "ebbbf79f",
   "metadata": {
    "ExecuteTime": {
     "start_time": "2022-05-13T02:38:22.911Z"
    }
   },
   "outputs": [],
   "source": [
    "# 让我们看看可以做些什么来使这个数据集变得干净。\n",
    "\n",
    "# 第一列是多余的，应该删除；\n",
    "# Remark全为NAN,全部删除\n",
    "# 索引6为NAN,全部删除\n",
    "# Date 没有标准；\n",
    "# Name 写成姓氏、名字，并有大写和小写字母；\n",
    "# Payment 代表一个数量，但它们显示为字符串，需要处理；\n",
    "# 在 Note 中，有一些非字母数字应该被删除;"
   ]
  },
  {
   "cell_type": "markdown",
   "id": "a697ee1e",
   "metadata": {},
   "source": [
    "## 删除多余数据"
   ]
  },
  {
   "cell_type": "markdown",
   "id": "06301c78",
   "metadata": {},
   "source": [
    "### 肯定会完全删除的数据"
   ]
  },
  {
   "cell_type": "code",
   "execution_count": null,
   "id": "a630b48b",
   "metadata": {},
   "outputs": [],
   "source": [
    "# 冗余的列\n",
    "# 全为NAN的列\n",
    "# 全为NAN的行"
   ]
  },
  {
   "cell_type": "markdown",
   "id": "3240f13d",
   "metadata": {},
   "source": [
    "#### 删除冗余列"
   ]
  },
  {
   "cell_type": "code",
   "execution_count": 4,
   "id": "fda5cb5b",
   "metadata": {
    "ExecuteTime": {
     "end_time": "2022-05-13T06:57:00.538867Z",
     "start_time": "2022-05-13T06:57:00.521435Z"
    }
   },
   "outputs": [
    {
     "data": {
      "text/html": [
       "<div>\n",
       "<style scoped>\n",
       "    .dataframe tbody tr th:only-of-type {\n",
       "        vertical-align: middle;\n",
       "    }\n",
       "\n",
       "    .dataframe tbody tr th {\n",
       "        vertical-align: top;\n",
       "    }\n",
       "\n",
       "    .dataframe thead th {\n",
       "        text-align: right;\n",
       "    }\n",
       "</style>\n",
       "<table border=\"1\" class=\"dataframe\">\n",
       "  <thead>\n",
       "    <tr style=\"text-align: right;\">\n",
       "      <th></th>\n",
       "      <th>Date</th>\n",
       "      <th>Name</th>\n",
       "      <th>Payment</th>\n",
       "      <th>Note</th>\n",
       "      <th>Remark</th>\n",
       "    </tr>\n",
       "  </thead>\n",
       "  <tbody>\n",
       "    <tr>\n",
       "      <th>0</th>\n",
       "      <td>04/04/2021</td>\n",
       "      <td>doe,john</td>\n",
       "      <td>$100,50</td>\n",
       "      <td>Unhappy!</td>\n",
       "      <td>NaN</td>\n",
       "    </tr>\n",
       "    <tr>\n",
       "      <th>1</th>\n",
       "      <td>april 17th,2021</td>\n",
       "      <td>Doe,Jane</td>\n",
       "      <td>$78.50</td>\n",
       "      <td>?Satidfied</td>\n",
       "      <td>NaN</td>\n",
       "    </tr>\n",
       "    <tr>\n",
       "      <th>2</th>\n",
       "      <td>2021-08-21</td>\n",
       "      <td>smith,Adam</td>\n",
       "      <td>$65</td>\n",
       "      <td>Neutral</td>\n",
       "      <td>NaN</td>\n",
       "    </tr>\n",
       "    <tr>\n",
       "      <th>3</th>\n",
       "      <td>05/02/2021</td>\n",
       "      <td>Tuck,matt</td>\n",
       "      <td>$120</td>\n",
       "      <td>Unhappy-</td>\n",
       "      <td>NaN</td>\n",
       "    </tr>\n",
       "    <tr>\n",
       "      <th>4</th>\n",
       "      <td>05/12/2021</td>\n",
       "      <td>James,Ben</td>\n",
       "      <td>NaN</td>\n",
       "      <td>Neutral0</td>\n",
       "      <td>NaN</td>\n",
       "    </tr>\n",
       "    <tr>\n",
       "      <th>5</th>\n",
       "      <td>2021-10-11</td>\n",
       "      <td>NaN</td>\n",
       "      <td>$100</td>\n",
       "      <td>Neutral</td>\n",
       "      <td>NaN</td>\n",
       "    </tr>\n",
       "    <tr>\n",
       "      <th>6</th>\n",
       "      <td>NaN</td>\n",
       "      <td>NaN</td>\n",
       "      <td>NaN</td>\n",
       "      <td>NaN</td>\n",
       "      <td>NaN</td>\n",
       "    </tr>\n",
       "  </tbody>\n",
       "</table>\n",
       "</div>"
      ],
      "text/plain": [
       "              Date        Name  Payment        Note  Remark\n",
       "0       04/04/2021    doe,john  $100,50    Unhappy!     NaN\n",
       "1  april 17th,2021    Doe,Jane   $78.50  ?Satidfied     NaN\n",
       "2       2021-08-21  smith,Adam      $65     Neutral     NaN\n",
       "3       05/02/2021   Tuck,matt     $120    Unhappy-     NaN\n",
       "4       05/12/2021   James,Ben      NaN    Neutral0     NaN\n",
       "5       2021-10-11         NaN     $100     Neutral     NaN\n",
       "6              NaN         NaN      NaN         NaN     NaN"
      ]
     },
     "execution_count": 4,
     "metadata": {},
     "output_type": "execute_result"
    }
   ],
   "source": [
    "# 删除列是使用 drop 函数的简单操作。\n",
    "# 除了写列名外，我们还需要指定轴参数的值，因为 drop 函数用于删除行和列。 \n",
    "# 最后，我们可以使用 inplace 参数来保存更改。\n",
    "\n",
    "# 指定列名直接删除\n",
    "df.drop('Unnamed:0', axis=1, inplace=True)  \n",
    "df"
   ]
  },
  {
   "cell_type": "markdown",
   "id": "1b41c79a",
   "metadata": {
    "ExecuteTime": {
     "start_time": "2022-05-13T03:50:40.836Z"
    }
   },
   "source": [
    "#### 删除列全为空的数据"
   ]
  },
  {
   "cell_type": "code",
   "execution_count": 121,
   "id": "b65a4fdc",
   "metadata": {
    "ExecuteTime": {
     "end_time": "2022-05-13T06:57:14.811855Z",
     "start_time": "2022-05-13T06:57:14.800561Z"
    }
   },
   "outputs": [],
   "source": [
    "# dropna删除列全为空的\n",
    "df.dropna(axis=1,how='all', inplace=True)"
   ]
  },
  {
   "cell_type": "markdown",
   "id": "8732d6fc",
   "metadata": {},
   "source": [
    "#### 删除行全为空的数据"
   ]
  },
  {
   "cell_type": "code",
   "execution_count": 122,
   "id": "42be1744",
   "metadata": {
    "ExecuteTime": {
     "end_time": "2022-05-13T06:57:16.718843Z",
     "start_time": "2022-05-13T06:57:16.695233Z"
    }
   },
   "outputs": [],
   "source": [
    "# dropna删除行全为空的\n",
    "df.dropna(how = 'all',inplace=True)"
   ]
  },
  {
   "cell_type": "code",
   "execution_count": 123,
   "id": "9b22f342",
   "metadata": {
    "ExecuteTime": {
     "end_time": "2022-05-13T06:57:17.843816Z",
     "start_time": "2022-05-13T06:57:17.814877Z"
    }
   },
   "outputs": [
    {
     "data": {
      "text/html": [
       "<div>\n",
       "<style scoped>\n",
       "    .dataframe tbody tr th:only-of-type {\n",
       "        vertical-align: middle;\n",
       "    }\n",
       "\n",
       "    .dataframe tbody tr th {\n",
       "        vertical-align: top;\n",
       "    }\n",
       "\n",
       "    .dataframe thead th {\n",
       "        text-align: right;\n",
       "    }\n",
       "</style>\n",
       "<table border=\"1\" class=\"dataframe\">\n",
       "  <thead>\n",
       "    <tr style=\"text-align: right;\">\n",
       "      <th></th>\n",
       "      <th>Date</th>\n",
       "      <th>Name</th>\n",
       "      <th>Payment</th>\n",
       "      <th>Note</th>\n",
       "    </tr>\n",
       "  </thead>\n",
       "  <tbody>\n",
       "    <tr>\n",
       "      <th>0</th>\n",
       "      <td>04/04/2021</td>\n",
       "      <td>doe,john</td>\n",
       "      <td>$100,50</td>\n",
       "      <td>Unhappy!</td>\n",
       "    </tr>\n",
       "    <tr>\n",
       "      <th>1</th>\n",
       "      <td>april 17th,2021</td>\n",
       "      <td>Doe,Jane</td>\n",
       "      <td>$78.50</td>\n",
       "      <td>?Satidfied</td>\n",
       "    </tr>\n",
       "    <tr>\n",
       "      <th>2</th>\n",
       "      <td>2021-08-21</td>\n",
       "      <td>smith,Adam</td>\n",
       "      <td>$65</td>\n",
       "      <td>Neutral</td>\n",
       "    </tr>\n",
       "    <tr>\n",
       "      <th>3</th>\n",
       "      <td>05/02/2021</td>\n",
       "      <td>Tuck,matt</td>\n",
       "      <td>$120</td>\n",
       "      <td>Unhappy-</td>\n",
       "    </tr>\n",
       "    <tr>\n",
       "      <th>4</th>\n",
       "      <td>05/12/2021</td>\n",
       "      <td>James,Ben</td>\n",
       "      <td>NaN</td>\n",
       "      <td>Neutral0</td>\n",
       "    </tr>\n",
       "    <tr>\n",
       "      <th>5</th>\n",
       "      <td>2021-10-11</td>\n",
       "      <td>NaN</td>\n",
       "      <td>$100</td>\n",
       "      <td>Neutral</td>\n",
       "    </tr>\n",
       "  </tbody>\n",
       "</table>\n",
       "</div>"
      ],
      "text/plain": [
       "              Date        Name  Payment        Note\n",
       "0       04/04/2021    doe,john  $100,50    Unhappy!\n",
       "1  april 17th,2021    Doe,Jane   $78.50  ?Satidfied\n",
       "2       2021-08-21  smith,Adam      $65     Neutral\n",
       "3       05/02/2021   Tuck,matt     $120    Unhappy-\n",
       "4       05/12/2021   James,Ben      NaN    Neutral0\n",
       "5       2021-10-11         NaN     $100     Neutral"
      ]
     },
     "execution_count": 123,
     "metadata": {},
     "output_type": "execute_result"
    }
   ],
   "source": [
    "df"
   ]
  },
  {
   "cell_type": "markdown",
   "id": "77152b68",
   "metadata": {
    "ExecuteTime": {
     "end_time": "2022-05-13T02:53:46.715382Z",
     "start_time": "2022-05-13T02:53:46.709874Z"
    }
   },
   "source": [
    " ### 对于行或者列中存在NAN的数据"
   ]
  },
  {
   "cell_type": "code",
   "execution_count": 130,
   "id": "236903b5",
   "metadata": {
    "ExecuteTime": {
     "end_time": "2022-05-13T07:06:00.670073Z",
     "start_time": "2022-05-13T07:06:00.593186Z"
    }
   },
   "outputs": [
    {
     "data": {
      "text/html": [
       "<div>\n",
       "<style scoped>\n",
       "    .dataframe tbody tr th:only-of-type {\n",
       "        vertical-align: middle;\n",
       "    }\n",
       "\n",
       "    .dataframe tbody tr th {\n",
       "        vertical-align: top;\n",
       "    }\n",
       "\n",
       "    .dataframe thead th {\n",
       "        text-align: right;\n",
       "    }\n",
       "</style>\n",
       "<table border=\"1\" class=\"dataframe\">\n",
       "  <thead>\n",
       "    <tr style=\"text-align: right;\">\n",
       "      <th></th>\n",
       "      <th>Date</th>\n",
       "      <th>Name</th>\n",
       "      <th>Payment</th>\n",
       "      <th>Note</th>\n",
       "    </tr>\n",
       "  </thead>\n",
       "  <tbody>\n",
       "    <tr>\n",
       "      <th>0</th>\n",
       "      <td>04/04/2021</td>\n",
       "      <td>doe,john</td>\n",
       "      <td>$100,50</td>\n",
       "      <td>Unhappy!</td>\n",
       "    </tr>\n",
       "    <tr>\n",
       "      <th>1</th>\n",
       "      <td>april 17th,2021</td>\n",
       "      <td>Doe,Jane</td>\n",
       "      <td>$78.50</td>\n",
       "      <td>?Satidfied</td>\n",
       "    </tr>\n",
       "    <tr>\n",
       "      <th>2</th>\n",
       "      <td>2021-08-21</td>\n",
       "      <td>smith,Adam</td>\n",
       "      <td>$65</td>\n",
       "      <td>Neutral</td>\n",
       "    </tr>\n",
       "    <tr>\n",
       "      <th>3</th>\n",
       "      <td>05/02/2021</td>\n",
       "      <td>Tuck,matt</td>\n",
       "      <td>$120</td>\n",
       "      <td>Unhappy-</td>\n",
       "    </tr>\n",
       "    <tr>\n",
       "      <th>4</th>\n",
       "      <td>05/12/2021</td>\n",
       "      <td>James,Ben</td>\n",
       "      <td>NaN</td>\n",
       "      <td>Neutral0</td>\n",
       "    </tr>\n",
       "    <tr>\n",
       "      <th>5</th>\n",
       "      <td>2021-10-11</td>\n",
       "      <td>NaN</td>\n",
       "      <td>$100</td>\n",
       "      <td>Neutral</td>\n",
       "    </tr>\n",
       "  </tbody>\n",
       "</table>\n",
       "</div>"
      ],
      "text/plain": [
       "              Date        Name  Payment        Note\n",
       "0       04/04/2021    doe,john  $100,50    Unhappy!\n",
       "1  april 17th,2021    Doe,Jane   $78.50  ?Satidfied\n",
       "2       2021-08-21  smith,Adam      $65     Neutral\n",
       "3       05/02/2021   Tuck,matt     $120    Unhappy-\n",
       "4       05/12/2021   James,Ben      NaN    Neutral0\n",
       "5       2021-10-11         NaN     $100     Neutral"
      ]
     },
     "execution_count": 130,
     "metadata": {},
     "output_type": "execute_result"
    }
   ],
   "source": [
    "df = pd.DataFrame({'Unnamed:0': [0,1,2,3,4,5,6],\n",
    "                  'Date': ['04/04/2021','april 17th,2021','2021-08-21','05/02/2021','05/12/2021','2021-10-11',np.nan],\n",
    "                  'Name': ['doe,john','Doe,Jane','smith,Adam','Tuck,matt','James,Ben',np.nan,np.nan],\n",
    "                  'Payment': ['$100,50','$78.50','$65','$120',np.nan,'$100',np.nan],\n",
    "                  'Note': ['Unhappy!','?Satidfied','Neutral','Unhappy-','Neutral0','Neutral',np.nan],\n",
    "                  'Remark':[np.nan,np.nan,np.nan,np.nan,np.nan,np.nan,np.nan]},\n",
    "#                  index = [0,1,2,3,4,5]\n",
    "                 )\n",
    "df.drop('Unnamed:0', axis=1, inplace=True)  \n",
    "df.dropna(axis=1,how='all', inplace=True)\n",
    "df.dropna(axis=0,how='all',inplace=True)\n",
    "df\n"
   ]
  },
  {
   "cell_type": "markdown",
   "id": "5f235ebc",
   "metadata": {},
   "source": [
    "#### 判断是否为空值"
   ]
  },
  {
   "cell_type": "code",
   "execution_count": 90,
   "id": "c2bfc0f3",
   "metadata": {
    "ExecuteTime": {
     "end_time": "2022-05-13T06:40:57.226909Z",
     "start_time": "2022-05-13T06:40:57.166736Z"
    }
   },
   "outputs": [
    {
     "data": {
      "text/html": [
       "<div>\n",
       "<style scoped>\n",
       "    .dataframe tbody tr th:only-of-type {\n",
       "        vertical-align: middle;\n",
       "    }\n",
       "\n",
       "    .dataframe tbody tr th {\n",
       "        vertical-align: top;\n",
       "    }\n",
       "\n",
       "    .dataframe thead th {\n",
       "        text-align: right;\n",
       "    }\n",
       "</style>\n",
       "<table border=\"1\" class=\"dataframe\">\n",
       "  <thead>\n",
       "    <tr style=\"text-align: right;\">\n",
       "      <th></th>\n",
       "      <th>Date</th>\n",
       "      <th>Name</th>\n",
       "      <th>Payment</th>\n",
       "      <th>Note</th>\n",
       "    </tr>\n",
       "  </thead>\n",
       "  <tbody>\n",
       "    <tr>\n",
       "      <th>0</th>\n",
       "      <td>04/04/2021</td>\n",
       "      <td>doe,john</td>\n",
       "      <td>$100,50</td>\n",
       "      <td>Unhappy!</td>\n",
       "    </tr>\n",
       "    <tr>\n",
       "      <th>1</th>\n",
       "      <td>april 17th,2021</td>\n",
       "      <td>Doe,Jane</td>\n",
       "      <td>$78.50</td>\n",
       "      <td>?Satidfied</td>\n",
       "    </tr>\n",
       "    <tr>\n",
       "      <th>2</th>\n",
       "      <td>2021-08-21</td>\n",
       "      <td>smith,Adam</td>\n",
       "      <td>$65</td>\n",
       "      <td>Neutral</td>\n",
       "    </tr>\n",
       "    <tr>\n",
       "      <th>3</th>\n",
       "      <td>05/02/2021</td>\n",
       "      <td>Tuck,matt</td>\n",
       "      <td>$120</td>\n",
       "      <td>Unhappy-</td>\n",
       "    </tr>\n",
       "    <tr>\n",
       "      <th>4</th>\n",
       "      <td>05/12/2021</td>\n",
       "      <td>James,Ben</td>\n",
       "      <td>$92</td>\n",
       "      <td>Neutral0</td>\n",
       "    </tr>\n",
       "  </tbody>\n",
       "</table>\n",
       "</div>"
      ],
      "text/plain": [
       "              Date        Name  Payment        Note\n",
       "0       04/04/2021    doe,john  $100,50    Unhappy!\n",
       "1  april 17th,2021    Doe,Jane   $78.50  ?Satidfied\n",
       "2       2021-08-21  smith,Adam      $65     Neutral\n",
       "3       05/02/2021   Tuck,matt     $120    Unhappy-\n",
       "4       05/12/2021   James,Ben      $92    Neutral0"
      ]
     },
     "execution_count": 90,
     "metadata": {},
     "output_type": "execute_result"
    }
   ],
   "source": [
    "# 判断是否为空值\n",
    "df['Name'].notna()   # 不是空值,显示True\n",
    "df['Name'].isna()  # 是空值,显示True\n"
   ]
  },
  {
   "cell_type": "markdown",
   "id": "34cb9573",
   "metadata": {},
   "source": [
    "#### 筛选出不为空的值"
   ]
  },
  {
   "cell_type": "code",
   "execution_count": 103,
   "id": "0ab3b638",
   "metadata": {
    "ExecuteTime": {
     "end_time": "2022-05-13T06:49:15.669715Z",
     "start_time": "2022-05-13T06:49:15.642047Z"
    }
   },
   "outputs": [
    {
     "data": {
      "text/html": [
       "<div>\n",
       "<style scoped>\n",
       "    .dataframe tbody tr th:only-of-type {\n",
       "        vertical-align: middle;\n",
       "    }\n",
       "\n",
       "    .dataframe tbody tr th {\n",
       "        vertical-align: top;\n",
       "    }\n",
       "\n",
       "    .dataframe thead th {\n",
       "        text-align: right;\n",
       "    }\n",
       "</style>\n",
       "<table border=\"1\" class=\"dataframe\">\n",
       "  <thead>\n",
       "    <tr style=\"text-align: right;\">\n",
       "      <th></th>\n",
       "      <th>Unnamed:0</th>\n",
       "      <th>Date</th>\n",
       "      <th>Name</th>\n",
       "      <th>Payment</th>\n",
       "      <th>Note</th>\n",
       "      <th>Remark</th>\n",
       "    </tr>\n",
       "  </thead>\n",
       "  <tbody>\n",
       "    <tr>\n",
       "      <th>5</th>\n",
       "      <td>5</td>\n",
       "      <td>2021-10-11</td>\n",
       "      <td>NaN</td>\n",
       "      <td>$100</td>\n",
       "      <td>Neutral</td>\n",
       "      <td>NaN</td>\n",
       "    </tr>\n",
       "    <tr>\n",
       "      <th>6</th>\n",
       "      <td>6</td>\n",
       "      <td>NaN</td>\n",
       "      <td>NaN</td>\n",
       "      <td>NaN</td>\n",
       "      <td>NaN</td>\n",
       "      <td>NaN</td>\n",
       "    </tr>\n",
       "  </tbody>\n",
       "</table>\n",
       "</div>"
      ],
      "text/plain": [
       "   Unnamed:0        Date Name Payment     Note  Remark\n",
       "5          5  2021-10-11  NaN    $100  Neutral     NaN\n",
       "6          6         NaN  NaN     NaN      NaN     NaN"
      ]
     },
     "execution_count": 103,
     "metadata": {},
     "output_type": "execute_result"
    }
   ],
   "source": [
    "df[df['Name'].notna()] # 筛选出Name不为空的数据\n",
    "df[df['Name'].isna()]  # 筛选出Name为空的数据"
   ]
  },
  {
   "cell_type": "markdown",
   "id": "feb3e5c5",
   "metadata": {},
   "source": [
    "#### 删除包含NAN的行列"
   ]
  },
  {
   "cell_type": "code",
   "execution_count": null,
   "id": "be57408c",
   "metadata": {},
   "outputs": [],
   "source": [
    "# 删除行列可以通过以下方式: \n",
    "df.dropna() # 一行中有一个空NaN就删除\n",
    "df.dropna(axis='columns') # 只保留全有值的列\n",
    "df.dropna(how='all') # 行或列全没值才删除\n",
    "df.dropna(thresh=2) # 至少有两个空值时才删除\n",
    "df.dropna(inplace=True) # 删除并生效替换"
   ]
  },
  {
   "cell_type": "markdown",
   "id": "bd6e4629",
   "metadata": {},
   "source": [
    "##### 删除所有存在NAN的行"
   ]
  },
  {
   "cell_type": "code",
   "execution_count": null,
   "id": "db01f469",
   "metadata": {},
   "outputs": [],
   "source": [
    "df.dropna()"
   ]
  },
  {
   "cell_type": "markdown",
   "id": "923a8f38",
   "metadata": {},
   "source": [
    "##### 删除指定列为空的行"
   ]
  },
  {
   "cell_type": "code",
   "execution_count": 127,
   "id": "c64dbd10",
   "metadata": {
    "ExecuteTime": {
     "end_time": "2022-05-13T07:00:56.165113Z",
     "start_time": "2022-05-13T07:00:56.131447Z"
    }
   },
   "outputs": [
    {
     "data": {
      "text/html": [
       "<div>\n",
       "<style scoped>\n",
       "    .dataframe tbody tr th:only-of-type {\n",
       "        vertical-align: middle;\n",
       "    }\n",
       "\n",
       "    .dataframe tbody tr th {\n",
       "        vertical-align: top;\n",
       "    }\n",
       "\n",
       "    .dataframe thead th {\n",
       "        text-align: right;\n",
       "    }\n",
       "</style>\n",
       "<table border=\"1\" class=\"dataframe\">\n",
       "  <thead>\n",
       "    <tr style=\"text-align: right;\">\n",
       "      <th></th>\n",
       "      <th>Date</th>\n",
       "      <th>Name</th>\n",
       "      <th>Payment</th>\n",
       "      <th>Note</th>\n",
       "    </tr>\n",
       "  </thead>\n",
       "  <tbody>\n",
       "    <tr>\n",
       "      <th>0</th>\n",
       "      <td>04/04/2021</td>\n",
       "      <td>doe,john</td>\n",
       "      <td>$100,50</td>\n",
       "      <td>Unhappy!</td>\n",
       "    </tr>\n",
       "    <tr>\n",
       "      <th>1</th>\n",
       "      <td>april 17th,2021</td>\n",
       "      <td>Doe,Jane</td>\n",
       "      <td>$78.50</td>\n",
       "      <td>?Satidfied</td>\n",
       "    </tr>\n",
       "    <tr>\n",
       "      <th>2</th>\n",
       "      <td>2021-08-21</td>\n",
       "      <td>smith,Adam</td>\n",
       "      <td>$65</td>\n",
       "      <td>Neutral</td>\n",
       "    </tr>\n",
       "    <tr>\n",
       "      <th>3</th>\n",
       "      <td>05/02/2021</td>\n",
       "      <td>Tuck,matt</td>\n",
       "      <td>$120</td>\n",
       "      <td>Unhappy-</td>\n",
       "    </tr>\n",
       "    <tr>\n",
       "      <th>4</th>\n",
       "      <td>05/12/2021</td>\n",
       "      <td>James,Ben</td>\n",
       "      <td>NaN</td>\n",
       "      <td>Neutral0</td>\n",
       "    </tr>\n",
       "  </tbody>\n",
       "</table>\n",
       "</div>"
      ],
      "text/plain": [
       "              Date        Name  Payment        Note\n",
       "0       04/04/2021    doe,john  $100,50    Unhappy!\n",
       "1  april 17th,2021    Doe,Jane   $78.50  ?Satidfied\n",
       "2       2021-08-21  smith,Adam      $65     Neutral\n",
       "3       05/02/2021   Tuck,matt     $120    Unhappy-\n",
       "4       05/12/2021   James,Ben      NaN    Neutral0"
      ]
     },
     "execution_count": 127,
     "metadata": {},
     "output_type": "execute_result"
    }
   ],
   "source": [
    "# 删除Name中包含NAN的行\n",
    "df.dropna(axis=0,subset=[\"Name\"], inplace= True)\n",
    "df"
   ]
  },
  {
   "cell_type": "markdown",
   "id": "62e6e629",
   "metadata": {
    "ExecuteTime": {
     "end_time": "2022-05-13T06:54:47.061692Z",
     "start_time": "2022-05-13T06:54:47.037864Z"
    }
   },
   "source": [
    "#### NAN填充"
   ]
  },
  {
   "cell_type": "code",
   "execution_count": 131,
   "id": "0ba7a713",
   "metadata": {
    "ExecuteTime": {
     "end_time": "2022-05-13T07:06:42.285149Z",
     "start_time": "2022-05-13T07:06:42.260983Z"
    }
   },
   "outputs": [
    {
     "data": {
      "text/html": [
       "<div>\n",
       "<style scoped>\n",
       "    .dataframe tbody tr th:only-of-type {\n",
       "        vertical-align: middle;\n",
       "    }\n",
       "\n",
       "    .dataframe tbody tr th {\n",
       "        vertical-align: top;\n",
       "    }\n",
       "\n",
       "    .dataframe thead th {\n",
       "        text-align: right;\n",
       "    }\n",
       "</style>\n",
       "<table border=\"1\" class=\"dataframe\">\n",
       "  <thead>\n",
       "    <tr style=\"text-align: right;\">\n",
       "      <th></th>\n",
       "      <th>Date</th>\n",
       "      <th>Name</th>\n",
       "      <th>Payment</th>\n",
       "      <th>Note</th>\n",
       "    </tr>\n",
       "  </thead>\n",
       "  <tbody>\n",
       "    <tr>\n",
       "      <th>0</th>\n",
       "      <td>04/04/2021</td>\n",
       "      <td>doe,john</td>\n",
       "      <td>$100,50</td>\n",
       "      <td>Unhappy!</td>\n",
       "    </tr>\n",
       "    <tr>\n",
       "      <th>1</th>\n",
       "      <td>april 17th,2021</td>\n",
       "      <td>Doe,Jane</td>\n",
       "      <td>$78.50</td>\n",
       "      <td>?Satidfied</td>\n",
       "    </tr>\n",
       "    <tr>\n",
       "      <th>2</th>\n",
       "      <td>2021-08-21</td>\n",
       "      <td>smith,Adam</td>\n",
       "      <td>$65</td>\n",
       "      <td>Neutral</td>\n",
       "    </tr>\n",
       "    <tr>\n",
       "      <th>3</th>\n",
       "      <td>05/02/2021</td>\n",
       "      <td>Tuck,matt</td>\n",
       "      <td>$120</td>\n",
       "      <td>Unhappy-</td>\n",
       "    </tr>\n",
       "    <tr>\n",
       "      <th>4</th>\n",
       "      <td>05/12/2021</td>\n",
       "      <td>James,Ben</td>\n",
       "      <td>NaN</td>\n",
       "      <td>Neutral0</td>\n",
       "    </tr>\n",
       "    <tr>\n",
       "      <th>5</th>\n",
       "      <td>2021-10-11</td>\n",
       "      <td>NaN</td>\n",
       "      <td>$100</td>\n",
       "      <td>Neutral</td>\n",
       "    </tr>\n",
       "  </tbody>\n",
       "</table>\n",
       "</div>"
      ],
      "text/plain": [
       "              Date        Name  Payment        Note\n",
       "0       04/04/2021    doe,john  $100,50    Unhappy!\n",
       "1  april 17th,2021    Doe,Jane   $78.50  ?Satidfied\n",
       "2       2021-08-21  smith,Adam      $65     Neutral\n",
       "3       05/02/2021   Tuck,matt     $120    Unhappy-\n",
       "4       05/12/2021   James,Ben      NaN    Neutral0\n",
       "5       2021-10-11         NaN     $100     Neutral"
      ]
     },
     "execution_count": 131,
     "metadata": {},
     "output_type": "execute_result"
    }
   ],
   "source": [
    "# fillna(x) 可以将缺失值填充指定的值。\n",
    "df"
   ]
  },
  {
   "cell_type": "markdown",
   "id": "796ae659",
   "metadata": {},
   "source": [
    "##### 填充固定值"
   ]
  },
  {
   "cell_type": "code",
   "execution_count": 133,
   "id": "bb94da42",
   "metadata": {
    "ExecuteTime": {
     "end_time": "2022-05-13T07:11:55.634352Z",
     "start_time": "2022-05-13T07:11:55.601499Z"
    }
   },
   "outputs": [
    {
     "data": {
      "text/html": [
       "<div>\n",
       "<style scoped>\n",
       "    .dataframe tbody tr th:only-of-type {\n",
       "        vertical-align: middle;\n",
       "    }\n",
       "\n",
       "    .dataframe tbody tr th {\n",
       "        vertical-align: top;\n",
       "    }\n",
       "\n",
       "    .dataframe thead th {\n",
       "        text-align: right;\n",
       "    }\n",
       "</style>\n",
       "<table border=\"1\" class=\"dataframe\">\n",
       "  <thead>\n",
       "    <tr style=\"text-align: right;\">\n",
       "      <th></th>\n",
       "      <th>Date</th>\n",
       "      <th>Name</th>\n",
       "      <th>Payment</th>\n",
       "      <th>Note</th>\n",
       "    </tr>\n",
       "  </thead>\n",
       "  <tbody>\n",
       "    <tr>\n",
       "      <th>0</th>\n",
       "      <td>04/04/2021</td>\n",
       "      <td>doe,john</td>\n",
       "      <td>$100,50</td>\n",
       "      <td>Unhappy!</td>\n",
       "    </tr>\n",
       "    <tr>\n",
       "      <th>1</th>\n",
       "      <td>april 17th,2021</td>\n",
       "      <td>Doe,Jane</td>\n",
       "      <td>$78.50</td>\n",
       "      <td>?Satidfied</td>\n",
       "    </tr>\n",
       "    <tr>\n",
       "      <th>2</th>\n",
       "      <td>2021-08-21</td>\n",
       "      <td>smith,Adam</td>\n",
       "      <td>$65</td>\n",
       "      <td>Neutral</td>\n",
       "    </tr>\n",
       "    <tr>\n",
       "      <th>3</th>\n",
       "      <td>05/02/2021</td>\n",
       "      <td>Tuck,matt</td>\n",
       "      <td>$120</td>\n",
       "      <td>Unhappy-</td>\n",
       "    </tr>\n",
       "    <tr>\n",
       "      <th>4</th>\n",
       "      <td>05/12/2021</td>\n",
       "      <td>James,Ben</td>\n",
       "      <td>$90</td>\n",
       "      <td>Neutral0</td>\n",
       "    </tr>\n",
       "    <tr>\n",
       "      <th>5</th>\n",
       "      <td>2021-10-11</td>\n",
       "      <td>James,matt</td>\n",
       "      <td>$100</td>\n",
       "      <td>Neutral</td>\n",
       "    </tr>\n",
       "  </tbody>\n",
       "</table>\n",
       "</div>"
      ],
      "text/plain": [
       "              Date        Name  Payment        Note\n",
       "0       04/04/2021    doe,john  $100,50    Unhappy!\n",
       "1  april 17th,2021    Doe,Jane   $78.50  ?Satidfied\n",
       "2       2021-08-21  smith,Adam      $65     Neutral\n",
       "3       05/02/2021   Tuck,matt     $120    Unhappy-\n",
       "4       05/12/2021   James,Ben      $90    Neutral0\n",
       "5       2021-10-11  James,matt     $100     Neutral"
      ]
     },
     "execution_count": 133,
     "metadata": {},
     "output_type": "execute_result"
    }
   ],
   "source": [
    "# 填充(4, Payment为例)\n",
    "\n",
    "df.fillna(0)# 填充为0\n",
    "\n",
    "df.fillna('$90') # 填充指定字符\n",
    "\n",
    "df['Payment'].fillna('$90') # 指定字段(列),填充指定字符\n",
    "\n",
    "# df.fillna(xxx, inplace=Ture) # 填充内容生效\n",
    "\n",
    "df.fillna(0, limit=1)  # 只替换第一个\n",
    "\n",
    "# 不同列替换不同的值\n",
    "values = {'Name': 'James,matt', 'Payment': '$90'}\n",
    "df.fillna(value=values)"
   ]
  },
  {
   "cell_type": "markdown",
   "id": "18f868ca",
   "metadata": {},
   "source": [
    "##### 填充已有的值"
   ]
  },
  {
   "cell_type": "code",
   "execution_count": null,
   "id": "d0d0bf29",
   "metadata": {},
   "outputs": [],
   "source": [
    "# pad / ffill：向前填充\n",
    "# bfill / backfill：向后填充"
   ]
  },
  {
   "cell_type": "code",
   "execution_count": null,
   "id": "c5106f0e",
   "metadata": {},
   "outputs": [],
   "source": [
    "# bfill / backfill,使用上一个有效值填充,作用一样\n",
    "df.fillna(method='backfill')\n",
    "df.fillna(method='bfill')\n",
    "\n",
    "df.fillna(method='bfill').head(1).iloc[0] # 填充第一个非空值\n",
    "\n",
    "\n",
    "# pad / ffill, 把当前值广播到后边的缺失值,作用一样\n",
    "df.fillna(method='pad')\n",
    "df.fillna(method='ffill')"
   ]
  },
  {
   "cell_type": "markdown",
   "id": "13ff70a8",
   "metadata": {},
   "source": [
    "##### 填充计算值"
   ]
  },
  {
   "cell_type": "code",
   "execution_count": null,
   "id": "5d198f22",
   "metadata": {},
   "outputs": [],
   "source": [
    "# 填充列的平均值\n",
    "df.fillna(df.mean())\n",
    "\n",
    "# 对指定列填充平均值\n",
    "df.fillna(df.mean()['B':'C'])\n",
    "df.fillna(df.mean()['B':'C'])\n",
    "\n",
    "# 填充列的平均值，另外一个方法\n",
    "df.where(pd.notna(df), df.mean(), axis='columns')\n"
   ]
  },
  {
   "cell_type": "markdown",
   "id": "bfd2c7f2",
   "metadata": {},
   "source": [
    "## 统一格式"
   ]
  },
  {
   "cell_type": "markdown",
   "id": "39d96d5c",
   "metadata": {},
   "source": [
    "### 统一时间格式"
   ]
  },
  {
   "cell_type": "code",
   "execution_count": null,
   "id": "ae756b3f",
   "metadata": {
    "ExecuteTime": {
     "end_time": "2022-05-13T02:42:33.786676Z",
     "start_time": "2022-05-13T02:42:33.780804Z"
    }
   },
   "outputs": [],
   "source": [
    "# 我们有多种选择将日期值转换为适当的格式。一种更简单的方法是使用 astype 函数来更改列的数据类型。 \n",
    "# 它能够处理范围广泛的值并将它们转换为整洁、标准的日期格式。"
   ]
  },
  {
   "cell_type": "code",
   "execution_count": 5,
   "id": "631a872e",
   "metadata": {
    "ExecuteTime": {
     "end_time": "2022-05-13T02:55:10.711695Z",
     "start_time": "2022-05-13T02:55:10.701327Z"
    }
   },
   "outputs": [],
   "source": [
    "df['Date'] = df['Date'].astype('datetime64[ns]')"
   ]
  },
  {
   "cell_type": "code",
   "execution_count": 6,
   "id": "0d2bd34b",
   "metadata": {
    "ExecuteTime": {
     "end_time": "2022-05-13T02:55:11.363118Z",
     "start_time": "2022-05-13T02:55:11.329646Z"
    }
   },
   "outputs": [
    {
     "data": {
      "text/html": [
       "<div>\n",
       "<style scoped>\n",
       "    .dataframe tbody tr th:only-of-type {\n",
       "        vertical-align: middle;\n",
       "    }\n",
       "\n",
       "    .dataframe tbody tr th {\n",
       "        vertical-align: top;\n",
       "    }\n",
       "\n",
       "    .dataframe thead th {\n",
       "        text-align: right;\n",
       "    }\n",
       "</style>\n",
       "<table border=\"1\" class=\"dataframe\">\n",
       "  <thead>\n",
       "    <tr style=\"text-align: right;\">\n",
       "      <th></th>\n",
       "      <th>Date</th>\n",
       "      <th>Name</th>\n",
       "      <th>Payment</th>\n",
       "      <th>Note</th>\n",
       "      <th>Remark</th>\n",
       "    </tr>\n",
       "  </thead>\n",
       "  <tbody>\n",
       "    <tr>\n",
       "      <th>0</th>\n",
       "      <td>2021-04-04</td>\n",
       "      <td>doe,john</td>\n",
       "      <td>$100,50</td>\n",
       "      <td>Unhappy!</td>\n",
       "      <td>NaN</td>\n",
       "    </tr>\n",
       "    <tr>\n",
       "      <th>1</th>\n",
       "      <td>2021-04-17</td>\n",
       "      <td>Doe,Jane</td>\n",
       "      <td>$78.50</td>\n",
       "      <td>?Satidfied</td>\n",
       "      <td>NaN</td>\n",
       "    </tr>\n",
       "    <tr>\n",
       "      <th>2</th>\n",
       "      <td>2021-08-21</td>\n",
       "      <td>smith,Adam</td>\n",
       "      <td>$65</td>\n",
       "      <td>Neutral</td>\n",
       "      <td>NaN</td>\n",
       "    </tr>\n",
       "    <tr>\n",
       "      <th>3</th>\n",
       "      <td>2021-05-02</td>\n",
       "      <td>Tuck,matt</td>\n",
       "      <td>$120</td>\n",
       "      <td>Unhappy-</td>\n",
       "      <td>NaN</td>\n",
       "    </tr>\n",
       "    <tr>\n",
       "      <th>4</th>\n",
       "      <td>2021-05-12</td>\n",
       "      <td>James,Ben</td>\n",
       "      <td>NaN</td>\n",
       "      <td>Neutral0</td>\n",
       "      <td>NaN</td>\n",
       "    </tr>\n",
       "    <tr>\n",
       "      <th>5</th>\n",
       "      <td>2021-10-11</td>\n",
       "      <td>NaN</td>\n",
       "      <td>$100</td>\n",
       "      <td>Neutral</td>\n",
       "      <td>NaN</td>\n",
       "    </tr>\n",
       "    <tr>\n",
       "      <th>6</th>\n",
       "      <td>NaT</td>\n",
       "      <td>NaN</td>\n",
       "      <td>NaN</td>\n",
       "      <td>NaN</td>\n",
       "      <td>NaN</td>\n",
       "    </tr>\n",
       "  </tbody>\n",
       "</table>\n",
       "</div>"
      ],
      "text/plain": [
       "        Date        Name  Payment        Note  Remark\n",
       "0 2021-04-04    doe,john  $100,50    Unhappy!     NaN\n",
       "1 2021-04-17    Doe,Jane   $78.50  ?Satidfied     NaN\n",
       "2 2021-08-21  smith,Adam      $65     Neutral     NaN\n",
       "3 2021-05-02   Tuck,matt     $120    Unhappy-     NaN\n",
       "4 2021-05-12   James,Ben      NaN    Neutral0     NaN\n",
       "5 2021-10-11         NaN     $100     Neutral     NaN\n",
       "6        NaT         NaN      NaN         NaN     NaN"
      ]
     },
     "execution_count": 6,
     "metadata": {},
     "output_type": "execute_result"
    }
   ],
   "source": [
    "df"
   ]
  },
  {
   "cell_type": "code",
   "execution_count": 47,
   "id": "80261fd9",
   "metadata": {},
   "outputs": [
    {
     "data": {
      "text/plain": [
       "0    20191209\n",
       "1    20191202\n",
       "Name: year-month-day, dtype: object"
      ]
     },
     "execution_count": 47,
     "metadata": {},
     "output_type": "execute_result"
    }
   ],
   "source": [
    "# 2\n",
    "df = pd.DataFrame(['2019-12-09', '2019-12-02'], columns=[\"date\"])\n",
    "df \n",
    "\n",
    "# 转换为时间\n",
    "df[\"date\"] = pd.to_datetime(df[\"date\"])\n",
    "# 获取年月日\n",
    "df[\"year-month-day\"] = df[\"date\"].apply(lambda x: x.strftime(\"%Y%m%d\"))\n",
    "df[\"year-month-day\"]"
   ]
  },
  {
   "cell_type": "markdown",
   "id": "31b85a2f",
   "metadata": {},
   "source": [
    "### 统一姓名格式"
   ]
  },
  {
   "cell_type": "code",
   "execution_count": null,
   "id": "7c80972b",
   "metadata": {
    "ExecuteTime": {
     "end_time": "2022-05-13T02:55:12.548308Z",
     "start_time": "2022-05-13T02:55:12.538502Z"
    }
   },
   "outputs": [],
   "source": [
    "# 首先我们应该用所有大写或小写字母来表示它们。\n",
    "# 另一种选择是将它们大写（即只有首字母是大写的）；\n",
    "# 切换姓氏和名字的顺序；"
   ]
  },
  {
   "cell_type": "code",
   "execution_count": 7,
   "id": "c7aa3f1d",
   "metadata": {
    "ExecuteTime": {
     "end_time": "2022-05-13T03:04:58.292147Z",
     "start_time": "2022-05-13T03:04:58.268167Z"
    }
   },
   "outputs": [
    {
     "data": {
      "text/html": [
       "<div>\n",
       "<style scoped>\n",
       "    .dataframe tbody tr th:only-of-type {\n",
       "        vertical-align: middle;\n",
       "    }\n",
       "\n",
       "    .dataframe tbody tr th {\n",
       "        vertical-align: top;\n",
       "    }\n",
       "\n",
       "    .dataframe thead th {\n",
       "        text-align: right;\n",
       "    }\n",
       "</style>\n",
       "<table border=\"1\" class=\"dataframe\">\n",
       "  <thead>\n",
       "    <tr style=\"text-align: right;\">\n",
       "      <th></th>\n",
       "      <th>0</th>\n",
       "    </tr>\n",
       "  </thead>\n",
       "  <tbody>\n",
       "    <tr>\n",
       "      <th>0</th>\n",
       "      <td>doe,john</td>\n",
       "    </tr>\n",
       "    <tr>\n",
       "      <th>1</th>\n",
       "      <td>Doe,Jane</td>\n",
       "    </tr>\n",
       "    <tr>\n",
       "      <th>2</th>\n",
       "      <td>smith,Adam</td>\n",
       "    </tr>\n",
       "    <tr>\n",
       "      <th>3</th>\n",
       "      <td>Tuck,matt</td>\n",
       "    </tr>\n",
       "    <tr>\n",
       "      <th>4</th>\n",
       "      <td>James,Ben</td>\n",
       "    </tr>\n",
       "    <tr>\n",
       "      <th>5</th>\n",
       "      <td>NaN</td>\n",
       "    </tr>\n",
       "    <tr>\n",
       "      <th>6</th>\n",
       "      <td>NaN</td>\n",
       "    </tr>\n",
       "  </tbody>\n",
       "</table>\n",
       "</div>"
      ],
      "text/plain": [
       "            0\n",
       "0    doe,john\n",
       "1    Doe,Jane\n",
       "2  smith,Adam\n",
       "3   Tuck,matt\n",
       "4   James,Ben\n",
       "5         NaN\n",
       "6         NaN"
      ]
     },
     "execution_count": 7,
     "metadata": {},
     "output_type": "execute_result"
    }
   ],
   "source": [
    "# 将名字和姓氏分开\n",
    "# df['Name'].str.split(',',expand = True)\n",
    "\n",
    "df['Name'].str.split(expand = True)"
   ]
  },
  {
   "cell_type": "code",
   "execution_count": 8,
   "id": "4f4c701a",
   "metadata": {
    "ExecuteTime": {
     "end_time": "2022-05-13T03:05:17.097958Z",
     "start_time": "2022-05-13T03:05:17.081488Z"
    }
   },
   "outputs": [
    {
     "ename": "KeyError",
     "evalue": "1",
     "output_type": "error",
     "traceback": [
      "\u001b[1;31m---------------------------------------------------------------------------\u001b[0m",
      "\u001b[1;31mValueError\u001b[0m                                Traceback (most recent call last)",
      "File \u001b[1;32mD:\\ProgramData\\Anaconda3\\lib\\site-packages\\pandas\\core\\indexes\\range.py:385\u001b[0m, in \u001b[0;36mRangeIndex.get_loc\u001b[1;34m(self, key, method, tolerance)\u001b[0m\n\u001b[0;32m    384\u001b[0m \u001b[38;5;28;01mtry\u001b[39;00m:\n\u001b[1;32m--> 385\u001b[0m     \u001b[38;5;28;01mreturn\u001b[39;00m \u001b[38;5;28;43mself\u001b[39;49m\u001b[38;5;241;43m.\u001b[39;49m\u001b[43m_range\u001b[49m\u001b[38;5;241;43m.\u001b[39;49m\u001b[43mindex\u001b[49m\u001b[43m(\u001b[49m\u001b[43mnew_key\u001b[49m\u001b[43m)\u001b[49m\n\u001b[0;32m    386\u001b[0m \u001b[38;5;28;01mexcept\u001b[39;00m \u001b[38;5;167;01mValueError\u001b[39;00m \u001b[38;5;28;01mas\u001b[39;00m err:\n",
      "\u001b[1;31mValueError\u001b[0m: 1 is not in range",
      "\nThe above exception was the direct cause of the following exception:\n",
      "\u001b[1;31mKeyError\u001b[0m                                  Traceback (most recent call last)",
      "Input \u001b[1;32mIn [8]\u001b[0m, in \u001b[0;36m<cell line: 4>\u001b[1;34m()\u001b[0m\n\u001b[0;32m      1\u001b[0m \u001b[38;5;66;03m# 取第二列与第一列结合起来，中间有一个空格。\u001b[39;00m\n\u001b[0;32m      2\u001b[0m \u001b[38;5;66;03m# 最后一步是使用 lower 函数将字母转换为小写。\u001b[39;00m\n\u001b[1;32m----> 4\u001b[0m df[\u001b[38;5;124m'\u001b[39m\u001b[38;5;124mName\u001b[39m\u001b[38;5;124m'\u001b[39m] \u001b[38;5;241m=\u001b[39m (\u001b[43mdf\u001b[49m\u001b[43m[\u001b[49m\u001b[38;5;124;43m'\u001b[39;49m\u001b[38;5;124;43mName\u001b[39;49m\u001b[38;5;124;43m'\u001b[39;49m\u001b[43m]\u001b[49m\u001b[38;5;241;43m.\u001b[39;49m\u001b[43mstr\u001b[49m\u001b[38;5;241;43m.\u001b[39;49m\u001b[43msplit\u001b[49m\u001b[43m(\u001b[49m\u001b[43mexpand\u001b[49m\u001b[43m \u001b[49m\u001b[38;5;241;43m=\u001b[39;49m\u001b[43m \u001b[49m\u001b[38;5;28;43;01mTrue\u001b[39;49;00m\u001b[43m)\u001b[49m\u001b[43m[\u001b[49m\u001b[38;5;241;43m1\u001b[39;49m\u001b[43m]\u001b[49m \n\u001b[0;32m      5\u001b[0m              \u001b[38;5;241m+\u001b[39m \n\u001b[0;32m      6\u001b[0m              \u001b[38;5;124m'\u001b[39m\u001b[38;5;124m \u001b[39m\u001b[38;5;124m'\u001b[39m\n\u001b[0;32m      7\u001b[0m              \u001b[38;5;241m+\u001b[39m \n\u001b[0;32m      8\u001b[0m              df[\u001b[38;5;124m'\u001b[39m\u001b[38;5;124mName\u001b[39m\u001b[38;5;124m'\u001b[39m]\u001b[38;5;241m.\u001b[39mstr\u001b[38;5;241m.\u001b[39msplit(expand \u001b[38;5;241m=\u001b[39m \u001b[38;5;28;01mTrue\u001b[39;00m)[\u001b[38;5;241m0\u001b[39m])\u001b[38;5;241m.\u001b[39mstr\u001b[38;5;241m.\u001b[39mlower()\n",
      "File \u001b[1;32mD:\\ProgramData\\Anaconda3\\lib\\site-packages\\pandas\\core\\frame.py:3505\u001b[0m, in \u001b[0;36mDataFrame.__getitem__\u001b[1;34m(self, key)\u001b[0m\n\u001b[0;32m   3503\u001b[0m \u001b[38;5;28;01mif\u001b[39;00m \u001b[38;5;28mself\u001b[39m\u001b[38;5;241m.\u001b[39mcolumns\u001b[38;5;241m.\u001b[39mnlevels \u001b[38;5;241m>\u001b[39m \u001b[38;5;241m1\u001b[39m:\n\u001b[0;32m   3504\u001b[0m     \u001b[38;5;28;01mreturn\u001b[39;00m \u001b[38;5;28mself\u001b[39m\u001b[38;5;241m.\u001b[39m_getitem_multilevel(key)\n\u001b[1;32m-> 3505\u001b[0m indexer \u001b[38;5;241m=\u001b[39m \u001b[38;5;28;43mself\u001b[39;49m\u001b[38;5;241;43m.\u001b[39;49m\u001b[43mcolumns\u001b[49m\u001b[38;5;241;43m.\u001b[39;49m\u001b[43mget_loc\u001b[49m\u001b[43m(\u001b[49m\u001b[43mkey\u001b[49m\u001b[43m)\u001b[49m\n\u001b[0;32m   3506\u001b[0m \u001b[38;5;28;01mif\u001b[39;00m is_integer(indexer):\n\u001b[0;32m   3507\u001b[0m     indexer \u001b[38;5;241m=\u001b[39m [indexer]\n",
      "File \u001b[1;32mD:\\ProgramData\\Anaconda3\\lib\\site-packages\\pandas\\core\\indexes\\range.py:387\u001b[0m, in \u001b[0;36mRangeIndex.get_loc\u001b[1;34m(self, key, method, tolerance)\u001b[0m\n\u001b[0;32m    385\u001b[0m         \u001b[38;5;28;01mreturn\u001b[39;00m \u001b[38;5;28mself\u001b[39m\u001b[38;5;241m.\u001b[39m_range\u001b[38;5;241m.\u001b[39mindex(new_key)\n\u001b[0;32m    386\u001b[0m     \u001b[38;5;28;01mexcept\u001b[39;00m \u001b[38;5;167;01mValueError\u001b[39;00m \u001b[38;5;28;01mas\u001b[39;00m err:\n\u001b[1;32m--> 387\u001b[0m         \u001b[38;5;28;01mraise\u001b[39;00m \u001b[38;5;167;01mKeyError\u001b[39;00m(key) \u001b[38;5;28;01mfrom\u001b[39;00m \u001b[38;5;21;01merr\u001b[39;00m\n\u001b[0;32m    388\u001b[0m \u001b[38;5;28mself\u001b[39m\u001b[38;5;241m.\u001b[39m_check_indexing_error(key)\n\u001b[0;32m    389\u001b[0m \u001b[38;5;28;01mraise\u001b[39;00m \u001b[38;5;167;01mKeyError\u001b[39;00m(key)\n",
      "\u001b[1;31mKeyError\u001b[0m: 1"
     ]
    }
   ],
   "source": [
    "# 取第二列与第一列结合起来，中间有一个空格。\n",
    "# 最后一步是使用 lower 函数将字母转换为小写。\n",
    "\n",
    "df['Name'] = (df['Name'].str.split(expand = True)[1] \n",
    "             + \n",
    "             ' '\n",
    "             + \n",
    "             df['Name'].str.split(expand = True)[0]).str.lower()\n"
   ]
  },
  {
   "cell_type": "code",
   "execution_count": null,
   "id": "269ffc70",
   "metadata": {
    "ExecuteTime": {
     "end_time": "2022-05-13T03:05:19.548154Z",
     "start_time": "2022-05-13T03:05:19.513026Z"
    }
   },
   "outputs": [],
   "source": [
    "df"
   ]
  },
  {
   "cell_type": "markdown",
   "id": "57482aab",
   "metadata": {},
   "source": [
    "## 数据类型的转换"
   ]
  },
  {
   "cell_type": "code",
   "execution_count": null,
   "id": "010ee129",
   "metadata": {
    "ExecuteTime": {
     "end_time": "2022-05-13T03:11:26.841299Z",
     "start_time": "2022-05-13T03:11:26.827821Z"
    }
   },
   "outputs": [],
   "source": [
    "# 支付Payment的数据类型是不能用于数值分析的。\n",
    "# 在将其转换为数字数据类型(即整数或浮点数)之前，我们需要删除美元符号并将第一行中的逗号替换为点。\n",
    "\n",
    "# 关于数值,建议统一为float数据格式,便于计算\n",
    "df['Payment'] = df['Payment'].str[1:].str.replace(',','.').astype('float')"
   ]
  },
  {
   "cell_type": "code",
   "execution_count": null,
   "id": "7a7e4261",
   "metadata": {
    "ExecuteTime": {
     "end_time": "2022-05-13T03:11:33.736523Z",
     "start_time": "2022-05-13T03:11:33.708414Z"
    }
   },
   "outputs": [],
   "source": [
    "df"
   ]
  },
  {
   "cell_type": "markdown",
   "id": "bb34c877",
   "metadata": {},
   "source": [
    "##  删除冗余字符"
   ]
  },
  {
   "cell_type": "code",
   "execution_count": null,
   "id": "631efffd",
   "metadata": {
    "ExecuteTime": {
     "end_time": "2022-05-13T03:20:18.306002Z",
     "start_time": "2022-05-13T03:20:18.300787Z"
    }
   },
   "outputs": [],
   "source": [
    "# Note 列中的一些字符也需要删除。在处理大型数据集时，可能很难手动替换它们。\n",
    "# 我们可以做的是删除非字母数字字符（例如？、！、-、. 等）。在这种情况下也可以使用 replace 函数，因为它接受正则表达式。"
   ]
  },
  {
   "cell_type": "code",
   "execution_count": 9,
   "id": "f2a37fc2",
   "metadata": {
    "ExecuteTime": {
     "end_time": "2022-05-13T03:16:03.307592Z",
     "start_time": "2022-05-13T03:16:03.270108Z"
    }
   },
   "outputs": [
    {
     "name": "stderr",
     "output_type": "stream",
     "text": [
      "C:\\Users\\10191977\\AppData\\Local\\Temp\\ipykernel_7104\\3524251737.py:2: FutureWarning: The default value of regex will change from True to False in a future version.\n",
      "  df['Note'].str.replace('[^a-zA-Z]', ' ')  # ^a-zA-Z 表示非大小写字母\n"
     ]
    },
    {
     "data": {
      "text/plain": [
       "0      Unhappy \n",
       "1     Satidfied\n",
       "2       Neutral\n",
       "3      Unhappy \n",
       "4      Neutral \n",
       "5       Neutral\n",
       "6           NaN\n",
       "Name: Note, dtype: object"
      ]
     },
     "execution_count": 9,
     "metadata": {},
     "output_type": "execute_result"
    }
   ],
   "source": [
    "# 如果我们只想要字母字符：\n",
    "df['Note'].str.replace('[^a-zA-Z]', ' ')  # ^a-zA-Z 表示非大小写字母"
   ]
  },
  {
   "cell_type": "code",
   "execution_count": 10,
   "id": "3b15b9de",
   "metadata": {
    "ExecuteTime": {
     "end_time": "2022-05-13T03:17:56.291522Z",
     "start_time": "2022-05-13T03:17:56.272486Z"
    }
   },
   "outputs": [
    {
     "name": "stderr",
     "output_type": "stream",
     "text": [
      "C:\\Users\\10191977\\AppData\\Local\\Temp\\ipykernel_7104\\2278177357.py:2: FutureWarning: The default value of regex will change from True to False in a future version.\n",
      "  df['Note'].str.replace('[^a-zA-Z0-9]', ' ')  # ^a-zA-Z 表示非大小写字母\n"
     ]
    },
    {
     "data": {
      "text/plain": [
       "0      Unhappy \n",
       "1     Satidfied\n",
       "2       Neutral\n",
       "3      Unhappy \n",
       "4      Neutral0\n",
       "5       Neutral\n",
       "6           NaN\n",
       "Name: Note, dtype: object"
      ]
     },
     "execution_count": 10,
     "metadata": {},
     "output_type": "execute_result"
    }
   ],
   "source": [
    "# 如果我们想要字母和数字,我们需要在我们的正则表达式中添加数字：\n",
    "df['Note'].str.replace('[^a-zA-Z0-9]', ' ')  # ^a-zA-Z 表示非大小写字母"
   ]
  },
  {
   "cell_type": "code",
   "execution_count": 11,
   "id": "94ecd0d5",
   "metadata": {
    "ExecuteTime": {
     "end_time": "2022-05-13T03:19:40.120060Z",
     "start_time": "2022-05-13T03:19:40.097031Z"
    }
   },
   "outputs": [
    {
     "name": "stderr",
     "output_type": "stream",
     "text": [
      "C:\\Users\\10191977\\AppData\\Local\\Temp\\ipykernel_7104\\3465157137.py:2: FutureWarning: The default value of regex will change from True to False in a future version.\n",
      "  df['Note'] = df['Note'].str.replace('[^a-zA-Z]',' ').str.lower()\n"
     ]
    }
   ],
   "source": [
    "# 将结果统一为小写字母\n",
    "df['Note'] = df['Note'].str.replace('[^a-zA-Z]',' ').str.lower()"
   ]
  },
  {
   "cell_type": "code",
   "execution_count": 12,
   "id": "d2f903d1",
   "metadata": {
    "ExecuteTime": {
     "end_time": "2022-05-13T03:19:45.827313Z",
     "start_time": "2022-05-13T03:19:45.787696Z"
    }
   },
   "outputs": [
    {
     "data": {
      "text/html": [
       "<div>\n",
       "<style scoped>\n",
       "    .dataframe tbody tr th:only-of-type {\n",
       "        vertical-align: middle;\n",
       "    }\n",
       "\n",
       "    .dataframe tbody tr th {\n",
       "        vertical-align: top;\n",
       "    }\n",
       "\n",
       "    .dataframe thead th {\n",
       "        text-align: right;\n",
       "    }\n",
       "</style>\n",
       "<table border=\"1\" class=\"dataframe\">\n",
       "  <thead>\n",
       "    <tr style=\"text-align: right;\">\n",
       "      <th></th>\n",
       "      <th>Date</th>\n",
       "      <th>Name</th>\n",
       "      <th>Payment</th>\n",
       "      <th>Note</th>\n",
       "      <th>Remark</th>\n",
       "    </tr>\n",
       "  </thead>\n",
       "  <tbody>\n",
       "    <tr>\n",
       "      <th>0</th>\n",
       "      <td>2021-04-04</td>\n",
       "      <td>doe,john</td>\n",
       "      <td>$100,50</td>\n",
       "      <td>unhappy</td>\n",
       "      <td>NaN</td>\n",
       "    </tr>\n",
       "    <tr>\n",
       "      <th>1</th>\n",
       "      <td>2021-04-17</td>\n",
       "      <td>Doe,Jane</td>\n",
       "      <td>$78.50</td>\n",
       "      <td>satidfied</td>\n",
       "      <td>NaN</td>\n",
       "    </tr>\n",
       "    <tr>\n",
       "      <th>2</th>\n",
       "      <td>2021-08-21</td>\n",
       "      <td>smith,Adam</td>\n",
       "      <td>$65</td>\n",
       "      <td>neutral</td>\n",
       "      <td>NaN</td>\n",
       "    </tr>\n",
       "    <tr>\n",
       "      <th>3</th>\n",
       "      <td>2021-05-02</td>\n",
       "      <td>Tuck,matt</td>\n",
       "      <td>$120</td>\n",
       "      <td>unhappy</td>\n",
       "      <td>NaN</td>\n",
       "    </tr>\n",
       "    <tr>\n",
       "      <th>4</th>\n",
       "      <td>2021-05-12</td>\n",
       "      <td>James,Ben</td>\n",
       "      <td>NaN</td>\n",
       "      <td>neutral</td>\n",
       "      <td>NaN</td>\n",
       "    </tr>\n",
       "    <tr>\n",
       "      <th>5</th>\n",
       "      <td>2021-10-11</td>\n",
       "      <td>NaN</td>\n",
       "      <td>$100</td>\n",
       "      <td>neutral</td>\n",
       "      <td>NaN</td>\n",
       "    </tr>\n",
       "    <tr>\n",
       "      <th>6</th>\n",
       "      <td>NaT</td>\n",
       "      <td>NaN</td>\n",
       "      <td>NaN</td>\n",
       "      <td>NaN</td>\n",
       "      <td>NaN</td>\n",
       "    </tr>\n",
       "  </tbody>\n",
       "</table>\n",
       "</div>"
      ],
      "text/plain": [
       "        Date        Name  Payment        Note  Remark\n",
       "0 2021-04-04    doe,john  $100,50    unhappy      NaN\n",
       "1 2021-04-17    Doe,Jane   $78.50   satidfied     NaN\n",
       "2 2021-08-21  smith,Adam      $65     neutral     NaN\n",
       "3 2021-05-02   Tuck,matt     $120    unhappy      NaN\n",
       "4 2021-05-12   James,Ben      NaN    neutral      NaN\n",
       "5 2021-10-11         NaN     $100     neutral     NaN\n",
       "6        NaT         NaN      NaN         NaN     NaN"
      ]
     },
     "execution_count": 12,
     "metadata": {},
     "output_type": "execute_result"
    }
   ],
   "source": [
    "df"
   ]
  },
  {
   "cell_type": "markdown",
   "id": "ffc58ec4",
   "metadata": {},
   "source": [
    "## 补充: 数值的替换(适用于空和非空)"
   ]
  },
  {
   "cell_type": "code",
   "execution_count": 135,
   "id": "db6d92ba",
   "metadata": {
    "ExecuteTime": {
     "end_time": "2022-05-13T07:38:30.388530Z",
     "start_time": "2022-05-13T07:38:30.383770Z"
    }
   },
   "outputs": [],
   "source": [
    "# Pandas 中数据替换的方法，包含数值、文本、缺失值等替换，经常用于数据清洗整理，枚举转换，数据修正等情况。\n",
    "# Series 中的 replace() 和 DataFrame 中的 replace() 提供了一种高效而灵活的方法。"
   ]
  },
  {
   "cell_type": "code",
   "execution_count": 136,
   "id": "d297bc49",
   "metadata": {
    "ExecuteTime": {
     "end_time": "2022-05-13T07:38:39.508238Z",
     "start_time": "2022-05-13T07:38:39.462320Z"
    }
   },
   "outputs": [
    {
     "data": {
      "text/html": [
       "<div>\n",
       "<style scoped>\n",
       "    .dataframe tbody tr th:only-of-type {\n",
       "        vertical-align: middle;\n",
       "    }\n",
       "\n",
       "    .dataframe tbody tr th {\n",
       "        vertical-align: top;\n",
       "    }\n",
       "\n",
       "    .dataframe thead th {\n",
       "        text-align: right;\n",
       "    }\n",
       "</style>\n",
       "<table border=\"1\" class=\"dataframe\">\n",
       "  <thead>\n",
       "    <tr style=\"text-align: right;\">\n",
       "      <th></th>\n",
       "      <th>Date</th>\n",
       "      <th>Name</th>\n",
       "      <th>Payment</th>\n",
       "      <th>Note</th>\n",
       "    </tr>\n",
       "  </thead>\n",
       "  <tbody>\n",
       "    <tr>\n",
       "      <th>0</th>\n",
       "      <td>04/04/2021</td>\n",
       "      <td>doe,john</td>\n",
       "      <td>$100,50</td>\n",
       "      <td>Unhappy!</td>\n",
       "    </tr>\n",
       "    <tr>\n",
       "      <th>1</th>\n",
       "      <td>april 17th,2021</td>\n",
       "      <td>Doe,Jane</td>\n",
       "      <td>$78.50</td>\n",
       "      <td>?Satidfied</td>\n",
       "    </tr>\n",
       "    <tr>\n",
       "      <th>2</th>\n",
       "      <td>2021-08-21</td>\n",
       "      <td>smith,Adam</td>\n",
       "      <td>$65</td>\n",
       "      <td>Neutral</td>\n",
       "    </tr>\n",
       "    <tr>\n",
       "      <th>3</th>\n",
       "      <td>05/02/2021</td>\n",
       "      <td>Tuck,matt</td>\n",
       "      <td>$120</td>\n",
       "      <td>Unhappy-</td>\n",
       "    </tr>\n",
       "    <tr>\n",
       "      <th>4</th>\n",
       "      <td>05/12/2021</td>\n",
       "      <td>James,Ben</td>\n",
       "      <td>NaN</td>\n",
       "      <td>Neutral0</td>\n",
       "    </tr>\n",
       "    <tr>\n",
       "      <th>5</th>\n",
       "      <td>2021-10-11</td>\n",
       "      <td>NaN</td>\n",
       "      <td>$100</td>\n",
       "      <td>Neutral</td>\n",
       "    </tr>\n",
       "  </tbody>\n",
       "</table>\n",
       "</div>"
      ],
      "text/plain": [
       "              Date        Name  Payment        Note\n",
       "0       04/04/2021    doe,john  $100,50    Unhappy!\n",
       "1  april 17th,2021    Doe,Jane   $78.50  ?Satidfied\n",
       "2       2021-08-21  smith,Adam      $65     Neutral\n",
       "3       05/02/2021   Tuck,matt     $120    Unhappy-\n",
       "4       05/12/2021   James,Ben      NaN    Neutral0\n",
       "5       2021-10-11         NaN     $100     Neutral"
      ]
     },
     "execution_count": 136,
     "metadata": {},
     "output_type": "execute_result"
    }
   ],
   "source": [
    "df = pd.DataFrame({'Unnamed:0': [0,1,2,3,4,5,6],\n",
    "                  'Date': ['04/04/2021','april 17th,2021','2021-08-21','05/02/2021','05/12/2021','2021-10-11',np.nan],\n",
    "                  'Name': ['doe,john','Doe,Jane','smith,Adam','Tuck,matt','James,Ben',np.nan,np.nan],\n",
    "                  'Payment': ['$100,50','$78.50','$65','$120',np.nan,'$100',np.nan],\n",
    "                  'Note': ['Unhappy!','?Satidfied','Neutral','Unhappy-','Neutral0','Neutral',np.nan],\n",
    "                  'Remark':[np.nan,np.nan,np.nan,np.nan,np.nan,np.nan,np.nan]},\n",
    "#                  index = [0,1,2,3,4,5]\n",
    "                 )\n",
    "df.drop('Unnamed:0', axis=1, inplace=True)  \n",
    "df.dropna(axis=1,how='all', inplace=True)\n",
    "df.dropna(axis=0,how='all',inplace=True)\n",
    "df"
   ]
  },
  {
   "cell_type": "markdown",
   "id": "2ca21cf1",
   "metadata": {},
   "source": [
    "### 指定值替换"
   ]
  },
  {
   "cell_type": "code",
   "execution_count": 140,
   "id": "795c103a",
   "metadata": {
    "ExecuteTime": {
     "end_time": "2022-05-13T07:51:35.261571Z",
     "start_time": "2022-05-13T07:51:35.239983Z"
    }
   },
   "outputs": [
    {
     "data": {
      "text/html": [
       "<div>\n",
       "<style scoped>\n",
       "    .dataframe tbody tr th:only-of-type {\n",
       "        vertical-align: middle;\n",
       "    }\n",
       "\n",
       "    .dataframe tbody tr th {\n",
       "        vertical-align: top;\n",
       "    }\n",
       "\n",
       "    .dataframe thead th {\n",
       "        text-align: right;\n",
       "    }\n",
       "</style>\n",
       "<table border=\"1\" class=\"dataframe\">\n",
       "  <thead>\n",
       "    <tr style=\"text-align: right;\">\n",
       "      <th></th>\n",
       "      <th>a</th>\n",
       "      <th>b</th>\n",
       "    </tr>\n",
       "  </thead>\n",
       "  <tbody>\n",
       "    <tr>\n",
       "      <th>0</th>\n",
       "      <td>0</td>\n",
       "      <td>0</td>\n",
       "    </tr>\n",
       "    <tr>\n",
       "      <th>1</th>\n",
       "      <td>1</td>\n",
       "      <td>1</td>\n",
       "    </tr>\n",
       "    <tr>\n",
       "      <th>2</th>\n",
       "      <td>2</td>\n",
       "      <td>2</td>\n",
       "    </tr>\n",
       "    <tr>\n",
       "      <th>3</th>\n",
       "      <td>3</td>\n",
       "      <td>3</td>\n",
       "    </tr>\n",
       "    <tr>\n",
       "      <th>4</th>\n",
       "      <td>4</td>\n",
       "      <td>4</td>\n",
       "    </tr>\n",
       "    <tr>\n",
       "      <th>5</th>\n",
       "      <td>5</td>\n",
       "      <td>5</td>\n",
       "    </tr>\n",
       "  </tbody>\n",
       "</table>\n",
       "</div>"
      ],
      "text/plain": [
       "   a  b\n",
       "0  0  0\n",
       "1  1  1\n",
       "2  2  2\n",
       "3  3  3\n",
       "4  4  4\n",
       "5  5  5"
      ]
     },
     "execution_count": 140,
     "metadata": {},
     "output_type": "execute_result"
    }
   ],
   "source": [
    "df = pd.DataFrame({'a':[0, 1, 2, 3, 4, 5],\n",
    "                  'b':[0, 1, 2, 3, 4, 5]})\n",
    "df"
   ]
  },
  {
   "cell_type": "code",
   "execution_count": null,
   "id": "ed327d3b",
   "metadata": {},
   "outputs": [],
   "source": [
    "# 将指定列的空值替换成指定值\n",
    "df.replace({'Payment': {np.nan: 100}}) # columns中,NAN替换为100\n",
    "df.replace({'columns': {10:100}}) # columns中,10替换为100"
   ]
  },
  {
   "cell_type": "code",
   "execution_count": 141,
   "id": "d26c0ce3",
   "metadata": {
    "ExecuteTime": {
     "end_time": "2022-05-13T07:52:57.231406Z",
     "start_time": "2022-05-13T07:52:57.184869Z"
    }
   },
   "outputs": [
    {
     "data": {
      "text/html": [
       "<div>\n",
       "<style scoped>\n",
       "    .dataframe tbody tr th:only-of-type {\n",
       "        vertical-align: middle;\n",
       "    }\n",
       "\n",
       "    .dataframe tbody tr th {\n",
       "        vertical-align: top;\n",
       "    }\n",
       "\n",
       "    .dataframe thead th {\n",
       "        text-align: right;\n",
       "    }\n",
       "</style>\n",
       "<table border=\"1\" class=\"dataframe\">\n",
       "  <thead>\n",
       "    <tr style=\"text-align: right;\">\n",
       "      <th></th>\n",
       "      <th>a</th>\n",
       "      <th>b</th>\n",
       "    </tr>\n",
       "  </thead>\n",
       "  <tbody>\n",
       "    <tr>\n",
       "      <th>0</th>\n",
       "      <td>100</td>\n",
       "      <td>0</td>\n",
       "    </tr>\n",
       "    <tr>\n",
       "      <th>1</th>\n",
       "      <td>1</td>\n",
       "      <td>1</td>\n",
       "    </tr>\n",
       "    <tr>\n",
       "      <th>2</th>\n",
       "      <td>2</td>\n",
       "      <td>2</td>\n",
       "    </tr>\n",
       "    <tr>\n",
       "      <th>3</th>\n",
       "      <td>3</td>\n",
       "      <td>3</td>\n",
       "    </tr>\n",
       "    <tr>\n",
       "      <th>4</th>\n",
       "      <td>400</td>\n",
       "      <td>4</td>\n",
       "    </tr>\n",
       "    <tr>\n",
       "      <th>5</th>\n",
       "      <td>5</td>\n",
       "      <td>5</td>\n",
       "    </tr>\n",
       "  </tbody>\n",
       "</table>\n",
       "</div>"
      ],
      "text/plain": [
       "     a  b\n",
       "0  100  0\n",
       "1    1  1\n",
       "2    2  2\n",
       "3    3  3\n",
       "4  400  4\n",
       "5    5  5"
      ]
     },
     "execution_count": 141,
     "metadata": {},
     "output_type": "execute_result"
    }
   ],
   "source": [
    "# 以下是在 Series 中将 0 替换为 5：\n",
    "ser = pd.Series([0., 1., 2., 3., 4.])\n",
    "ser.replace(0, 5)\n",
    "\n",
    "# 也可以批量替换：\n",
    "ser.replace([0, 1, 2, 3, 4], [4, 3, 2, 1, 0])# 一一对应进行替换\n",
    "ser.replace({0: 10, 1: 100})# 用字典映射对应替换值\n",
    "\n",
    "df.replace({'a': 0, 'b': 5}, 100)# 将 a 列的 0 b 列中的 5 替换为 100\n",
    "df.replace({'a': {0: 100, 4: 400}})#  指定列里的替换规划"
   ]
  },
  {
   "cell_type": "markdown",
   "id": "b0888610",
   "metadata": {},
   "source": [
    "### 向前向后填充"
   ]
  },
  {
   "cell_type": "code",
   "execution_count": null,
   "id": "4a7eb5e8",
   "metadata": {},
   "outputs": [],
   "source": [
    "# pad / ffill：向前填充\n",
    "# bfill / backfill：向后填充\n",
    "\n",
    "# 将 1，2，3 替换为它们前一个值\n",
    "ser.replace([1, 2, 3], method='pad') # ffill 是它同义词\n",
    "# 将 1，2，3 替换为它们后一个值\n",
    "ser.replace([1, 2, 3], method='bfill') # backfill 是它同义词"
   ]
  },
  {
   "cell_type": "markdown",
   "id": "0cb207f5",
   "metadata": {},
   "source": [
    "### 正则表达式填充"
   ]
  },
  {
   "cell_type": "code",
   "execution_count": null,
   "id": "497f3c37",
   "metadata": {},
   "outputs": [],
   "source": [
    "# 如果遇到字符比较复杂的内容，就是使用正则（默认没有开启）进行匹配：\n",
    "\n",
    "df.replace(to_replace='bat', value='new') # 把 bat 替换为 new\n",
    "df.replace(to_replace=r'^ba.$', value='new', regex=True)# 利用正则将 ba 开头的替换为 new\n",
    "df.replace({'A': r'^ba.$'}, {'A': 'new'}, regex=True)# 如果多列规则不一的情况下可以按以下格式对应传入\n",
    "df.replace(regex=[r'^ba.$', 'foo'], value='new')# 多个规则替换为同一个值\n",
    "df.replace(regex={r'^ba.$': 'new', 'foo': 'xyz'})# 直接多个正则及对应的替换内容"
   ]
  },
  {
   "cell_type": "markdown",
   "id": "5966ded4",
   "metadata": {},
   "source": [
    "### 缺失值相关替换"
   ]
  },
  {
   "cell_type": "code",
   "execution_count": 144,
   "id": "6e16dc72",
   "metadata": {
    "ExecuteTime": {
     "end_time": "2022-05-13T08:05:45.402853Z",
     "start_time": "2022-05-13T08:05:45.370087Z"
    }
   },
   "outputs": [
    {
     "data": {
      "text/html": [
       "<div>\n",
       "<style scoped>\n",
       "    .dataframe tbody tr th:only-of-type {\n",
       "        vertical-align: middle;\n",
       "    }\n",
       "\n",
       "    .dataframe tbody tr th {\n",
       "        vertical-align: top;\n",
       "    }\n",
       "\n",
       "    .dataframe thead th {\n",
       "        text-align: right;\n",
       "    }\n",
       "</style>\n",
       "<table border=\"1\" class=\"dataframe\">\n",
       "  <thead>\n",
       "    <tr style=\"text-align: right;\">\n",
       "      <th></th>\n",
       "      <th>a</th>\n",
       "      <th>b</th>\n",
       "      <th>c</th>\n",
       "    </tr>\n",
       "  </thead>\n",
       "  <tbody>\n",
       "    <tr>\n",
       "      <th>0</th>\n",
       "      <td>0</td>\n",
       "      <td>a</td>\n",
       "      <td>a</td>\n",
       "    </tr>\n",
       "    <tr>\n",
       "      <th>1</th>\n",
       "      <td>1</td>\n",
       "      <td>b</td>\n",
       "      <td>b</td>\n",
       "    </tr>\n",
       "    <tr>\n",
       "      <th>2</th>\n",
       "      <td>2</td>\n",
       "      <td>.</td>\n",
       "      <td>NaN</td>\n",
       "    </tr>\n",
       "    <tr>\n",
       "      <th>3</th>\n",
       "      <td>3</td>\n",
       "      <td>.</td>\n",
       "      <td>d</td>\n",
       "    </tr>\n",
       "  </tbody>\n",
       "</table>\n",
       "</div>"
      ],
      "text/plain": [
       "   a  b    c\n",
       "0  0  a    a\n",
       "1  1  b    b\n",
       "2  2  .  NaN\n",
       "3  3  .    d"
      ]
     },
     "execution_count": 144,
     "metadata": {},
     "output_type": "execute_result"
    }
   ],
   "source": [
    "d = {'a': list(range(4)),\n",
    "     'b': list('ab..'),\n",
    "     'c': ['a', 'b', np.nan, 'd']\n",
    "    }\n",
    "# type(d)  # dirc\n",
    "df = pd.DataFrame(d)\n",
    "df"
   ]
  },
  {
   "cell_type": "code",
   "execution_count": null,
   "id": "7e468d28",
   "metadata": {},
   "outputs": [],
   "source": [
    "df.replace('.', np.nan)# 将.替换为 nan\n",
    "df.replace('.', np.nan)\n",
    "# 使用正则，将空格等替换为 nan\n",
    "df.replace(r'\\s*\\.\\s*', np.nan, regex=True)\n",
    "# 对应替换，a 换 b, 点换 nan\n",
    "df.replace(['a', '.'], ['b', np.nan])\n",
    "# 点换 dot, a 换 astuff(第一位+)\n",
    "df.replace([r'\\.', r'(a)'], ['dot', r'\\1stuff'], regex=True)\n",
    "# b 中的点要替换，替换为 b 替换规则为 nan，可以多列\n",
    "df.replace({'b': '.'}, {'b': np.nan})\n",
    "# 使用正则\n",
    "df.replace({'b': r'\\s*\\.\\s*'}, {'b': np.nan}, regex=True)\n",
    "# b列的 b 值换为空\n",
    "df.replace({'b': {'b': r''}}, regex=True)\n",
    "# b 列的点空格等换 nan\n",
    "df.replace(regex={'b': {r'\\s*\\.\\s*': np.nan}})\n",
    "# b列点等+ty\n",
    "df.replace({'b': r'\\s*(\\.)\\s*'},\n",
    "           {'b': r'\\1ty'},\n",
    "           regex=True)\n",
    "# 多个正则规则\n",
    "df.replace([r'\\s*\\.\\s*', r'a|b'], np.nan, regex=True)\n",
    "# 用参数名传参\n",
    "df.replace(regex=[r'\\s*\\.\\s*', r'a|b'], value=np.nan)"
   ]
  }
 ],
 "metadata": {
  "hide_input": false,
  "kernelspec": {
   "display_name": "Python 3 (ipykernel)",
   "language": "python",
   "name": "python3"
  },
  "language_info": {
   "codemirror_mode": {
    "name": "ipython",
    "version": 3
   },
   "file_extension": ".py",
   "mimetype": "text/x-python",
   "name": "python",
   "nbconvert_exporter": "python",
   "pygments_lexer": "ipython3",
   "version": "3.9.12"
  },
  "toc": {
   "base_numbering": 1,
   "nav_menu": {},
   "number_sections": true,
   "sideBar": true,
   "skip_h1_title": false,
   "title_cell": "Table of Contents",
   "title_sidebar": "Contents",
   "toc_cell": false,
   "toc_position": {
    "height": "calc(100% - 180px)",
    "left": "10px",
    "top": "150px",
    "width": "284.775px"
   },
   "toc_section_display": true,
   "toc_window_display": true
  }
 },
 "nbformat": 4,
 "nbformat_minor": 5
}
