{
 "cells": [
  {
   "cell_type": "markdown",
   "id": "68c3c45b",
   "metadata": {},
   "source": [
    "# CRISP-DM跨行业数据挖掘标准流程"
   ]
  },
  {
   "cell_type": "markdown",
   "id": "2f89965c",
   "metadata": {},
   "source": [
    "## CRISP-DM 模型概念"
   ]
  },
  {
   "cell_type": "markdown",
   "id": "fd7de491",
   "metadata": {},
   "source": [
    "CRISP-DM (cross-industry standard process for data mining), 即为\"跨行业数据挖掘标准流程\"。此KDD（Knowledge Discovery in Database）过程模型于1999年欧盟机构联合起草。通过近几年的发展，CRISP-DM 模型在各种KDD过程模型中占据领先位置。"
   ]
  },
  {
   "cell_type": "markdown",
   "id": "14b30194",
   "metadata": {},
   "source": [
    "## CRISP-DM 模型6个步骤"
   ]
  },
  {
   "cell_type": "markdown",
   "id": "6c7c675d",
   "metadata": {},
   "source": [
    "CRISP-DM 模型为一个KDD工程/数据挖掘提供了一个完整的过程描述。该模型将一个KDD工程分为6个不同的，但顺序并非完全不变的阶段。\n",
    "\n",
    "![pic](./pic/CRISP-DM模型.jpg)"
   ]
  },
  {
   "cell_type": "markdown",
   "id": "b0c00a2d",
   "metadata": {},
   "source": [
    "### 商业理解（business understanding）  \n",
    "在这第一个阶段我们必须从商业的角度了解项目的要求和最终目的是什么，并将这些目的与数据挖掘的定义以及结果结合起来。\n",
    "主要工作包括：确定商业目标，发现影响结果的重要因素，从商业角度描绘客户的首要目标，评估形势，查找所有的资源、局限、设想以及在确定数据分析目标和项目方案时考虑到的各种其他的因素，包括风险和意外、相关术语、成本和收益等等，接下来确定数据挖掘的目标，制定项目计划。  \n",
    "\n",
    "确定业务目标：分析项目的背景，从业务视点分析项目的目标和需求，确定业务角度的成功标准；  \n",
    "项目可行性分析：分析拥有的资源，条件和限制，风险估计，成本和效益估计；  \n",
    "确定数据挖掘目标：明确数据挖掘的目标和成功标准，数据挖掘的目标和业务目标是不 一样的，前者指技术上的，例如生成一棵决策树等；  \n",
    "提出项目计划：对整个项目做一个计划，初步估计用到的工具和技术。  \n"
   ]
  },
  {
   "cell_type": "markdown",
   "id": "6fd3bedf",
   "metadata": {},
   "source": [
    "### 数据理解（data understanding）\n",
    "数据理解阶段开始于数据的收集工作。接下来就是熟悉数据的工作，具体如：检测数据的量，对数据有初步的理解，探测数据中比较有趣的数据子集，进而形成对潜在信息的假设。收集原始数据，对数据进行装载，描绘数据，并且探索数据特征，进行简单的特征统计，检验数据的质量，包括数据的完整性和正确性，缺失值的填补等。\n",
    "\n",
    "收集原始数据：收集本项目所涉及到的数据，如有必要，把数据装入数据处理工具，并作一些初步的数据集成的工作，生成相应报告;  \n",
    "描述数据：对数据做一些大致的描述，例如记录数、属性数等，给出相应报告；  \n",
    "探索数据：对数据做简单的统计分析，例如关键属性的分布等；  \n",
    "检查数据质量：包括数据是否完整、数据是否有错、是否有缺失值等问题。  \n"
   ]
  },
  {
   "cell_type": "markdown",
   "id": "bf04b4cf",
   "metadata": {},
   "source": [
    "### 数据准备（data preparation）\n",
    "数据准备阶段涵盖了从原始粗糙数据中构建最终数据集（将作为建模工具的分析对象）的全部工作。数据准备工作有可能被实施多次，而且其实施顺序并不是预先规定好的。这一阶段的任务主要包括：制表，记录，数据变量的选择和转换，以及为适应建模工具而进行的数据清理等等。\n",
    "根据与挖掘目标的相关性，数据质量以及技术限制，选择作为分析使用的数据，并进一步对数据进行清理转换，构造衍生变量，整合数据，并根据工具的要求，格式化数据。\n",
    "\n",
    "数据选择：根据数据挖掘目标和数据质量选择合适的数据，包括表的选择、记录选择和属性选择；  \n",
    "数据清洁：提高选择好的数据的质量，例如去除噪音，填充缺失值等；  \n",
    "数据创建：在原有数据的基础上生成新的属性或记录；    \n",
    "数据合并：利用表连接等方式将几个数据集合并在一起；  \n",
    "数据格式化：把数据转换成适合数据挖掘处理的格式。  \n"
   ]
  },
  {
   "cell_type": "markdown",
   "id": "84fdf4cd",
   "metadata": {},
   "source": [
    "### 建模（modeling）\n",
    "在这一阶段，各种各样的建模方法将被加以选择和使用，通过建造，评估模型将其参数将被校准为最为理想的值。  \n",
    "比较典型的是，对于同一个数据挖掘的问题类型，可以有多种方法选择使用。如果有多重技术要使用，那么在这一任务中，对于每一个要使用的技术要分别对待。  \n",
    "一些建模方法对数据的形式有具体的要求，  \n",
    "因此，在这一阶段，重新回到数据准备阶段执行某些任务有时是非常必要的。  \n",
    "\n",
    "\n",
    "选择建模技术：确定数据挖掘算法和参数，可能会利用多个算法；  \n",
    "测试方案设计：设计某种测试模型的质量和有效性的机制；  \n",
    "模型训练：在准备好的数据集上运行数据挖掘算法，得出一个或者多个模型；  \n",
    "模型测试评估：根据测试方案进行测试，从数据挖掘技术的角度确定数据挖掘目标是否 成功。  \n"
   ]
  },
  {
   "cell_type": "markdown",
   "id": "c9185e5f",
   "metadata": {},
   "source": [
    "### 评估（evaluation）\n",
    "从数据分析的角度考虑，在这一阶段中，已经建立了一个或多个高质量的模型。  \n",
    "但在进行最终的模型部署之前，更加彻底的评估模型，回顾在构建模型过程中所执行的每一个步骤，是非常重要的，这样可以确保这些模型是否达到了企业的目标。  \n",
    "一个关键的评价指标就是看，是否仍然有一些重要的企业问题还没有被充分地加以注意和考虑。在这一阶段结束之时，有关数据挖掘结果的使用应达成一致的决定。  \n",
    "\n",
    "结果评估：从商业角度评估得到的模型，甚至实际试用该模型测试其效果；  \n",
    "过程回顾：回顾项目的所有流程，确定每一个阶段都没有失误；  \n",
    "确定下一步工作：根据结果评估和过程回顾得出的结论，确定是部署该挖掘模型还是从 某个阶段重新开始。  \n"
   ]
  },
  {
   "cell_type": "markdown",
   "id": "2b108a80",
   "metadata": {},
   "source": [
    "### 部署（deployment）模型实施\n",
    "部署，即将其发现的结果以及过程组织成为可读文本形式。  \n",
    "模型的创建并不是项目的最终目的。尽管建模是为了增加更多有关于数据的信息，但这些信息仍然需要以一种客户能够使用的方式被组织和呈现。这经常涉及到一个组织在处理某些决策过程中，如在决定有关网页的实时人员或者营销数据库的重复得分时，拥有一个“活”的模型。  \n",
    "根据需求的不同，部署阶段可以是仅仅像写一份报告那样简单，也可以像在企业中进行可重复的数据挖掘程序那样复杂。  \n",
    "在许多案例中，往往是客户而不是数据分析师来执行部署阶段。然而，尽管数据分析师不需要处理部署阶段的工作，对于客户而言，预先了解需要执行的活动从而正确的使用已构建的模型是非常重要的。  \n",
    " \n",
    "实施计划：对在业务运作中部署模型作出计划；  \n",
    "监控和维护计划：如何监控模型在实际业务中的使用情况，如何维护该模型；  \n",
    "作出最终报告：项目总结，项目经验和项目结果；  \n",
    "项目回顾：回顾项目的实施过程，总结经验教训；对数据挖掘的运行效果做一个预测。  "
   ]
  },
  {
   "cell_type": "markdown",
   "id": "ee06b2ae",
   "metadata": {},
   "source": [
    "# 商业理解"
   ]
  },
  {
   "cell_type": "markdown",
   "id": "0f178e55",
   "metadata": {},
   "source": [
    "判断泰坦尼克号上的乘客是否能够生存下来"
   ]
  },
  {
   "cell_type": "markdown",
   "id": "55e47522",
   "metadata": {},
   "source": [
    "# 数据准备"
   ]
  },
  {
   "cell_type": "markdown",
   "id": "fec85dfa",
   "metadata": {},
   "source": [
    "将数据集分为训练集(Training)与测试集(Test)两部分。\n",
    "\n",
    "通常将数据集的80%作为训练集train，20%作为测试集test；如果数据集很大，测试集不需要完全按比例分配，够用就好。 \n",
    "\n",
    "**训练集**：用于训练、确定一个最终的模型；然后在测试集测试模型对于未知数据的评价效果\t\n",
    "\n",
    "**测试集**：在测试集测试模型对于未知数据的评价效果。测试集自始至终没有参与到模型的训练过程；它的目的只有一个：在确定一个最终模型后，评价其泛化能力。\n",
    "\n",
    "将训练集进一步拆分，得到训练集+验证集：  \t\t\n",
    "验证集：初始的Train训练集会进一步再分为Train训练集与Validation验证集两部分，以评价不同参数组合的效果，以确定最终的模型。最后放到Test测试集中评价其效果。\n",
    "\n",
    "**训练集拆分方法**  \n",
    "一般先拆分数据为（Train + Validation）与Test两部分，其比例一般为 8:2、7:3、6:4；  \n",
    "其次进一步拆分出Train + Validation的方法：可以按照设定比例进行拆分，也有K折交叉验证、Bootstrap自助法抽样。\n",
    "\n",
    "在数据准备阶段，只区分训练集和测试集。训练集拆分为训练集和验证集在特征工程之后做。\n",
    "\n",
    "![pic](./pic/训练集验证集测试集.jpg)"
   ]
  },
  {
   "cell_type": "markdown",
   "id": "11258fd5",
   "metadata": {},
   "source": [
    "## 数据集已区分训练集和测试集"
   ]
  },
  {
   "cell_type": "code",
   "execution_count": 1,
   "id": "311509ee",
   "metadata": {},
   "outputs": [],
   "source": [
    "import numpy as np\n",
    "import pandas as pd\n",
    "import matplotlib.pyplot as plt\n",
    "import seaborn as sns"
   ]
  },
  {
   "cell_type": "code",
   "execution_count": 2,
   "id": "f65d839d",
   "metadata": {
    "ExecuteTime": {
     "end_time": "2022-04-27T06:16:05.279978Z",
     "start_time": "2022-04-27T06:16:05.228241Z"
    }
   },
   "outputs": [
    {
     "name": "stdout",
     "output_type": "stream",
     "text": [
      "<class 'pandas.core.frame.DataFrame'>\n",
      "RangeIndex: 891 entries, 0 to 890\n",
      "Data columns (total 12 columns):\n",
      " #   Column       Non-Null Count  Dtype  \n",
      "---  ------       --------------  -----  \n",
      " 0   PassengerId  891 non-null    int64  \n",
      " 1   Survived     891 non-null    int64  \n",
      " 2   Pclass       891 non-null    int64  \n",
      " 3   Name         891 non-null    object \n",
      " 4   Sex          891 non-null    object \n",
      " 5   Age          714 non-null    float64\n",
      " 6   SibSp        891 non-null    int64  \n",
      " 7   Parch        891 non-null    int64  \n",
      " 8   Ticket       891 non-null    object \n",
      " 9   Fare         891 non-null    float64\n",
      " 10  Cabin        204 non-null    object \n",
      " 11  Embarked     889 non-null    object \n",
      "dtypes: float64(2), int64(5), object(5)\n",
      "memory usage: 83.7+ KB\n"
     ]
    },
    {
     "data": {
      "text/plain": [
       "(891, 12)"
      ]
     },
     "execution_count": 2,
     "metadata": {},
     "output_type": "execute_result"
    }
   ],
   "source": [
    "df_train = pd.read_csv (r'DataSet\\Titanic\\train.csv')\n",
    "df_test = pd.read_csv(r'DataSet\\Titanic\\test.csv')\n",
    "\n",
    "# 查看数据集基本信息：\n",
    "df_train.head()\n",
    "df_test.head()\n",
    "df_train.info()\n",
    "df_train.shape"
   ]
  },
  {
   "cell_type": "markdown",
   "id": "f8851b14",
   "metadata": {},
   "source": [
    "## 数据集未区分训练集和测试集"
   ]
  },
  {
   "cell_type": "code",
   "execution_count": 3,
   "id": "6a64b976",
   "metadata": {},
   "outputs": [
    {
     "data": {
      "text/plain": [
       "'\\ntest_size:test样本的占比  \\nrandom_state: 可以为整数、RandomState实例或None，默认为None  \\n①若为None时，每次生成的数据都是随机，可能不一样  \\n②若为整数时，每次生成的数据都相同  \\n'"
      ]
     },
     "execution_count": 3,
     "metadata": {},
     "output_type": "execute_result"
    }
   ],
   "source": [
    "# train_test_split\n",
    "\n",
    "# from sklearn import datasets\n",
    "from sklearn.model_selection import train_test_split \n",
    "\n",
    "df = pd.read_csv('./DataSet/Titanic/alldata.csv')\n",
    "\n",
    "df_train, df_test = train_test_split(df, test_size=0.2, random_state=42)\n",
    "\n",
    "\n",
    "\"\"\"\n",
    "test_size:test样本的占比  \n",
    "random_state: 可以为整数、RandomState实例或None，默认为None  \n",
    "①若为None时，每次生成的数据都是随机，可能不一样  \n",
    "②若为整数时，每次生成的数据都相同  \n",
    "\"\"\"\n",
    "\n",
    "# df_train\n",
    "# df_test"
   ]
  },
  {
   "cell_type": "markdown",
   "id": "89583cb4",
   "metadata": {},
   "source": [
    "# 理解数据EDA"
   ]
  },
  {
   "cell_type": "markdown",
   "id": "8ec71be6",
   "metadata": {
    "ExecuteTime": {
     "end_time": "2022-04-27T06:20:26.625771Z",
     "start_time": "2022-04-27T06:20:26.618401Z"
    }
   },
   "source": [
    "## 什么是EDA？ \n",
    "在kaggle社区经常会遇到EDA这个词。EDA的全称是Exploratory Data Analysis，是一种探索式的数据分析，\n",
    "\n",
    "探索性数据分析（EDA）是由数据科学家用来分析和调查数据集，并总结其主要特征，通常采用数据可视化方法。\n",
    "它有助于确定如何最好地操作数据源以获得你所需要的答案，使数据科学家更容易发现模式，发现异常，测试一个假设，或检查假设。\n",
    "\n",
    "EDA的主要目的是目的是为了理解你的数据、做出任何假设之前帮助观察数据。它可以帮助识别明显的错误，以及更好地理解数据中的模式，检测异常值或异常事件，找到变量间的有趣关系。\n",
    "\n",
    "通过总结数据的主要特征、绘制图表从而更形象生动的理解。\n",
    "常用的作图方法有：直方图（Histograms），箱形图（Box plot），散点图（Scatter plot）等等。"
   ]
  },
  {
   "cell_type": "markdown",
   "id": "0165716e",
   "metadata": {},
   "source": [
    "## 为什么要EDA？\n",
    "\n",
    "对数据集更深的理解（分布、缺失等统计信息）  \n",
    "获得高质量的数据集（异常值、缺失值的基本处理）  \n",
    "机器学习模型、实证假设构建的思路（灵感）  "
   ]
  },
  {
   "cell_type": "code",
   "execution_count": 4,
   "id": "2064c134",
   "metadata": {
    "ExecuteTime": {
     "end_time": "2022-04-27T07:17:04.697219Z",
     "start_time": "2022-04-27T07:17:04.680273Z"
    },
    "scrolled": true
   },
   "outputs": [
    {
     "data": {
      "text/plain": [
       "Index(['PassengerId', 'Survived', 'Pclass', 'Name', 'Sex', 'Age', 'SibSp',\n",
       "       'Parch', 'Ticket', 'Fare', 'Cabin', 'Embarked'],\n",
       "      dtype='object')"
      ]
     },
     "execution_count": 4,
     "metadata": {},
     "output_type": "execute_result"
    }
   ],
   "source": [
    "# 查看数据集的列\n",
    "df_train.columns\n"
   ]
  },
  {
   "cell_type": "markdown",
   "id": "20911bb9",
   "metadata": {},
   "source": [
    "## 对训练集进行EDA"
   ]
  },
  {
   "cell_type": "markdown",
   "id": "7a7a372f",
   "metadata": {},
   "source": [
    "### 统计各个元素和Survived的关系"
   ]
  },
  {
   "cell_type": "code",
   "execution_count": 5,
   "id": "b15239e3",
   "metadata": {
    "ExecuteTime": {
     "end_time": "2022-04-27T06:21:17.942796Z",
     "start_time": "2022-04-27T06:21:17.586410Z"
    }
   },
   "outputs": [
    {
     "data": {
      "image/png": "[encoded data removed]",
      "text/plain": [
       "<Figure size 432x288 with 1 Axes>"
      ]
     },
     "metadata": {
      "needs_background": "light"
     },
     "output_type": "display_data"
    }
   ],
   "source": [
    "# Survived\n",
    "ax = sns.countplot(data=df_train, x = 'Survived');  # countplot是seaborn库中分类图的一种，作用是使用条形显示每个分箱器中的观察计数\n",
    "ax.bar_label(ax.containers[0]) # 在柱状图上显示y的数值，取出AxesSubplot对象的containers属性，得到container对象的迭代器，遍历其或单独取出container对象传给plt.bar_label\n",
    "\n",
    "plt.title(\"Number of people Survived vs  Deceased\")\n",
    "plt.xlabel(\"Survived vs  Deceased\")\n",
    "plt.ylabel(\"Number of people\")\n",
    "plt.xticks(ticks=[0,1],labels=['Deceased','Survived'])\n",
    "plt.show();"
   ]
  },
  {
   "cell_type": "markdown",
   "id": "f1d2ef76",
   "metadata": {},
   "source": [
    "#### Age VS Survived"
   ]
  },
  {
   "cell_type": "code",
   "execution_count": 6,
   "id": "0101e884",
   "metadata": {
    "ExecuteTime": {
     "end_time": "2022-04-27T06:30:38.066510Z",
     "start_time": "2022-04-27T06:30:38.050148Z"
    }
   },
   "outputs": [
    {
     "data": {
      "text/plain": [
       "29.498846153846156"
      ]
     },
     "execution_count": 6,
     "metadata": {},
     "output_type": "execute_result"
    }
   ],
   "source": [
    "# Age\n",
    "df_train['Age'].mean()  # Pandas 的 mean（）函数 求平均"
   ]
  },
  {
   "cell_type": "code",
   "execution_count": 7,
   "id": "dfdd055e",
   "metadata": {
    "ExecuteTime": {
     "end_time": "2022-04-27T06:30:44.058081Z",
     "start_time": "2022-04-27T06:30:44.021465Z"
    }
   },
   "outputs": [
    {
     "data": {
      "text/plain": [
       "331    45\n",
       "733    23\n",
       "382    32\n",
       "704    26\n",
       "813     6\n",
       "       ..\n",
       "106    21\n",
       "270    29\n",
       "860    41\n",
       "435    14\n",
       "102    21\n",
       "Name: Age, Length: 712, dtype: int32"
      ]
     },
     "execution_count": 7,
     "metadata": {},
     "output_type": "execute_result"
    }
   ],
   "source": [
    "# 将Age为NAN的单元，使用mean平均值填充\n",
    "# df_train['Age']\n",
    "df_train['Age'] = df_train['Age'].fillna(df_train['Age'].mean()) # 使用mean值填充Age的NAN值\n",
    "df_train['Age'] = df_train['Age'].astype(int)\n",
    "df_train['Age']"
   ]
  },
  {
   "cell_type": "code",
   "execution_count": 8,
   "id": "bee7acd9",
   "metadata": {
    "ExecuteTime": {
     "end_time": "2022-04-27T07:01:24.847181Z",
     "start_time": "2022-04-27T07:01:24.839637Z"
    }
   },
   "outputs": [],
   "source": [
    "# 将df_train进行拷贝\n",
    "temp = df_train .copy()"
   ]
  },
  {
   "cell_type": "code",
   "execution_count": 9,
   "id": "5fb20453",
   "metadata": {
    "ExecuteTime": {
     "end_time": "2022-04-27T07:01:25.785305Z",
     "start_time": "2022-04-27T07:01:25.769803Z"
    }
   },
   "outputs": [
    {
     "data": {
      "text/html": [
       "<div>\n",
       "<style scoped>\n",
       "    .dataframe tbody tr th:only-of-type {\n",
       "        vertical-align: middle;\n",
       "    }\n",
       "\n",
       "    .dataframe tbody tr th {\n",
       "        vertical-align: top;\n",
       "    }\n",
       "\n",
       "    .dataframe thead th {\n",
       "        text-align: right;\n",
       "    }\n",
       "</style>\n",
       "<table border=\"1\" class=\"dataframe\">\n",
       "  <thead>\n",
       "    <tr style=\"text-align: right;\">\n",
       "      <th></th>\n",
       "      <th>PassengerId</th>\n",
       "      <th>Survived</th>\n",
       "      <th>Pclass</th>\n",
       "      <th>Name</th>\n",
       "      <th>Sex</th>\n",
       "      <th>Age</th>\n",
       "      <th>SibSp</th>\n",
       "      <th>Parch</th>\n",
       "      <th>Ticket</th>\n",
       "      <th>Fare</th>\n",
       "      <th>Cabin</th>\n",
       "      <th>Embarked</th>\n",
       "    </tr>\n",
       "  </thead>\n",
       "  <tbody>\n",
       "    <tr>\n",
       "      <th>331</th>\n",
       "      <td>332</td>\n",
       "      <td>0</td>\n",
       "      <td>1</td>\n",
       "      <td>Partner, Mr. Austen</td>\n",
       "      <td>male</td>\n",
       "      <td>Elder</td>\n",
       "      <td>0</td>\n",
       "      <td>0</td>\n",
       "      <td>113043</td>\n",
       "      <td>28.5000</td>\n",
       "      <td>C124</td>\n",
       "      <td>S</td>\n",
       "    </tr>\n",
       "    <tr>\n",
       "      <th>733</th>\n",
       "      <td>734</td>\n",
       "      <td>0</td>\n",
       "      <td>2</td>\n",
       "      <td>Berriman, Mr. William John</td>\n",
       "      <td>male</td>\n",
       "      <td>Adult</td>\n",
       "      <td>0</td>\n",
       "      <td>0</td>\n",
       "      <td>28425</td>\n",
       "      <td>13.0000</td>\n",
       "      <td>NaN</td>\n",
       "      <td>S</td>\n",
       "    </tr>\n",
       "    <tr>\n",
       "      <th>382</th>\n",
       "      <td>383</td>\n",
       "      <td>0</td>\n",
       "      <td>3</td>\n",
       "      <td>Tikkanen, Mr. Juho</td>\n",
       "      <td>male</td>\n",
       "      <td>Adult</td>\n",
       "      <td>0</td>\n",
       "      <td>0</td>\n",
       "      <td>STON/O 2. 3101293</td>\n",
       "      <td>7.9250</td>\n",
       "      <td>NaN</td>\n",
       "      <td>S</td>\n",
       "    </tr>\n",
       "    <tr>\n",
       "      <th>704</th>\n",
       "      <td>705</td>\n",
       "      <td>0</td>\n",
       "      <td>3</td>\n",
       "      <td>Hansen, Mr. Henrik Juul</td>\n",
       "      <td>male</td>\n",
       "      <td>Adult</td>\n",
       "      <td>1</td>\n",
       "      <td>0</td>\n",
       "      <td>350025</td>\n",
       "      <td>7.8542</td>\n",
       "      <td>NaN</td>\n",
       "      <td>S</td>\n",
       "    </tr>\n",
       "    <tr>\n",
       "      <th>813</th>\n",
       "      <td>814</td>\n",
       "      <td>0</td>\n",
       "      <td>3</td>\n",
       "      <td>Andersson, Miss. Ebba Iris Alfrida</td>\n",
       "      <td>female</td>\n",
       "      <td>Children</td>\n",
       "      <td>4</td>\n",
       "      <td>2</td>\n",
       "      <td>347082</td>\n",
       "      <td>31.2750</td>\n",
       "      <td>NaN</td>\n",
       "      <td>S</td>\n",
       "    </tr>\n",
       "    <tr>\n",
       "      <th>...</th>\n",
       "      <td>...</td>\n",
       "      <td>...</td>\n",
       "      <td>...</td>\n",
       "      <td>...</td>\n",
       "      <td>...</td>\n",
       "      <td>...</td>\n",
       "      <td>...</td>\n",
       "      <td>...</td>\n",
       "      <td>...</td>\n",
       "      <td>...</td>\n",
       "      <td>...</td>\n",
       "      <td>...</td>\n",
       "    </tr>\n",
       "    <tr>\n",
       "      <th>106</th>\n",
       "      <td>107</td>\n",
       "      <td>1</td>\n",
       "      <td>3</td>\n",
       "      <td>Salkjelsvik, Miss. Anna Kristine</td>\n",
       "      <td>female</td>\n",
       "      <td>Adult</td>\n",
       "      <td>0</td>\n",
       "      <td>0</td>\n",
       "      <td>343120</td>\n",
       "      <td>7.6500</td>\n",
       "      <td>NaN</td>\n",
       "      <td>S</td>\n",
       "    </tr>\n",
       "    <tr>\n",
       "      <th>270</th>\n",
       "      <td>271</td>\n",
       "      <td>0</td>\n",
       "      <td>1</td>\n",
       "      <td>Cairns, Mr. Alexander</td>\n",
       "      <td>male</td>\n",
       "      <td>Adult</td>\n",
       "      <td>0</td>\n",
       "      <td>0</td>\n",
       "      <td>113798</td>\n",
       "      <td>31.0000</td>\n",
       "      <td>NaN</td>\n",
       "      <td>S</td>\n",
       "    </tr>\n",
       "    <tr>\n",
       "      <th>860</th>\n",
       "      <td>861</td>\n",
       "      <td>0</td>\n",
       "      <td>3</td>\n",
       "      <td>Hansen, Mr. Claus Peter</td>\n",
       "      <td>male</td>\n",
       "      <td>Elder</td>\n",
       "      <td>2</td>\n",
       "      <td>0</td>\n",
       "      <td>350026</td>\n",
       "      <td>14.1083</td>\n",
       "      <td>NaN</td>\n",
       "      <td>S</td>\n",
       "    </tr>\n",
       "    <tr>\n",
       "      <th>435</th>\n",
       "      <td>436</td>\n",
       "      <td>1</td>\n",
       "      <td>1</td>\n",
       "      <td>Carter, Miss. Lucile Polk</td>\n",
       "      <td>female</td>\n",
       "      <td>Teenage</td>\n",
       "      <td>1</td>\n",
       "      <td>2</td>\n",
       "      <td>113760</td>\n",
       "      <td>120.0000</td>\n",
       "      <td>B96 B98</td>\n",
       "      <td>S</td>\n",
       "    </tr>\n",
       "    <tr>\n",
       "      <th>102</th>\n",
       "      <td>103</td>\n",
       "      <td>0</td>\n",
       "      <td>1</td>\n",
       "      <td>White, Mr. Richard Frasar</td>\n",
       "      <td>male</td>\n",
       "      <td>Adult</td>\n",
       "      <td>0</td>\n",
       "      <td>1</td>\n",
       "      <td>35281</td>\n",
       "      <td>77.2875</td>\n",
       "      <td>D26</td>\n",
       "      <td>S</td>\n",
       "    </tr>\n",
       "  </tbody>\n",
       "</table>\n",
       "<p>712 rows × 12 columns</p>\n",
       "</div>"
      ],
      "text/plain": [
       "     PassengerId  Survived  Pclass                                Name  \\\n",
       "331          332         0       1                 Partner, Mr. Austen   \n",
       "733          734         0       2          Berriman, Mr. William John   \n",
       "382          383         0       3                  Tikkanen, Mr. Juho   \n",
       "704          705         0       3             Hansen, Mr. Henrik Juul   \n",
       "813          814         0       3  Andersson, Miss. Ebba Iris Alfrida   \n",
       "..           ...       ...     ...                                 ...   \n",
       "106          107         1       3    Salkjelsvik, Miss. Anna Kristine   \n",
       "270          271         0       1               Cairns, Mr. Alexander   \n",
       "860          861         0       3             Hansen, Mr. Claus Peter   \n",
       "435          436         1       1           Carter, Miss. Lucile Polk   \n",
       "102          103         0       1           White, Mr. Richard Frasar   \n",
       "\n",
       "        Sex       Age  SibSp  Parch             Ticket      Fare    Cabin  \\\n",
       "331    male     Elder      0      0             113043   28.5000     C124   \n",
       "733    male     Adult      0      0              28425   13.0000      NaN   \n",
       "382    male     Adult      0      0  STON/O 2. 3101293    7.9250      NaN   \n",
       "704    male     Adult      1      0             350025    7.8542      NaN   \n",
       "813  female  Children      4      2             347082   31.2750      NaN   \n",
       "..      ...       ...    ...    ...                ...       ...      ...   \n",
       "106  female     Adult      0      0             343120    7.6500      NaN   \n",
       "270    male     Adult      0      0             113798   31.0000      NaN   \n",
       "860    male     Elder      2      0             350026   14.1083      NaN   \n",
       "435  female   Teenage      1      2             113760  120.0000  B96 B98   \n",
       "102    male     Adult      0      1              35281   77.2875      D26   \n",
       "\n",
       "    Embarked  \n",
       "331        S  \n",
       "733        S  \n",
       "382        S  \n",
       "704        S  \n",
       "813        S  \n",
       "..       ...  \n",
       "106        S  \n",
       "270        S  \n",
       "860        S  \n",
       "435        S  \n",
       "102        S  \n",
       "\n",
       "[712 rows x 12 columns]"
      ]
     },
     "execution_count": 9,
     "metadata": {},
     "output_type": "execute_result"
    }
   ],
   "source": [
    "# 根据不同年龄段，打上不同的标签\n",
    "temp['Age'] = pd.cut(temp['Age'], bins = [0,12,20,40,120],labels=['Children','Teenage','Adult','Elder'])\n",
    "\n",
    "temp"
   ]
  },
  {
   "cell_type": "code",
   "execution_count": 10,
   "id": "07d78e4c",
   "metadata": {
    "ExecuteTime": {
     "end_time": "2022-04-27T07:01:26.711304Z",
     "start_time": "2022-04-27T07:01:26.328988Z"
    }
   },
   "outputs": [
    {
     "data": {
      "text/plain": [
       "[Text(0, 0, '52'), Text(0, 0, '84'), Text(0, 0, '450'), Text(0, 0, '120')]"
      ]
     },
     "execution_count": 10,
     "metadata": {},
     "output_type": "execute_result"
    },
    {
     "data": {
      "image/png": "[encoded data removed]",
      "text/plain": [
       "<Figure size 432x288 with 1 Axes>"
      ]
     },
     "metadata": {
      "needs_background": "light"
     },
     "output_type": "display_data"
    }
   ],
   "source": [
    "# 根据年龄段进行数据可视化\n",
    "ax = sns.countplot(data = temp, x='Age')\n",
    "ax.bar_label(ax.containers[0])"
   ]
  },
  {
   "cell_type": "code",
   "execution_count": 11,
   "id": "fa5956e3",
   "metadata": {
    "ExecuteTime": {
     "end_time": "2022-04-27T07:01:27.327315Z",
     "start_time": "2022-04-27T07:01:26.788355Z"
    }
   },
   "outputs": [
    {
     "data": {
      "image/png": "[encoded data removed]",
      "text/plain": [
       "<Figure size 432x288 with 1 Axes>"
      ]
     },
     "metadata": {
      "needs_background": "light"
     },
     "output_type": "display_data"
    }
   ],
   "source": [
    "# 统计每个年龄段surived和not surived 的人数\n",
    "ax=sns.countplot(data = temp, x = 'Age',hue= 'Survived')  \n",
    "# data：df或array或array列表，用于绘图的数据集，x或y缺失时，data参数为数据集，同时x或y不可缺少，必须要有其中一个\n",
    "# x： x轴上的条形图，以x标签划分统计个数\n",
    "# hue：在x或y标签划分的同时，再以hue标签划分统计个数\n",
    "ax.bar_label(ax.containers[0]);\n",
    "ax.bar_label(ax.containers[1]);\n",
    "plt.legend(title='Survived or Not',loc='upper right',labels=['No','Yes']);\n",
    "plt.title('Age VS Survived')\n",
    "plt.show()"
   ]
  },
  {
   "cell_type": "markdown",
   "id": "f75dc510",
   "metadata": {},
   "source": [
    "#### fare VS Survived"
   ]
  },
  {
   "cell_type": "code",
   "execution_count": 12,
   "id": "52916764",
   "metadata": {
    "ExecuteTime": {
     "end_time": "2022-04-27T07:01:27.477134Z",
     "start_time": "2022-04-27T07:01:27.459457Z"
    }
   },
   "outputs": [
    {
     "data": {
      "text/plain": [
       "32.586276123595475"
      ]
     },
     "execution_count": 12,
     "metadata": {},
     "output_type": "execute_result"
    }
   ],
   "source": [
    "# 票价fare\n",
    "# 票价的平均值\n",
    "temp['Fare'].mean()"
   ]
  },
  {
   "cell_type": "code",
   "execution_count": 13,
   "id": "b65a6bfd",
   "metadata": {
    "ExecuteTime": {
     "end_time": "2022-04-27T07:01:30.887222Z",
     "start_time": "2022-04-27T07:01:30.419200Z"
    }
   },
   "outputs": [
    {
     "data": {
      "text/plain": [
       "<AxesSubplot:>"
      ]
     },
     "execution_count": 13,
     "metadata": {},
     "output_type": "execute_result"
    },
    {
     "data": {
      "image/png": "[encoded data removed]",
      "text/plain": [
       "<Figure size 432x288 with 1 Axes>"
      ]
     },
     "metadata": {
      "needs_background": "light"
     },
     "output_type": "display_data"
    }
   ],
   "source": [
    "temp['Fare'].hist(bins=20)  # Pandas的画图函数：df.hist()"
   ]
  },
  {
   "cell_type": "code",
   "execution_count": 14,
   "id": "bbbc38a0",
   "metadata": {
    "ExecuteTime": {
     "end_time": "2022-04-27T07:01:34.042756Z",
     "start_time": "2022-04-27T07:01:32.830800Z"
    }
   },
   "outputs": [
    {
     "data": {
      "image/png": "[encoded data removed]",
      "text/plain": [
       "<Figure size 432x288 with 1 Axes>"
      ]
     },
     "metadata": {
      "needs_background": "light"
     },
     "output_type": "display_data"
    }
   ],
   "source": [
    "# 根据票价，分为四个分段 \n",
    "temp['Fare'] = pd.cut(temp['Fare'], bins=[0,8,16,32,110], labels=['Low_fare','median_fare','Average_fare','high_fare'])\n",
    "ax = sns.countplot(data=temp, x='Fare')\n",
    "ax.bar_label(ax.containers[0]);"
   ]
  },
  {
   "cell_type": "code",
   "execution_count": 15,
   "id": "a7a14e4a",
   "metadata": {
    "ExecuteTime": {
     "end_time": "2022-04-27T06:52:33.768934Z",
     "start_time": "2022-04-27T06:52:33.254281Z"
    }
   },
   "outputs": [
    {
     "data": {
      "image/png": "[encoded data removed]",
      "text/plain": [
       "<Figure size 432x288 with 1 Axes>"
      ]
     },
     "metadata": {
      "needs_background": "light"
     },
     "output_type": "display_data"
    }
   ],
   "source": [
    "# 各个票价分段，存活和死亡的人数\n",
    "ax = sns.countplot(data=temp, x='Fare',hue='Survived')\n",
    "ax.bar_label(ax.containers[0]);\n",
    "ax.bar_label(ax.containers[1]);\n",
    "plt.legend(title='Survived or Not', loc='upper right', labels=['No', 'Yes']);\n",
    "plt.title('Fare Vs Survived')\n",
    "plt.show();"
   ]
  },
  {
   "cell_type": "markdown",
   "id": "8e5cc825",
   "metadata": {},
   "source": [
    "#### Cabin VS Survived"
   ]
  },
  {
   "cell_type": "code",
   "execution_count": 16,
   "id": "f2f9cce7",
   "metadata": {
    "ExecuteTime": {
     "end_time": "2022-04-27T07:01:35.549838Z",
     "start_time": "2022-04-27T07:01:35.539340Z"
    }
   },
   "outputs": [
    {
     "data": {
      "text/plain": [
       "553"
      ]
     },
     "execution_count": 16,
     "metadata": {},
     "output_type": "execute_result"
    }
   ],
   "source": [
    "# Cabin座位信息\n",
    "nullCabin = temp.Cabin.isna().sum()\n",
    "nullCabin"
   ]
  },
  {
   "cell_type": "code",
   "execution_count": 17,
   "id": "d8a254e1",
   "metadata": {
    "ExecuteTime": {
     "end_time": "2022-04-27T07:01:37.321794Z",
     "start_time": "2022-04-27T07:01:37.310060Z"
    }
   },
   "outputs": [
    {
     "data": {
      "text/plain": [
       "331       C124\n",
       "733        NaN\n",
       "382        NaN\n",
       "704        NaN\n",
       "813        NaN\n",
       "        ...   \n",
       "106        NaN\n",
       "270        NaN\n",
       "860        NaN\n",
       "435    B96 B98\n",
       "102        D26\n",
       "Name: Cabin, Length: 712, dtype: object"
      ]
     },
     "execution_count": 17,
     "metadata": {},
     "output_type": "execute_result"
    }
   ],
   "source": [
    "temp['Cabin']"
   ]
  },
  {
   "cell_type": "code",
   "execution_count": 18,
   "id": "381544ac",
   "metadata": {
    "ExecuteTime": {
     "end_time": "2022-04-27T07:01:37.810423Z",
     "start_time": "2022-04-27T07:01:37.801999Z"
    }
   },
   "outputs": [
    {
     "data": {
      "text/plain": [
       "'77.67% Null Values'"
      ]
     },
     "execution_count": 18,
     "metadata": {},
     "output_type": "execute_result"
    }
   ],
   "source": [
    "# 座位信息缺失严重\n",
    "str(round(nullCabin/(len(temp))*100,2))+\"% Null Values\"\n",
    "# 有这么多空值，所以最好放弃它。"
   ]
  },
  {
   "cell_type": "code",
   "execution_count": 19,
   "id": "877fd54c",
   "metadata": {
    "ExecuteTime": {
     "end_time": "2022-04-27T07:01:38.330627Z",
     "start_time": "2022-04-27T07:01:38.320124Z"
    }
   },
   "outputs": [
    {
     "data": {
      "text/plain": [
       "array([1, 2, 3], dtype=int64)"
      ]
     },
     "execution_count": 19,
     "metadata": {},
     "output_type": "execute_result"
    }
   ],
   "source": [
    "# 仓位等级 Pclass : Passenger Class\n",
    "temp.Pclass.unique()"
   ]
  },
  {
   "cell_type": "code",
   "execution_count": 20,
   "id": "5ec834bf",
   "metadata": {
    "ExecuteTime": {
     "end_time": "2022-04-27T07:01:39.203432Z",
     "start_time": "2022-04-27T07:01:38.879217Z"
    }
   },
   "outputs": [
    {
     "data": {
      "image/png": "[encoded data removed]",
      "text/plain": [
       "<Figure size 432x288 with 1 Axes>"
      ]
     },
     "metadata": {
      "needs_background": "light"
     },
     "output_type": "display_data"
    }
   ],
   "source": [
    "ax = sns.countplot(data=temp,x='Pclass');\n",
    "ax.bar_label(ax.containers[0]);"
   ]
  },
  {
   "cell_type": "code",
   "execution_count": 21,
   "id": "692ac14c",
   "metadata": {
    "ExecuteTime": {
     "end_time": "2022-04-27T07:01:39.959469Z",
     "start_time": "2022-04-27T07:01:39.482502Z"
    }
   },
   "outputs": [
    {
     "data": {
      "image/png": "[encoded data removed]",
      "text/plain": [
       "<Figure size 432x288 with 1 Axes>"
      ]
     },
     "metadata": {
      "needs_background": "light"
     },
     "output_type": "display_data"
    }
   ],
   "source": [
    "ax = sns.countplot(data=temp,x='Pclass',hue='Survived');\n",
    "ax.bar_label(ax.containers[0]);\n",
    "ax.bar_label(ax.containers[1]);\n",
    "plt.legend(title='Survived or Not', loc='upper left', labels=['No', 'Yes']);"
   ]
  },
  {
   "cell_type": "markdown",
   "id": "57e9bd73",
   "metadata": {},
   "source": [
    "#### Sex VS Survived"
   ]
  },
  {
   "cell_type": "code",
   "execution_count": 22,
   "id": "aa490727",
   "metadata": {
    "ExecuteTime": {
     "end_time": "2022-04-27T07:02:57.064000Z",
     "start_time": "2022-04-27T07:02:57.050334Z"
    }
   },
   "outputs": [
    {
     "data": {
      "text/plain": [
       "array(['male', 'female'], dtype=object)"
      ]
     },
     "execution_count": 22,
     "metadata": {},
     "output_type": "execute_result"
    }
   ],
   "source": [
    "# Sex\n",
    "# 查看Sex的值有哪些\n",
    "temp.Sex.unique()"
   ]
  },
  {
   "cell_type": "code",
   "execution_count": 23,
   "id": "b83a07ad",
   "metadata": {
    "ExecuteTime": {
     "end_time": "2022-04-27T07:04:17.584207Z",
     "start_time": "2022-04-27T07:04:17.282648Z"
    }
   },
   "outputs": [
    {
     "data": {
      "image/png": "[encoded data removed]",
      "text/plain": [
       "<Figure size 432x288 with 1 Axes>"
      ]
     },
     "metadata": {
      "needs_background": "light"
     },
     "output_type": "display_data"
    }
   ],
   "source": [
    "# 查看性别的分布情况\n",
    "ax = sns.countplot(data=temp,x='Sex');\n",
    "ax.bar_label(ax.containers[0]);"
   ]
  },
  {
   "cell_type": "code",
   "execution_count": 24,
   "id": "5e34e764",
   "metadata": {
    "ExecuteTime": {
     "end_time": "2022-04-27T07:04:41.775519Z",
     "start_time": "2022-04-27T07:04:41.392489Z"
    }
   },
   "outputs": [
    {
     "data": {
      "image/png": "[encoded data removed]",
      "text/plain": [
       "<Figure size 432x288 with 1 Axes>"
      ]
     },
     "metadata": {
      "needs_background": "light"
     },
     "output_type": "display_data"
    }
   ],
   "source": [
    "# 性别与存货的关系\n",
    "# Sex vs Survived\n",
    "ax = sns.countplot(data=temp,x='Sex',hue='Survived');\n",
    "ax.bar_label(ax.containers[0]);\n",
    "ax.bar_label(ax.containers[1]);\n",
    "plt.legend(title='Survived or Not', loc='upper right', labels=['No', 'Yes']);"
   ]
  },
  {
   "cell_type": "markdown",
   "id": "c8d903db",
   "metadata": {},
   "source": [
    "#### SibSp VS Survived"
   ]
  },
  {
   "cell_type": "code",
   "execution_count": 25,
   "id": "c06de49d",
   "metadata": {
    "ExecuteTime": {
     "end_time": "2022-04-27T07:06:23.799820Z",
     "start_time": "2022-04-27T07:06:23.790261Z"
    }
   },
   "outputs": [
    {
     "data": {
      "text/plain": [
       "array([0, 1, 4, 3, 2, 8, 5], dtype=int64)"
      ]
     },
     "execution_count": 25,
     "metadata": {},
     "output_type": "execute_result"
    }
   ],
   "source": [
    "# SibSp : 泰坦尼克号上的兄弟姐妹/配偶的数量\n",
    "temp.SibSp.unique()"
   ]
  },
  {
   "cell_type": "code",
   "execution_count": 26,
   "id": "fe8904b5",
   "metadata": {
    "ExecuteTime": {
     "end_time": "2022-04-27T07:06:57.624073Z",
     "start_time": "2022-04-27T07:06:57.131883Z"
    }
   },
   "outputs": [
    {
     "data": {
      "image/png": "[encoded data removed]",
      "text/plain": [
       "<Figure size 432x288 with 1 Axes>"
      ]
     },
     "metadata": {
      "needs_background": "light"
     },
     "output_type": "display_data"
    }
   ],
   "source": [
    "#  泰坦尼克号上的兄弟姐妹/配偶的数量 分布\n",
    "ax = sns.countplot(data=temp,x='SibSp');\n",
    "ax.bar_label(ax.containers[0]);\n",
    "ax.set_xlabel('Number of Siblings');"
   ]
  },
  {
   "cell_type": "code",
   "execution_count": 27,
   "id": "84614c65",
   "metadata": {
    "ExecuteTime": {
     "end_time": "2022-04-27T07:08:12.349022Z",
     "start_time": "2022-04-27T07:08:11.664274Z"
    }
   },
   "outputs": [
    {
     "data": {
      "image/png": "[encoded data removed]",
      "text/plain": [
       "<Figure size 432x288 with 1 Axes>"
      ]
     },
     "metadata": {
      "needs_background": "light"
     },
     "output_type": "display_data"
    }
   ],
   "source": [
    "# Number of Siblings vs Survived\n",
    "# 兄弟姐妹、配偶数量与是否存货的关系\n",
    "ax = sns.countplot(data=temp,x='SibSp',hue='Survived');\n",
    "ax.bar_label(ax.containers[0]);\n",
    "ax.bar_label(ax.containers[1]);\n",
    "plt.legend(title='Survived or Not', loc='upper right', labels=['No', 'Yes']);\n",
    "plt.title('Effect of Number of Siblings On Survival')\n",
    "plt.show();"
   ]
  },
  {
   "cell_type": "markdown",
   "id": "af9a22a2",
   "metadata": {},
   "source": [
    "#### Parch VS Survived"
   ]
  },
  {
   "cell_type": "code",
   "execution_count": 28,
   "id": "efc3835d",
   "metadata": {
    "ExecuteTime": {
     "end_time": "2022-04-27T07:15:06.142386Z",
     "start_time": "2022-04-27T07:15:06.131818Z"
    }
   },
   "outputs": [
    {
     "data": {
      "text/plain": [
       "array([0, 2, 1, 6, 4, 3, 5], dtype=int64)"
      ]
     },
     "execution_count": 28,
     "metadata": {},
     "output_type": "execute_result"
    }
   ],
   "source": [
    "# Parch: 泰坦尼克号上的父母/孩子人数\n",
    "\n",
    "temp.Parch.unique()"
   ]
  },
  {
   "cell_type": "code",
   "execution_count": 29,
   "id": "2160297c",
   "metadata": {
    "ExecuteTime": {
     "end_time": "2022-04-27T07:15:13.966876Z",
     "start_time": "2022-04-27T07:15:13.493318Z"
    }
   },
   "outputs": [
    {
     "data": {
      "image/png": "[encoded data removed]",
      "text/plain": [
       "<Figure size 432x288 with 1 Axes>"
      ]
     },
     "metadata": {
      "needs_background": "light"
     },
     "output_type": "display_data"
    }
   ],
   "source": [
    "ax = sns.countplot(data=temp,x='Parch');\n",
    "ax.bar_label(ax.containers[0]);\n",
    "ax.set_xlabel(' # Parents / Children Aboard The Titanic');"
   ]
  },
  {
   "cell_type": "code",
   "execution_count": 30,
   "id": "8a19da68",
   "metadata": {
    "ExecuteTime": {
     "end_time": "2022-04-27T07:15:24.339568Z",
     "start_time": "2022-04-27T07:15:23.576825Z"
    }
   },
   "outputs": [
    {
     "data": {
      "image/png": "[encoded data removed]",
      "text/plain": [
       "<Figure size 720x432 with 1 Axes>"
      ]
     },
     "metadata": {
      "needs_background": "light"
     },
     "output_type": "display_data"
    }
   ],
   "source": [
    "### Parch vs Survived\n",
    "plt.figure(figsize=(10,6))\n",
    "ax = sns.countplot(data=temp,x='Parch',hue='Survived');\n",
    "ax.bar_label(ax.containers[0]);\n",
    "ax.bar_label(ax.containers[1]);\n",
    "plt.legend(title='Survived or Not', loc='upper right', labels=['No', 'Yes']);\n",
    "plt.title('Effect of # Parents / Children Aboard The Titanic On Survival')\n",
    "plt.show();"
   ]
  },
  {
   "cell_type": "markdown",
   "id": "604fba69",
   "metadata": {},
   "source": [
    "#### Family Size(SibSp+Parch) VS Survived"
   ]
  },
  {
   "cell_type": "code",
   "execution_count": 31,
   "id": "45c2a400",
   "metadata": {
    "ExecuteTime": {
     "end_time": "2022-04-27T07:15:39.886618Z",
     "start_time": "2022-04-27T07:15:39.877115Z"
    }
   },
   "outputs": [],
   "source": [
    "temp['Family Size'] = temp['SibSp']+temp['Parch'] + 1"
   ]
  },
  {
   "cell_type": "code",
   "execution_count": 32,
   "id": "c346914e",
   "metadata": {
    "ExecuteTime": {
     "end_time": "2022-04-27T07:15:48.066108Z",
     "start_time": "2022-04-27T07:15:47.552194Z"
    }
   },
   "outputs": [
    {
     "data": {
      "image/png": "[encoded data removed]",
      "text/plain": [
       "<Figure size 432x288 with 1 Axes>"
      ]
     },
     "metadata": {
      "needs_background": "light"
     },
     "output_type": "display_data"
    }
   ],
   "source": [
    "ax = sns.countplot(data=temp, x='Family Size')\n",
    "ax.bar_label(ax.containers[0])\n",
    "ax.set_title('Family Size');"
   ]
  },
  {
   "cell_type": "code",
   "execution_count": 33,
   "id": "3e8bacec",
   "metadata": {
    "ExecuteTime": {
     "end_time": "2022-04-27T07:15:59.815610Z",
     "start_time": "2022-04-27T07:15:59.008567Z"
    }
   },
   "outputs": [
    {
     "data": {
      "image/png": "[encoded data removed]",
      "text/plain": [
       "<Figure size 720x432 with 1 Axes>"
      ]
     },
     "metadata": {
      "needs_background": "light"
     },
     "output_type": "display_data"
    }
   ],
   "source": [
    "### Family Size vs Survived\n",
    "plt.figure(figsize=(10,6))\n",
    "ax = sns.countplot(data=temp,x='Family Size',hue='Survived');\n",
    "ax.bar_label(ax.containers[0]);\n",
    "ax.bar_label(ax.containers[1]);\n",
    "plt.legend(title='Survived or Not', loc='upper right', labels=['No', 'Yes']);\n",
    "plt.title('Family Size vs Survival')\n",
    "plt.show();"
   ]
  },
  {
   "cell_type": "markdown",
   "id": "1ee092e9",
   "metadata": {},
   "source": [
    "#### Embarked VS Survived"
   ]
  },
  {
   "cell_type": "code",
   "execution_count": 34,
   "id": "caa3896c",
   "metadata": {
    "ExecuteTime": {
     "end_time": "2022-04-27T07:19:42.311120Z",
     "start_time": "2022-04-27T07:19:42.299901Z"
    }
   },
   "outputs": [
    {
     "data": {
      "text/plain": [
       "array(['S', 'C', 'Q', nan], dtype=object)"
      ]
     },
     "execution_count": 34,
     "metadata": {},
     "output_type": "execute_result"
    }
   ],
   "source": [
    "# Embarked 登船港口\n",
    "temp.Embarked.unique()"
   ]
  },
  {
   "cell_type": "code",
   "execution_count": 35,
   "id": "805027c9",
   "metadata": {
    "ExecuteTime": {
     "end_time": "2022-04-27T07:19:52.248487Z",
     "start_time": "2022-04-27T07:19:51.909272Z"
    }
   },
   "outputs": [
    {
     "data": {
      "image/png": "[encoded data removed]",
      "text/plain": [
       "<Figure size 432x288 with 1 Axes>"
      ]
     },
     "metadata": {
      "needs_background": "light"
     },
     "output_type": "display_data"
    }
   ],
   "source": [
    "ax = sns.countplot(data=temp,x='Embarked');\n",
    "ax.bar_label(ax.containers[0]);\n",
    "ax.set_xlabel(' Port of Embarkation');"
   ]
  },
  {
   "cell_type": "code",
   "execution_count": 36,
   "id": "fc9d3805",
   "metadata": {
    "ExecuteTime": {
     "end_time": "2022-04-27T07:20:00.669076Z",
     "start_time": "2022-04-27T07:20:00.150048Z"
    }
   },
   "outputs": [
    {
     "data": {
      "image/png": "[encoded data removed]",
      "text/plain": [
       "<Figure size 720x432 with 1 Axes>"
      ]
     },
     "metadata": {
      "needs_background": "light"
     },
     "output_type": "display_data"
    }
   ],
   "source": [
    "### Port of Embarkation vs Survived\n",
    "plt.figure(figsize=(10,6))\n",
    "ax = sns.countplot(data=temp,x='Embarked',hue='Survived');\n",
    "ax.bar_label(ax.containers[0]);\n",
    "ax.bar_label(ax.containers[1]);\n",
    "plt.legend(title='Survived or Not', loc='upper right', labels=['No', 'Yes']);\n",
    "plt.title('Port of Embarkation Effect On Survival')\n",
    "plt.show();"
   ]
  },
  {
   "cell_type": "markdown",
   "id": "6e375dcc",
   "metadata": {},
   "source": [
    "### EDA结论"
   ]
  },
  {
   "cell_type": "code",
   "execution_count": 37,
   "id": "65348034",
   "metadata": {
    "ExecuteTime": {
     "end_time": "2022-04-27T07:22:03.841104Z",
     "start_time": "2022-04-27T07:22:03.830380Z"
    }
   },
   "outputs": [],
   "source": [
    "# EDA结论\n",
    "# EDA Analysis Results\n",
    "# Based On The Dataset Only 40% People Were Able To Survived The Disaster.\n",
    "# Mostly Childrens Are Being Rescued.\n",
    "# People Above Age 20 had a chance of 35% of Being Survived From The Disaster.\n",
    "# People Paid High Fare and Class Means VIPs Are Given Priority For Rescued.\n",
    "# Out of Male and Females, Almost 75% Femals Survived The Disaster.\n",
    "# People Traveling Alone or With A Smaller Family Size Upto 2 children had high chances of survival.\n",
    "# Family Size Under 5 Had Higher Chance of Survival On Titanic Disaster.\n",
    "# People Traveling Alone had approx 43% Chances of Survival.\n",
    "# Family with Size 5+ Had Lesser Chance of Complete Survival On Titanic Disaster.\n",
    "# 根据数据集，只有 40% 的人能够在灾难中幸存下来。\n",
    "# 大多数儿童正在获救。\n",
    "# 20 岁以上的人有 35% 的几率从灾难中幸存下来。\n",
    "# 人们支付高票价和等级意味着 VIP 优先获救。\n",
    "# 在男性和女性中，几乎 75% 的女性在灾难中幸存下来。\n",
    "# 独自旅行或与多达 2 名儿童一起旅行的人有很高的生存机会。\n",
    "# 5个成员以下的家庭在泰坦尼克号灾难中的生存几率更高。\n",
    "# 独自旅行的人有大约 43% 的生存机会。\n",
    "# 5个成员以上的家庭在泰坦尼克号灾难中完全生存的机会较小。"
   ]
  },
  {
   "cell_type": "markdown",
   "id": "decc0153",
   "metadata": {},
   "source": [
    "# 特征工程Feature Engineering"
   ]
  },
  {
   "cell_type": "markdown",
   "id": "9dd2fcef",
   "metadata": {},
   "source": [
    "## 什么是特征工程 "
   ]
  },
  {
   "cell_type": "markdown",
   "id": "91bf361a",
   "metadata": {},
   "source": [
    "从原数据提取特征（能很好的描述数据）的过程，并且利用特征建立的模型可在未知数据上的性能表现达到最优。  \n",
    "业界流传着这样一句话：“数据和特征决定机器学习的上线，而模型和算法只是逼近这个上限而已。” 换句话说，特征越好、灵活性越强，构建的模型越简单、性能越出色。  "
   ]
  },
  {
   "cell_type": "markdown",
   "id": "8b0993a0",
   "metadata": {},
   "source": [
    "简单的说，特征工程是能够将数据像艺术一样展现的技术。为什么这么说呢？因为好的特征工程很好的混合了专业领域知识、直觉和基本的数学能力。但是最有效的数据呈现其实并不涉及任何的数据运算。  \n",
    "\n",
    "本质上来说，呈现给算法的数据应该能拥有基本数据的相关结构或属性。当你做特征工程时，其实是将数据属性转换为数据特征的过程，属性代表了数据的所有维度，在数据建模时，如果对原始数据的所有属性进行学习，并不能很好的找到数据的潜在趋势，而通过特征工程对你的数据进行预处理的话，你的算法模型能够减少受到噪声的干扰，这样能够更好的找出趋势。事实上，好的特征甚至能够帮你实现使用简单的模型达到很好的效果。  \n",
    "\n",
    "但是对于特征工程中引用的新特征，需要验证它确实提高的预测的准确度，而不是加入了一个无用的特征，不然只会增加算法运算的复杂度。"
   ]
  },
  {
   "cell_type": "markdown",
   "id": "72d84f99",
   "metadata": {},
   "source": [
    "## 常用方法"
   ]
  },
  {
   "cell_type": "markdown",
   "id": "17294a9f",
   "metadata": {},
   "source": [
    "### 方法一：时间戳处理\n",
    "时间戳属性通常需要分离成多个维度比如年、月、日、小时、分钟、秒钟。但是在很多的应用中，大量的信息是不需要的。比如在一个监督系统中，尝试利用一个“位置+时间”的函数预测一个城市的交通故障程度，这个实例中，大部分会受到误导只通过不同的秒数去学习趋势，其实是不合理的。并且维度“年”也不能很好的给模型增加值的变化，我们可能仅仅需要小时、日、月等维度。因此当我们在呈现时间的时候，试着保证你所提供的所有数据是你的模型所需要的。  \n",
    "\n",
    "别忘了时区，假如你的数据源来自不同的地理位置，别忘了利用时区将数据标准化。  "
   ]
  },
  {
   "cell_type": "markdown",
   "id": "544414f5",
   "metadata": {},
   "source": [
    "### 方法二：分解类别属性\n",
    "一些属性是类别型而不是数值型，举一个简单的例子，由{红，绿、蓝}组成的颜色属性，最常用的方式是把每个类别属性转换成二元属性，即从{0,1}取一个值。因此基本上增加的属性等于相应数目的类别，并且对于你数据集中的每个实例，只有一个是1（其他的为0），这也就是独热（one-hot)编码方式（类似于转换成哑变量）。\n",
    "\n",
    "如果你不了解这个编码的话，你可能会觉得分解会增加没必要的麻烦（因为编码大量的增加了数据集的维度）。相反，你可能会尝试将类别属性转换成一个标量值，例如颜色属性可能会用{1,2,3}表示{红，绿，蓝}。这里存在两个问题：首先，对于一个数学模型，这意味着某种意义上红色和绿色比和蓝色更“相似”（因为|1-3| > |1-2|）。除非你的类别拥有排序的属性（比如铁路线上的站），这样可能会误导你的模型。然后，可能会导致统计指标（比如均值）无意义，更糟糕的情况是，会误导你的模型。还是颜色的例子，假如你的数据集包含相同数量的红色和蓝色的实例，但是没有绿色的，那么颜色的均值可能还是得到2，也就是绿色的意思。\n",
    "\n",
    "能够将类别属性转换成一个标量，最有效的场景应该就是只有两个类别的情况。即{0,1}对应{类别1，类别2}。这种情况下，并不需要排序，并且你可以将属性的值理解成属于类别1/类别2的概率。"
   ]
  },
  {
   "cell_type": "markdown",
   "id": "874aac88",
   "metadata": {},
   "source": [
    "### 方法三：分箱或分区\n",
    "有时候，将数值型属性转换成类别呈现更有意义，同时能使算法减少噪声的干扰，通过将一定范围内的数值划分成确定的块。举个例子，我们预测一个人是否拥有某款衣服，这里年龄是一个确切的因子。其实年龄组是更为相关的因子，所有我们可以将年龄分布划分成1-10,11-18,19-25,26-40等。而且，不是将这些类别分解成2个点，你可以使用标量值，因为相近的年龄组表现出相似的属性。\n",
    "\n",
    "只有在了解属性的领域知识的基础，确定属性能够划分成简洁的范围时分区才有意义。即所有的数值落入一个分区时能够呈现出共同的特征。在实际应用中，当你不想让你的模型总是尝试区分值之间是否太近时，分区能够避免出现过拟合。例如，如果你所感兴趣的是将一个城市作为整体，这时你可以将所有落入该城市的维度值进行整合成一个整体。分箱也能减小小错误的影响，通过将一个给定值划入到最近的块中。如果划分范围的数量和所有可能值相近，或对你来说准确率很重要的话，此时分箱就不适合了。"
   ]
  },
  {
   "cell_type": "markdown",
   "id": "cff3039d",
   "metadata": {},
   "source": [
    "### 方法四：交叉特征\n",
    "交叉特征算是特征工程中非常重要的方法之一了，交叉特征是一种很独特的方式，它将两个或更多的类别属性组合成一个。当组合的特征要比单个特征更好时，这是一项非常有用的技术。数学上来说，是对类别特征的所有可能值进行交叉相乘。\n",
    "\n",
    "假如拥有一个特征A，A有两个可能值{A1,A2}。拥有一个特征B，存在{B1,B2}等可能值。然后，A&B之间的交叉特征如下：{(A1,B1),(A1,B2),(A2,B1),(A2,B2)}，并且你可以给这些组合特征取任何名字。但是需要明白每个组合特征其实代表着A和B各自信息协同作用。\n",
    "\n",
    "一个更好地诠释好的交叉特征的实例是类似于(经度,纬度)。一个相同的经度对应了地图上很多的地方，纬度也是一样。但是一旦你将经度和纬度组合到一起，它们就代表了地理上特定的一块区域，区域中每一部分是拥有着类似的特性。"
   ]
  },
  {
   "cell_type": "markdown",
   "id": "a81596c2",
   "metadata": {},
   "source": [
    "### 方法五：特征选择  \n",
    "\n",
    "\n",
    "大数据集 带来的关键信息只聚集在部分或少数特征上，因此需要：  \n",
    "从中选择出重要的特征使得后续的建模过程只在一部分的特征上构建，减少维数灾难出现的可能；    \n",
    "去除不相关的特征，留下关键因素，降低学习任务难度，更容易挖掘数据本身带有的规 律；同时在特征选择的过程中，会对数据特征的理解更加充分。  \n",
    "\n",
    "为了得到更好的模型，使用某些算法自动的选出原始特征的子集。这个过程，你不会构建或修改你拥有的特征，但是会通过修剪特征来达到减少噪声和冗余。\n",
    "\n",
    "那些和我们解决的问题无关需要被移除的属性，在我们的数据特征中存在了一些特征对于提高模型的准确率比其他更重要的特征，也还有一些特征与其他特征放在一起出现了冗余，特征选择是通过自动选出对于解决问题最有用的特征子集来解决上述问题的。\n",
    "\n",
    "特征选择算法可能会用到评分方法来排名和选择特征，比如相关性或其他确定特征重要性的方法，更进一步的方法可能需要通过试错，来搜索出特征子集。\n",
    "\n",
    "还有通过构建辅助模型的方法，逐步回归就是模型构造过程中自动执行特征选择算法的一个实例，还有像Lasso回归和岭回归等正则化方法也被归入到特征选择，通过加入额外的约束或者惩罚项加到已有模型（损失函数）上，以防止过拟合并提高泛化能力。\n",
    "\n",
    "特征选择的三种方法：   \n",
    "包装方法（wrapper method）是“围绕”着特定的预测模型建立的。每个特征子集用来训练一个模型。训练得到的模型的泛化性能可以为该子集评分。包装方法是计算密集型的，但通常为特定模型提供表现最佳的特征集。  \n",
    "\n",
    "过滤方法（filter method）使用代理度量而不是错误率为特征子集评分。常用的度量包括互信息和相关系数。许多过滤器提供特征的排名，而不是一个明确的最佳特征子集。  \n",
    " \n",
    "嵌入方法（embedd method）将特征选择作为模型构建过程的一部分。这种方法的一个例子是用于构建线性模型的 LASSO 方法，它带有回归系数的惩罚，使得其中许多系数收缩到零，从而相应的特征可以消除。另一种方法是递归特征消除，常与支持向量机一起使用，反复构建一个模型，并删除低权重的特征。  "
   ]
  },
  {
   "cell_type": "markdown",
   "id": "4ef4ddec",
   "metadata": {},
   "source": [
    "### 方法六：特征缩放\n",
    "有时候，你可能会注意到某些特征比其他特征拥有高得多的跨度值。举个例子，将一个人的收入和他的年龄进行比较，更具体的例子，如某些模型（像岭回归）要求你必须将特征值缩放到相同的范围值内。通过缩放可以避免某些特征比其他特征获得大小非常悬殊的权重值。"
   ]
  },
  {
   "cell_type": "markdown",
   "id": "ae06fb5e",
   "metadata": {},
   "source": [
    "### 方法七：特征提取\n",
    "特征提取涉及到从原始属性中自动生成一些新的特征集的一系列算法，降维算法就属于这一类。  \n",
    "\n",
    "特征提取是一个自动将观测值降维到一个足够建模的小数据集的过程。对于列表数据，可使用的方法包括一些投影方法，像主成分分析和无监督聚类算法。对于图形数据，可能包括一些直线检测和边缘检测，对于不同领域有各自的方法。\n",
    "\n",
    "特征提取的关键点在于这些方法是自动的（虽然可能需要从简单方法中设计和构建得到），还能够解决不受控制的高维数据的问题。大部分的情况下，是将这些不同类型数据（如图，语言，视频等）存成数字格式来进行模拟观察。\n",
    "\n",
    "特征选择和降维有着些许的相似点，这两者达到的效果是一样的，就是试图去减少特征数据集中的属性(或者称为特征)的数目；但是两者所采用的方式方法却不同：降维的方法主要是通过属性间的关系，如组合不同的属性得新的属性，这样就改变了原来的特征空间；而特征选择的方法是从原始特征数据集中选择出子集，是一种包含的关系，没有更改原始的特征空间。\n",
    "\n",
    "方法:   \n",
    "SVD - 奇异值分解  \n",
    "PCA - 主成分分析   \n",
    "LDA - 线性判别分析    \n",
    "LLE - 局部线性嵌入  \n",
    "\n",
    "\n"
   ]
  },
  {
   "cell_type": "markdown",
   "id": "817999cc",
   "metadata": {},
   "source": [
    "## 基于分箱+分解类别属性的特征工程"
   ]
  },
  {
   "cell_type": "markdown",
   "id": "158f16af",
   "metadata": {},
   "source": [
    "分箱： pandas.cut  \n",
    "分解类别属性: pandas.get_dummies\n",
    "\n",
    "详细说明见Pandas/Pandas与机器学习.ipynb  "
   ]
  },
  {
   "cell_type": "code",
   "execution_count": 38,
   "id": "354fb87b",
   "metadata": {
    "ExecuteTime": {
     "end_time": "2022-04-27T07:34:54.433827Z",
     "start_time": "2022-04-27T07:34:54.418109Z"
    }
   },
   "outputs": [],
   "source": [
    "def clean_data(data):\n",
    "    # Let's Start By Dropping `PassengerID` `Name` `Ticket` `Cabin` \n",
    "    # 删除关联性不大的`PassengerID` `Name` `Ticket` `Cabin`列\n",
    "    data = data.drop(['PassengerId','Name','Ticket','Cabin'],axis=1)\n",
    "    \n",
    "    #### Converting Age Into Four Different Classes 'Children', 'Teenage','Adult', 'old'\n",
    "    # 根据年龄分为四个不同的类别“儿童”、“青少年”、“成人”、“老年”\n",
    "    # https://pandas.pydata.org/pandas-docs/stable/reference/api/pandas.cut.html    \n",
    "    data['Age'] = pd.cut(data['Age'], bins=[0,12,20,40,120], labels=['Children','Teenage','Adult','Elder'])\n",
    "    \n",
    "    #### Converting Fare Into Four Distinct Categories 'Low_fare','median_fare','Average_fare','high_fare'\n",
    "    # 根据票价转换为四个不同的类别 'Low_fare'、'median_fare'、'Average_fare'、'high_fare'\n",
    "    data['Fare'] = pd.cut(data['Fare'], bins=[0,7.91,14.45,31,120], labels=['Low_fare','median_fare','Average_fare','high_fare'])\n",
    "    \n",
    "    #### Getting OneHotEncoding For Categorical Columns ['Age','Fare','Sex','Embarked']\n",
    "    # get_dummies函数进行one-hot编码， 比如Sex分为female和male，那么分为Sex_female和Sex_male，（1，0）表示Female\n",
    "    # https://pandas.pydata.org/pandas-docs/stable/reference/api/pandas.get_dummies.html\n",
    "    data = pd.get_dummies(data, columns = [\"Sex\",\"Age\",\"Embarked\",\"Fare\"])\n",
    "    \n",
    "    return data"
   ]
  },
  {
   "cell_type": "code",
   "execution_count": 39,
   "id": "80ff4c92",
   "metadata": {
    "ExecuteTime": {
     "end_time": "2022-04-27T07:35:25.041585Z",
     "start_time": "2022-04-27T07:35:24.980770Z"
    }
   },
   "outputs": [
    {
     "data": {
      "text/html": [
       "<div>\n",
       "<style scoped>\n",
       "    .dataframe tbody tr th:only-of-type {\n",
       "        vertical-align: middle;\n",
       "    }\n",
       "\n",
       "    .dataframe tbody tr th {\n",
       "        vertical-align: top;\n",
       "    }\n",
       "\n",
       "    .dataframe thead th {\n",
       "        text-align: right;\n",
       "    }\n",
       "</style>\n",
       "<table border=\"1\" class=\"dataframe\">\n",
       "  <thead>\n",
       "    <tr style=\"text-align: right;\">\n",
       "      <th></th>\n",
       "      <th>Survived</th>\n",
       "      <th>Pclass</th>\n",
       "      <th>SibSp</th>\n",
       "      <th>Parch</th>\n",
       "      <th>Sex_female</th>\n",
       "      <th>Sex_male</th>\n",
       "      <th>Age_Children</th>\n",
       "      <th>Age_Teenage</th>\n",
       "      <th>Age_Adult</th>\n",
       "      <th>Age_Elder</th>\n",
       "      <th>Embarked_C</th>\n",
       "      <th>Embarked_Q</th>\n",
       "      <th>Embarked_S</th>\n",
       "      <th>Fare_Low_fare</th>\n",
       "      <th>Fare_median_fare</th>\n",
       "      <th>Fare_Average_fare</th>\n",
       "      <th>Fare_high_fare</th>\n",
       "    </tr>\n",
       "  </thead>\n",
       "  <tbody>\n",
       "    <tr>\n",
       "      <th>331</th>\n",
       "      <td>0</td>\n",
       "      <td>1</td>\n",
       "      <td>0</td>\n",
       "      <td>0</td>\n",
       "      <td>0</td>\n",
       "      <td>1</td>\n",
       "      <td>0</td>\n",
       "      <td>0</td>\n",
       "      <td>0</td>\n",
       "      <td>1</td>\n",
       "      <td>0</td>\n",
       "      <td>0</td>\n",
       "      <td>1</td>\n",
       "      <td>0</td>\n",
       "      <td>0</td>\n",
       "      <td>1</td>\n",
       "      <td>0</td>\n",
       "    </tr>\n",
       "    <tr>\n",
       "      <th>733</th>\n",
       "      <td>0</td>\n",
       "      <td>2</td>\n",
       "      <td>0</td>\n",
       "      <td>0</td>\n",
       "      <td>0</td>\n",
       "      <td>1</td>\n",
       "      <td>0</td>\n",
       "      <td>0</td>\n",
       "      <td>1</td>\n",
       "      <td>0</td>\n",
       "      <td>0</td>\n",
       "      <td>0</td>\n",
       "      <td>1</td>\n",
       "      <td>0</td>\n",
       "      <td>1</td>\n",
       "      <td>0</td>\n",
       "      <td>0</td>\n",
       "    </tr>\n",
       "    <tr>\n",
       "      <th>382</th>\n",
       "      <td>0</td>\n",
       "      <td>3</td>\n",
       "      <td>0</td>\n",
       "      <td>0</td>\n",
       "      <td>0</td>\n",
       "      <td>1</td>\n",
       "      <td>0</td>\n",
       "      <td>0</td>\n",
       "      <td>1</td>\n",
       "      <td>0</td>\n",
       "      <td>0</td>\n",
       "      <td>0</td>\n",
       "      <td>1</td>\n",
       "      <td>0</td>\n",
       "      <td>1</td>\n",
       "      <td>0</td>\n",
       "      <td>0</td>\n",
       "    </tr>\n",
       "    <tr>\n",
       "      <th>704</th>\n",
       "      <td>0</td>\n",
       "      <td>3</td>\n",
       "      <td>1</td>\n",
       "      <td>0</td>\n",
       "      <td>0</td>\n",
       "      <td>1</td>\n",
       "      <td>0</td>\n",
       "      <td>0</td>\n",
       "      <td>1</td>\n",
       "      <td>0</td>\n",
       "      <td>0</td>\n",
       "      <td>0</td>\n",
       "      <td>1</td>\n",
       "      <td>1</td>\n",
       "      <td>0</td>\n",
       "      <td>0</td>\n",
       "      <td>0</td>\n",
       "    </tr>\n",
       "    <tr>\n",
       "      <th>813</th>\n",
       "      <td>0</td>\n",
       "      <td>3</td>\n",
       "      <td>4</td>\n",
       "      <td>2</td>\n",
       "      <td>1</td>\n",
       "      <td>0</td>\n",
       "      <td>1</td>\n",
       "      <td>0</td>\n",
       "      <td>0</td>\n",
       "      <td>0</td>\n",
       "      <td>0</td>\n",
       "      <td>0</td>\n",
       "      <td>1</td>\n",
       "      <td>0</td>\n",
       "      <td>0</td>\n",
       "      <td>0</td>\n",
       "      <td>1</td>\n",
       "    </tr>\n",
       "    <tr>\n",
       "      <th>...</th>\n",
       "      <td>...</td>\n",
       "      <td>...</td>\n",
       "      <td>...</td>\n",
       "      <td>...</td>\n",
       "      <td>...</td>\n",
       "      <td>...</td>\n",
       "      <td>...</td>\n",
       "      <td>...</td>\n",
       "      <td>...</td>\n",
       "      <td>...</td>\n",
       "      <td>...</td>\n",
       "      <td>...</td>\n",
       "      <td>...</td>\n",
       "      <td>...</td>\n",
       "      <td>...</td>\n",
       "      <td>...</td>\n",
       "      <td>...</td>\n",
       "    </tr>\n",
       "    <tr>\n",
       "      <th>106</th>\n",
       "      <td>1</td>\n",
       "      <td>3</td>\n",
       "      <td>0</td>\n",
       "      <td>0</td>\n",
       "      <td>1</td>\n",
       "      <td>0</td>\n",
       "      <td>0</td>\n",
       "      <td>0</td>\n",
       "      <td>1</td>\n",
       "      <td>0</td>\n",
       "      <td>0</td>\n",
       "      <td>0</td>\n",
       "      <td>1</td>\n",
       "      <td>1</td>\n",
       "      <td>0</td>\n",
       "      <td>0</td>\n",
       "      <td>0</td>\n",
       "    </tr>\n",
       "    <tr>\n",
       "      <th>270</th>\n",
       "      <td>0</td>\n",
       "      <td>1</td>\n",
       "      <td>0</td>\n",
       "      <td>0</td>\n",
       "      <td>0</td>\n",
       "      <td>1</td>\n",
       "      <td>0</td>\n",
       "      <td>0</td>\n",
       "      <td>1</td>\n",
       "      <td>0</td>\n",
       "      <td>0</td>\n",
       "      <td>0</td>\n",
       "      <td>1</td>\n",
       "      <td>0</td>\n",
       "      <td>0</td>\n",
       "      <td>1</td>\n",
       "      <td>0</td>\n",
       "    </tr>\n",
       "    <tr>\n",
       "      <th>860</th>\n",
       "      <td>0</td>\n",
       "      <td>3</td>\n",
       "      <td>2</td>\n",
       "      <td>0</td>\n",
       "      <td>0</td>\n",
       "      <td>1</td>\n",
       "      <td>0</td>\n",
       "      <td>0</td>\n",
       "      <td>0</td>\n",
       "      <td>1</td>\n",
       "      <td>0</td>\n",
       "      <td>0</td>\n",
       "      <td>1</td>\n",
       "      <td>0</td>\n",
       "      <td>1</td>\n",
       "      <td>0</td>\n",
       "      <td>0</td>\n",
       "    </tr>\n",
       "    <tr>\n",
       "      <th>435</th>\n",
       "      <td>1</td>\n",
       "      <td>1</td>\n",
       "      <td>1</td>\n",
       "      <td>2</td>\n",
       "      <td>1</td>\n",
       "      <td>0</td>\n",
       "      <td>0</td>\n",
       "      <td>1</td>\n",
       "      <td>0</td>\n",
       "      <td>0</td>\n",
       "      <td>0</td>\n",
       "      <td>0</td>\n",
       "      <td>1</td>\n",
       "      <td>0</td>\n",
       "      <td>0</td>\n",
       "      <td>0</td>\n",
       "      <td>1</td>\n",
       "    </tr>\n",
       "    <tr>\n",
       "      <th>102</th>\n",
       "      <td>0</td>\n",
       "      <td>1</td>\n",
       "      <td>0</td>\n",
       "      <td>1</td>\n",
       "      <td>0</td>\n",
       "      <td>1</td>\n",
       "      <td>0</td>\n",
       "      <td>0</td>\n",
       "      <td>1</td>\n",
       "      <td>0</td>\n",
       "      <td>0</td>\n",
       "      <td>0</td>\n",
       "      <td>1</td>\n",
       "      <td>0</td>\n",
       "      <td>0</td>\n",
       "      <td>0</td>\n",
       "      <td>1</td>\n",
       "    </tr>\n",
       "  </tbody>\n",
       "</table>\n",
       "<p>712 rows × 17 columns</p>\n",
       "</div>"
      ],
      "text/plain": [
       "     Survived  Pclass  SibSp  Parch  Sex_female  Sex_male  Age_Children  \\\n",
       "331         0       1      0      0           0         1             0   \n",
       "733         0       2      0      0           0         1             0   \n",
       "382         0       3      0      0           0         1             0   \n",
       "704         0       3      1      0           0         1             0   \n",
       "813         0       3      4      2           1         0             1   \n",
       "..        ...     ...    ...    ...         ...       ...           ...   \n",
       "106         1       3      0      0           1         0             0   \n",
       "270         0       1      0      0           0         1             0   \n",
       "860         0       3      2      0           0         1             0   \n",
       "435         1       1      1      2           1         0             0   \n",
       "102         0       1      0      1           0         1             0   \n",
       "\n",
       "     Age_Teenage  Age_Adult  Age_Elder  Embarked_C  Embarked_Q  Embarked_S  \\\n",
       "331            0          0          1           0           0           1   \n",
       "733            0          1          0           0           0           1   \n",
       "382            0          1          0           0           0           1   \n",
       "704            0          1          0           0           0           1   \n",
       "813            0          0          0           0           0           1   \n",
       "..           ...        ...        ...         ...         ...         ...   \n",
       "106            0          1          0           0           0           1   \n",
       "270            0          1          0           0           0           1   \n",
       "860            0          0          1           0           0           1   \n",
       "435            1          0          0           0           0           1   \n",
       "102            0          1          0           0           0           1   \n",
       "\n",
       "     Fare_Low_fare  Fare_median_fare  Fare_Average_fare  Fare_high_fare  \n",
       "331              0                 0                  1               0  \n",
       "733              0                 1                  0               0  \n",
       "382              0                 1                  0               0  \n",
       "704              1                 0                  0               0  \n",
       "813              0                 0                  0               1  \n",
       "..             ...               ...                ...             ...  \n",
       "106              1                 0                  0               0  \n",
       "270              0                 0                  1               0  \n",
       "860              0                 1                  0               0  \n",
       "435              0                 0                  0               1  \n",
       "102              0                 0                  0               1  \n",
       "\n",
       "[712 rows x 17 columns]"
      ]
     },
     "execution_count": 39,
     "metadata": {},
     "output_type": "execute_result"
    }
   ],
   "source": [
    "df_train = clean_data(df_train)\n",
    "df_train"
   ]
  },
  {
   "cell_type": "code",
   "execution_count": 40,
   "id": "ffeab4d7",
   "metadata": {
    "ExecuteTime": {
     "end_time": "2022-04-27T07:42:22.475457Z",
     "start_time": "2022-04-27T07:42:22.463171Z"
    }
   },
   "outputs": [
    {
     "data": {
      "text/html": [
       "<div>\n",
       "<style scoped>\n",
       "    .dataframe tbody tr th:only-of-type {\n",
       "        vertical-align: middle;\n",
       "    }\n",
       "\n",
       "    .dataframe tbody tr th {\n",
       "        vertical-align: top;\n",
       "    }\n",
       "\n",
       "    .dataframe thead th {\n",
       "        text-align: right;\n",
       "    }\n",
       "</style>\n",
       "<table border=\"1\" class=\"dataframe\">\n",
       "  <thead>\n",
       "    <tr style=\"text-align: right;\">\n",
       "      <th></th>\n",
       "      <th>Pclass</th>\n",
       "      <th>SibSp</th>\n",
       "      <th>Parch</th>\n",
       "      <th>Sex_female</th>\n",
       "      <th>Sex_male</th>\n",
       "      <th>Age_Children</th>\n",
       "      <th>Age_Teenage</th>\n",
       "      <th>Age_Adult</th>\n",
       "      <th>Age_Elder</th>\n",
       "      <th>Embarked_C</th>\n",
       "      <th>Embarked_Q</th>\n",
       "      <th>Embarked_S</th>\n",
       "      <th>Fare_Low_fare</th>\n",
       "      <th>Fare_median_fare</th>\n",
       "      <th>Fare_Average_fare</th>\n",
       "      <th>Fare_high_fare</th>\n",
       "    </tr>\n",
       "  </thead>\n",
       "  <tbody>\n",
       "    <tr>\n",
       "      <th>331</th>\n",
       "      <td>1</td>\n",
       "      <td>0</td>\n",
       "      <td>0</td>\n",
       "      <td>0</td>\n",
       "      <td>1</td>\n",
       "      <td>0</td>\n",
       "      <td>0</td>\n",
       "      <td>0</td>\n",
       "      <td>1</td>\n",
       "      <td>0</td>\n",
       "      <td>0</td>\n",
       "      <td>1</td>\n",
       "      <td>0</td>\n",
       "      <td>0</td>\n",
       "      <td>1</td>\n",
       "      <td>0</td>\n",
       "    </tr>\n",
       "    <tr>\n",
       "      <th>733</th>\n",
       "      <td>2</td>\n",
       "      <td>0</td>\n",
       "      <td>0</td>\n",
       "      <td>0</td>\n",
       "      <td>1</td>\n",
       "      <td>0</td>\n",
       "      <td>0</td>\n",
       "      <td>1</td>\n",
       "      <td>0</td>\n",
       "      <td>0</td>\n",
       "      <td>0</td>\n",
       "      <td>1</td>\n",
       "      <td>0</td>\n",
       "      <td>1</td>\n",
       "      <td>0</td>\n",
       "      <td>0</td>\n",
       "    </tr>\n",
       "    <tr>\n",
       "      <th>382</th>\n",
       "      <td>3</td>\n",
       "      <td>0</td>\n",
       "      <td>0</td>\n",
       "      <td>0</td>\n",
       "      <td>1</td>\n",
       "      <td>0</td>\n",
       "      <td>0</td>\n",
       "      <td>1</td>\n",
       "      <td>0</td>\n",
       "      <td>0</td>\n",
       "      <td>0</td>\n",
       "      <td>1</td>\n",
       "      <td>0</td>\n",
       "      <td>1</td>\n",
       "      <td>0</td>\n",
       "      <td>0</td>\n",
       "    </tr>\n",
       "    <tr>\n",
       "      <th>704</th>\n",
       "      <td>3</td>\n",
       "      <td>1</td>\n",
       "      <td>0</td>\n",
       "      <td>0</td>\n",
       "      <td>1</td>\n",
       "      <td>0</td>\n",
       "      <td>0</td>\n",
       "      <td>1</td>\n",
       "      <td>0</td>\n",
       "      <td>0</td>\n",
       "      <td>0</td>\n",
       "      <td>1</td>\n",
       "      <td>1</td>\n",
       "      <td>0</td>\n",
       "      <td>0</td>\n",
       "      <td>0</td>\n",
       "    </tr>\n",
       "    <tr>\n",
       "      <th>813</th>\n",
       "      <td>3</td>\n",
       "      <td>4</td>\n",
       "      <td>2</td>\n",
       "      <td>1</td>\n",
       "      <td>0</td>\n",
       "      <td>1</td>\n",
       "      <td>0</td>\n",
       "      <td>0</td>\n",
       "      <td>0</td>\n",
       "      <td>0</td>\n",
       "      <td>0</td>\n",
       "      <td>1</td>\n",
       "      <td>0</td>\n",
       "      <td>0</td>\n",
       "      <td>0</td>\n",
       "      <td>1</td>\n",
       "    </tr>\n",
       "    <tr>\n",
       "      <th>...</th>\n",
       "      <td>...</td>\n",
       "      <td>...</td>\n",
       "      <td>...</td>\n",
       "      <td>...</td>\n",
       "      <td>...</td>\n",
       "      <td>...</td>\n",
       "      <td>...</td>\n",
       "      <td>...</td>\n",
       "      <td>...</td>\n",
       "      <td>...</td>\n",
       "      <td>...</td>\n",
       "      <td>...</td>\n",
       "      <td>...</td>\n",
       "      <td>...</td>\n",
       "      <td>...</td>\n",
       "      <td>...</td>\n",
       "    </tr>\n",
       "    <tr>\n",
       "      <th>106</th>\n",
       "      <td>3</td>\n",
       "      <td>0</td>\n",
       "      <td>0</td>\n",
       "      <td>1</td>\n",
       "      <td>0</td>\n",
       "      <td>0</td>\n",
       "      <td>0</td>\n",
       "      <td>1</td>\n",
       "      <td>0</td>\n",
       "      <td>0</td>\n",
       "      <td>0</td>\n",
       "      <td>1</td>\n",
       "      <td>1</td>\n",
       "      <td>0</td>\n",
       "      <td>0</td>\n",
       "      <td>0</td>\n",
       "    </tr>\n",
       "    <tr>\n",
       "      <th>270</th>\n",
       "      <td>1</td>\n",
       "      <td>0</td>\n",
       "      <td>0</td>\n",
       "      <td>0</td>\n",
       "      <td>1</td>\n",
       "      <td>0</td>\n",
       "      <td>0</td>\n",
       "      <td>1</td>\n",
       "      <td>0</td>\n",
       "      <td>0</td>\n",
       "      <td>0</td>\n",
       "      <td>1</td>\n",
       "      <td>0</td>\n",
       "      <td>0</td>\n",
       "      <td>1</td>\n",
       "      <td>0</td>\n",
       "    </tr>\n",
       "    <tr>\n",
       "      <th>860</th>\n",
       "      <td>3</td>\n",
       "      <td>2</td>\n",
       "      <td>0</td>\n",
       "      <td>0</td>\n",
       "      <td>1</td>\n",
       "      <td>0</td>\n",
       "      <td>0</td>\n",
       "      <td>0</td>\n",
       "      <td>1</td>\n",
       "      <td>0</td>\n",
       "      <td>0</td>\n",
       "      <td>1</td>\n",
       "      <td>0</td>\n",
       "      <td>1</td>\n",
       "      <td>0</td>\n",
       "      <td>0</td>\n",
       "    </tr>\n",
       "    <tr>\n",
       "      <th>435</th>\n",
       "      <td>1</td>\n",
       "      <td>1</td>\n",
       "      <td>2</td>\n",
       "      <td>1</td>\n",
       "      <td>0</td>\n",
       "      <td>0</td>\n",
       "      <td>1</td>\n",
       "      <td>0</td>\n",
       "      <td>0</td>\n",
       "      <td>0</td>\n",
       "      <td>0</td>\n",
       "      <td>1</td>\n",
       "      <td>0</td>\n",
       "      <td>0</td>\n",
       "      <td>0</td>\n",
       "      <td>1</td>\n",
       "    </tr>\n",
       "    <tr>\n",
       "      <th>102</th>\n",
       "      <td>1</td>\n",
       "      <td>0</td>\n",
       "      <td>1</td>\n",
       "      <td>0</td>\n",
       "      <td>1</td>\n",
       "      <td>0</td>\n",
       "      <td>0</td>\n",
       "      <td>1</td>\n",
       "      <td>0</td>\n",
       "      <td>0</td>\n",
       "      <td>0</td>\n",
       "      <td>1</td>\n",
       "      <td>0</td>\n",
       "      <td>0</td>\n",
       "      <td>0</td>\n",
       "      <td>1</td>\n",
       "    </tr>\n",
       "  </tbody>\n",
       "</table>\n",
       "<p>712 rows × 16 columns</p>\n",
       "</div>"
      ],
      "text/plain": [
       "     Pclass  SibSp  Parch  Sex_female  Sex_male  Age_Children  Age_Teenage  \\\n",
       "331       1      0      0           0         1             0            0   \n",
       "733       2      0      0           0         1             0            0   \n",
       "382       3      0      0           0         1             0            0   \n",
       "704       3      1      0           0         1             0            0   \n",
       "813       3      4      2           1         0             1            0   \n",
       "..      ...    ...    ...         ...       ...           ...          ...   \n",
       "106       3      0      0           1         0             0            0   \n",
       "270       1      0      0           0         1             0            0   \n",
       "860       3      2      0           0         1             0            0   \n",
       "435       1      1      2           1         0             0            1   \n",
       "102       1      0      1           0         1             0            0   \n",
       "\n",
       "     Age_Adult  Age_Elder  Embarked_C  Embarked_Q  Embarked_S  Fare_Low_fare  \\\n",
       "331          0          1           0           0           1              0   \n",
       "733          1          0           0           0           1              0   \n",
       "382          1          0           0           0           1              0   \n",
       "704          1          0           0           0           1              1   \n",
       "813          0          0           0           0           1              0   \n",
       "..         ...        ...         ...         ...         ...            ...   \n",
       "106          1          0           0           0           1              1   \n",
       "270          1          0           0           0           1              0   \n",
       "860          0          1           0           0           1              0   \n",
       "435          0          0           0           0           1              0   \n",
       "102          1          0           0           0           1              0   \n",
       "\n",
       "     Fare_median_fare  Fare_Average_fare  Fare_high_fare  \n",
       "331                 0                  1               0  \n",
       "733                 1                  0               0  \n",
       "382                 1                  0               0  \n",
       "704                 0                  0               0  \n",
       "813                 0                  0               1  \n",
       "..                ...                ...             ...  \n",
       "106                 0                  0               0  \n",
       "270                 0                  1               0  \n",
       "860                 1                  0               0  \n",
       "435                 0                  0               1  \n",
       "102                 0                  0               1  \n",
       "\n",
       "[712 rows x 16 columns]"
      ]
     },
     "execution_count": 40,
     "metadata": {},
     "output_type": "execute_result"
    }
   ],
   "source": [
    "# X： 去除df_train的‘Survived’列\n",
    "# Y： 保留df_train的‘Survived’列\n",
    "X = df_train.drop('Survived',axis=1)\n",
    "y = df_train['Survived']\n",
    "X"
   ]
  },
  {
   "cell_type": "code",
   "execution_count": 41,
   "id": "ecc81499",
   "metadata": {},
   "outputs": [
    {
     "data": {
      "text/html": [
       "<div>\n",
       "<style scoped>\n",
       "    .dataframe tbody tr th:only-of-type {\n",
       "        vertical-align: middle;\n",
       "    }\n",
       "\n",
       "    .dataframe tbody tr th {\n",
       "        vertical-align: top;\n",
       "    }\n",
       "\n",
       "    .dataframe thead th {\n",
       "        text-align: right;\n",
       "    }\n",
       "</style>\n",
       "<table border=\"1\" class=\"dataframe\">\n",
       "  <thead>\n",
       "    <tr style=\"text-align: right;\">\n",
       "      <th></th>\n",
       "      <th>Pclass</th>\n",
       "      <th>SibSp</th>\n",
       "      <th>Parch</th>\n",
       "      <th>Sex_female</th>\n",
       "      <th>Sex_male</th>\n",
       "      <th>Age_Children</th>\n",
       "      <th>Age_Teenage</th>\n",
       "      <th>Age_Adult</th>\n",
       "      <th>Age_Elder</th>\n",
       "      <th>Embarked_C</th>\n",
       "      <th>Embarked_Q</th>\n",
       "      <th>Embarked_S</th>\n",
       "      <th>Fare_Low_fare</th>\n",
       "      <th>Fare_median_fare</th>\n",
       "      <th>Fare_Average_fare</th>\n",
       "      <th>Fare_high_fare</th>\n",
       "    </tr>\n",
       "  </thead>\n",
       "  <tbody>\n",
       "    <tr>\n",
       "      <th>Pclass</th>\n",
       "      <td>1.000000</td>\n",
       "      <td>0.086933</td>\n",
       "      <td>0.012679</td>\n",
       "      <td>-0.128672</td>\n",
       "      <td>0.128672</td>\n",
       "      <td>0.116848</td>\n",
       "      <td>0.091280</td>\n",
       "      <td>0.118312</td>\n",
       "      <td>-0.312382</td>\n",
       "      <td>-0.207240</td>\n",
       "      <td>0.203688</td>\n",
       "      <td>0.060889</td>\n",
       "      <td>0.433119</td>\n",
       "      <td>0.206244</td>\n",
       "      <td>-0.040566</td>\n",
       "      <td>-0.430004</td>\n",
       "    </tr>\n",
       "    <tr>\n",
       "      <th>SibSp</th>\n",
       "      <td>0.086933</td>\n",
       "      <td>1.000000</td>\n",
       "      <td>0.440355</td>\n",
       "      <td>0.104174</td>\n",
       "      <td>-0.104174</td>\n",
       "      <td>0.359186</td>\n",
       "      <td>-0.016604</td>\n",
       "      <td>-0.126388</td>\n",
       "      <td>-0.084270</td>\n",
       "      <td>-0.079046</td>\n",
       "      <td>-0.009471</td>\n",
       "      <td>0.077320</td>\n",
       "      <td>-0.232673</td>\n",
       "      <td>-0.205085</td>\n",
       "      <td>0.108630</td>\n",
       "      <td>0.365671</td>\n",
       "    </tr>\n",
       "    <tr>\n",
       "      <th>Parch</th>\n",
       "      <td>0.012679</td>\n",
       "      <td>0.440355</td>\n",
       "      <td>1.000000</td>\n",
       "      <td>0.250724</td>\n",
       "      <td>-0.250724</td>\n",
       "      <td>0.370369</td>\n",
       "      <td>-0.043224</td>\n",
       "      <td>-0.179082</td>\n",
       "      <td>-0.011883</td>\n",
       "      <td>-0.015874</td>\n",
       "      <td>-0.100675</td>\n",
       "      <td>0.080333</td>\n",
       "      <td>-0.243210</td>\n",
       "      <td>-0.209380</td>\n",
       "      <td>0.148708</td>\n",
       "      <td>0.269657</td>\n",
       "    </tr>\n",
       "    <tr>\n",
       "      <th>Sex_female</th>\n",
       "      <td>-0.128672</td>\n",
       "      <td>0.104174</td>\n",
       "      <td>0.250724</td>\n",
       "      <td>1.000000</td>\n",
       "      <td>-1.000000</td>\n",
       "      <td>0.069386</td>\n",
       "      <td>0.019205</td>\n",
       "      <td>-0.029704</td>\n",
       "      <td>-0.025999</td>\n",
       "      <td>0.069839</td>\n",
       "      <td>0.046336</td>\n",
       "      <td>-0.098439</td>\n",
       "      <td>-0.174492</td>\n",
       "      <td>-0.053997</td>\n",
       "      <td>0.088148</td>\n",
       "      <td>0.100013</td>\n",
       "    </tr>\n",
       "    <tr>\n",
       "      <th>Sex_male</th>\n",
       "      <td>0.128672</td>\n",
       "      <td>-0.104174</td>\n",
       "      <td>-0.250724</td>\n",
       "      <td>-1.000000</td>\n",
       "      <td>1.000000</td>\n",
       "      <td>-0.069386</td>\n",
       "      <td>-0.019205</td>\n",
       "      <td>0.029704</td>\n",
       "      <td>0.025999</td>\n",
       "      <td>-0.069839</td>\n",
       "      <td>-0.046336</td>\n",
       "      <td>0.098439</td>\n",
       "      <td>0.174492</td>\n",
       "      <td>0.053997</td>\n",
       "      <td>-0.088148</td>\n",
       "      <td>-0.100013</td>\n",
       "    </tr>\n",
       "    <tr>\n",
       "      <th>Age_Children</th>\n",
       "      <td>0.116848</td>\n",
       "      <td>0.359186</td>\n",
       "      <td>0.370369</td>\n",
       "      <td>0.069386</td>\n",
       "      <td>-0.069386</td>\n",
       "      <td>1.000000</td>\n",
       "      <td>-0.102657</td>\n",
       "      <td>-0.367862</td>\n",
       "      <td>-0.126375</td>\n",
       "      <td>-0.044398</td>\n",
       "      <td>-0.007423</td>\n",
       "      <td>0.044861</td>\n",
       "      <td>-0.152337</td>\n",
       "      <td>-0.076333</td>\n",
       "      <td>0.131366</td>\n",
       "      <td>0.131417</td>\n",
       "    </tr>\n",
       "    <tr>\n",
       "      <th>Age_Teenage</th>\n",
       "      <td>0.091280</td>\n",
       "      <td>-0.016604</td>\n",
       "      <td>-0.043224</td>\n",
       "      <td>0.019205</td>\n",
       "      <td>-0.019205</td>\n",
       "      <td>-0.102657</td>\n",
       "      <td>1.000000</td>\n",
       "      <td>-0.479309</td>\n",
       "      <td>-0.164661</td>\n",
       "      <td>0.014337</td>\n",
       "      <td>-0.048253</td>\n",
       "      <td>0.020399</td>\n",
       "      <td>0.050760</td>\n",
       "      <td>0.077778</td>\n",
       "      <td>-0.075621</td>\n",
       "      <td>-0.039712</td>\n",
       "    </tr>\n",
       "    <tr>\n",
       "      <th>Age_Adult</th>\n",
       "      <td>0.118312</td>\n",
       "      <td>-0.126388</td>\n",
       "      <td>-0.179082</td>\n",
       "      <td>-0.029704</td>\n",
       "      <td>0.029704</td>\n",
       "      <td>-0.367862</td>\n",
       "      <td>-0.479309</td>\n",
       "      <td>1.000000</td>\n",
       "      <td>-0.590045</td>\n",
       "      <td>-0.007677</td>\n",
       "      <td>0.116148</td>\n",
       "      <td>-0.064934</td>\n",
       "      <td>0.150137</td>\n",
       "      <td>0.021684</td>\n",
       "      <td>-0.071045</td>\n",
       "      <td>-0.117769</td>\n",
       "    </tr>\n",
       "    <tr>\n",
       "      <th>Age_Elder</th>\n",
       "      <td>-0.312382</td>\n",
       "      <td>-0.084270</td>\n",
       "      <td>-0.011883</td>\n",
       "      <td>-0.025999</td>\n",
       "      <td>0.025999</td>\n",
       "      <td>-0.126375</td>\n",
       "      <td>-0.164661</td>\n",
       "      <td>-0.590045</td>\n",
       "      <td>1.000000</td>\n",
       "      <td>0.009197</td>\n",
       "      <td>-0.096060</td>\n",
       "      <td>0.047035</td>\n",
       "      <td>-0.119056</td>\n",
       "      <td>-0.037440</td>\n",
       "      <td>0.044279</td>\n",
       "      <td>0.105782</td>\n",
       "    </tr>\n",
       "    <tr>\n",
       "      <th>Embarked_C</th>\n",
       "      <td>-0.207240</td>\n",
       "      <td>-0.079046</td>\n",
       "      <td>-0.015874</td>\n",
       "      <td>0.069839</td>\n",
       "      <td>-0.069839</td>\n",
       "      <td>-0.044398</td>\n",
       "      <td>0.014337</td>\n",
       "      <td>-0.007677</td>\n",
       "      <td>0.009197</td>\n",
       "      <td>1.000000</td>\n",
       "      <td>-0.139987</td>\n",
       "      <td>-0.773205</td>\n",
       "      <td>0.013728</td>\n",
       "      <td>-0.200469</td>\n",
       "      <td>0.015816</td>\n",
       "      <td>0.131967</td>\n",
       "    </tr>\n",
       "    <tr>\n",
       "      <th>Embarked_Q</th>\n",
       "      <td>0.203688</td>\n",
       "      <td>-0.009471</td>\n",
       "      <td>-0.100675</td>\n",
       "      <td>0.046336</td>\n",
       "      <td>-0.046336</td>\n",
       "      <td>-0.007423</td>\n",
       "      <td>-0.048253</td>\n",
       "      <td>0.116148</td>\n",
       "      <td>-0.096060</td>\n",
       "      <td>-0.139987</td>\n",
       "      <td>1.000000</td>\n",
       "      <td>-0.508289</td>\n",
       "      <td>0.293637</td>\n",
       "      <td>-0.118290</td>\n",
       "      <td>-0.004875</td>\n",
       "      <td>-0.125371</td>\n",
       "    </tr>\n",
       "    <tr>\n",
       "      <th>Embarked_S</th>\n",
       "      <td>0.060889</td>\n",
       "      <td>0.077320</td>\n",
       "      <td>0.080333</td>\n",
       "      <td>-0.098439</td>\n",
       "      <td>0.098439</td>\n",
       "      <td>0.044861</td>\n",
       "      <td>0.020399</td>\n",
       "      <td>-0.064934</td>\n",
       "      <td>0.047035</td>\n",
       "      <td>-0.773205</td>\n",
       "      <td>-0.508289</td>\n",
       "      <td>1.000000</td>\n",
       "      <td>-0.193761</td>\n",
       "      <td>0.251691</td>\n",
       "      <td>-0.006842</td>\n",
       "      <td>-0.047792</td>\n",
       "    </tr>\n",
       "    <tr>\n",
       "      <th>Fare_Low_fare</th>\n",
       "      <td>0.433119</td>\n",
       "      <td>-0.232673</td>\n",
       "      <td>-0.243210</td>\n",
       "      <td>-0.174492</td>\n",
       "      <td>0.174492</td>\n",
       "      <td>-0.152337</td>\n",
       "      <td>0.050760</td>\n",
       "      <td>0.150137</td>\n",
       "      <td>-0.119056</td>\n",
       "      <td>0.013728</td>\n",
       "      <td>0.293637</td>\n",
       "      <td>-0.193761</td>\n",
       "      <td>1.000000</td>\n",
       "      <td>-0.315687</td>\n",
       "      <td>-0.319208</td>\n",
       "      <td>-0.269692</td>\n",
       "    </tr>\n",
       "    <tr>\n",
       "      <th>Fare_median_fare</th>\n",
       "      <td>0.206244</td>\n",
       "      <td>-0.205085</td>\n",
       "      <td>-0.209380</td>\n",
       "      <td>-0.053997</td>\n",
       "      <td>0.053997</td>\n",
       "      <td>-0.076333</td>\n",
       "      <td>0.077778</td>\n",
       "      <td>0.021684</td>\n",
       "      <td>-0.037440</td>\n",
       "      <td>-0.200469</td>\n",
       "      <td>-0.118290</td>\n",
       "      <td>0.251691</td>\n",
       "      <td>-0.315687</td>\n",
       "      <td>1.000000</td>\n",
       "      <td>-0.342120</td>\n",
       "      <td>-0.289049</td>\n",
       "    </tr>\n",
       "    <tr>\n",
       "      <th>Fare_Average_fare</th>\n",
       "      <td>-0.040566</td>\n",
       "      <td>0.108630</td>\n",
       "      <td>0.148708</td>\n",
       "      <td>0.088148</td>\n",
       "      <td>-0.088148</td>\n",
       "      <td>0.131366</td>\n",
       "      <td>-0.075621</td>\n",
       "      <td>-0.071045</td>\n",
       "      <td>0.044279</td>\n",
       "      <td>0.015816</td>\n",
       "      <td>-0.004875</td>\n",
       "      <td>-0.006842</td>\n",
       "      <td>-0.319208</td>\n",
       "      <td>-0.342120</td>\n",
       "      <td>1.000000</td>\n",
       "      <td>-0.292273</td>\n",
       "    </tr>\n",
       "    <tr>\n",
       "      <th>Fare_high_fare</th>\n",
       "      <td>-0.430004</td>\n",
       "      <td>0.365671</td>\n",
       "      <td>0.269657</td>\n",
       "      <td>0.100013</td>\n",
       "      <td>-0.100013</td>\n",
       "      <td>0.131417</td>\n",
       "      <td>-0.039712</td>\n",
       "      <td>-0.117769</td>\n",
       "      <td>0.105782</td>\n",
       "      <td>0.131967</td>\n",
       "      <td>-0.125371</td>\n",
       "      <td>-0.047792</td>\n",
       "      <td>-0.269692</td>\n",
       "      <td>-0.289049</td>\n",
       "      <td>-0.292273</td>\n",
       "      <td>1.000000</td>\n",
       "    </tr>\n",
       "  </tbody>\n",
       "</table>\n",
       "</div>"
      ],
      "text/plain": [
       "                     Pclass     SibSp     Parch  Sex_female  Sex_male  \\\n",
       "Pclass             1.000000  0.086933  0.012679   -0.128672  0.128672   \n",
       "SibSp              0.086933  1.000000  0.440355    0.104174 -0.104174   \n",
       "Parch              0.012679  0.440355  1.000000    0.250724 -0.250724   \n",
       "Sex_female        -0.128672  0.104174  0.250724    1.000000 -1.000000   \n",
       "Sex_male           0.128672 -0.104174 -0.250724   -1.000000  1.000000   \n",
       "Age_Children       0.116848  0.359186  0.370369    0.069386 -0.069386   \n",
       "Age_Teenage        0.091280 -0.016604 -0.043224    0.019205 -0.019205   \n",
       "Age_Adult          0.118312 -0.126388 -0.179082   -0.029704  0.029704   \n",
       "Age_Elder         -0.312382 -0.084270 -0.011883   -0.025999  0.025999   \n",
       "Embarked_C        -0.207240 -0.079046 -0.015874    0.069839 -0.069839   \n",
       "Embarked_Q         0.203688 -0.009471 -0.100675    0.046336 -0.046336   \n",
       "Embarked_S         0.060889  0.077320  0.080333   -0.098439  0.098439   \n",
       "Fare_Low_fare      0.433119 -0.232673 -0.243210   -0.174492  0.174492   \n",
       "Fare_median_fare   0.206244 -0.205085 -0.209380   -0.053997  0.053997   \n",
       "Fare_Average_fare -0.040566  0.108630  0.148708    0.088148 -0.088148   \n",
       "Fare_high_fare    -0.430004  0.365671  0.269657    0.100013 -0.100013   \n",
       "\n",
       "                   Age_Children  Age_Teenage  Age_Adult  Age_Elder  \\\n",
       "Pclass                 0.116848     0.091280   0.118312  -0.312382   \n",
       "SibSp                  0.359186    -0.016604  -0.126388  -0.084270   \n",
       "Parch                  0.370369    -0.043224  -0.179082  -0.011883   \n",
       "Sex_female             0.069386     0.019205  -0.029704  -0.025999   \n",
       "Sex_male              -0.069386    -0.019205   0.029704   0.025999   \n",
       "Age_Children           1.000000    -0.102657  -0.367862  -0.126375   \n",
       "Age_Teenage           -0.102657     1.000000  -0.479309  -0.164661   \n",
       "Age_Adult             -0.367862    -0.479309   1.000000  -0.590045   \n",
       "Age_Elder             -0.126375    -0.164661  -0.590045   1.000000   \n",
       "Embarked_C            -0.044398     0.014337  -0.007677   0.009197   \n",
       "Embarked_Q            -0.007423    -0.048253   0.116148  -0.096060   \n",
       "Embarked_S             0.044861     0.020399  -0.064934   0.047035   \n",
       "Fare_Low_fare         -0.152337     0.050760   0.150137  -0.119056   \n",
       "Fare_median_fare      -0.076333     0.077778   0.021684  -0.037440   \n",
       "Fare_Average_fare      0.131366    -0.075621  -0.071045   0.044279   \n",
       "Fare_high_fare         0.131417    -0.039712  -0.117769   0.105782   \n",
       "\n",
       "                   Embarked_C  Embarked_Q  Embarked_S  Fare_Low_fare  \\\n",
       "Pclass              -0.207240    0.203688    0.060889       0.433119   \n",
       "SibSp               -0.079046   -0.009471    0.077320      -0.232673   \n",
       "Parch               -0.015874   -0.100675    0.080333      -0.243210   \n",
       "Sex_female           0.069839    0.046336   -0.098439      -0.174492   \n",
       "Sex_male            -0.069839   -0.046336    0.098439       0.174492   \n",
       "Age_Children        -0.044398   -0.007423    0.044861      -0.152337   \n",
       "Age_Teenage          0.014337   -0.048253    0.020399       0.050760   \n",
       "Age_Adult           -0.007677    0.116148   -0.064934       0.150137   \n",
       "Age_Elder            0.009197   -0.096060    0.047035      -0.119056   \n",
       "Embarked_C           1.000000   -0.139987   -0.773205       0.013728   \n",
       "Embarked_Q          -0.139987    1.000000   -0.508289       0.293637   \n",
       "Embarked_S          -0.773205   -0.508289    1.000000      -0.193761   \n",
       "Fare_Low_fare        0.013728    0.293637   -0.193761       1.000000   \n",
       "Fare_median_fare    -0.200469   -0.118290    0.251691      -0.315687   \n",
       "Fare_Average_fare    0.015816   -0.004875   -0.006842      -0.319208   \n",
       "Fare_high_fare       0.131967   -0.125371   -0.047792      -0.269692   \n",
       "\n",
       "                   Fare_median_fare  Fare_Average_fare  Fare_high_fare  \n",
       "Pclass                     0.206244          -0.040566       -0.430004  \n",
       "SibSp                     -0.205085           0.108630        0.365671  \n",
       "Parch                     -0.209380           0.148708        0.269657  \n",
       "Sex_female                -0.053997           0.088148        0.100013  \n",
       "Sex_male                   0.053997          -0.088148       -0.100013  \n",
       "Age_Children              -0.076333           0.131366        0.131417  \n",
       "Age_Teenage                0.077778          -0.075621       -0.039712  \n",
       "Age_Adult                  0.021684          -0.071045       -0.117769  \n",
       "Age_Elder                 -0.037440           0.044279        0.105782  \n",
       "Embarked_C                -0.200469           0.015816        0.131967  \n",
       "Embarked_Q                -0.118290          -0.004875       -0.125371  \n",
       "Embarked_S                 0.251691          -0.006842       -0.047792  \n",
       "Fare_Low_fare             -0.315687          -0.319208       -0.269692  \n",
       "Fare_median_fare           1.000000          -0.342120       -0.289049  \n",
       "Fare_Average_fare         -0.342120           1.000000       -0.292273  \n",
       "Fare_high_fare            -0.289049          -0.292273        1.000000  "
      ]
     },
     "execution_count": 41,
     "metadata": {},
     "output_type": "execute_result"
    }
   ],
   "source": [
    "X.corr() # Pandas dataframe.corr()用于查找数据帧中所有列的成对相关性。任何na值会自动排除。对于 DataFrame 中的任何非数字数据类型列，将忽略该列。\n",
    "\n",
    "# \"\"\"A和B 存在一定的相关性，A对B存在一定程度的影响，A变化，B也会有一定的变化\n",
    "\n",
    "# 如果A和B相等 或者 B可以由A经过计算得到---->完全相关\n",
    "# 如果B是由 A和C计算得到 ---->并且 A可以计算出B的大部分 -----> A和B 强度相关\n",
    "# 如果B是由 A和C计算得到 ---->并且 A可以计算出B的小部分 -----> A和B 弱度相关\n",
    "# 如果 A和B 毫无关系 ----> 不相关\n",
    "\n",
    "# 如果B和 A相关：\n",
    "# A的增大导致B的减小 —> 负相关\n",
    "# A的增大导致B的增大 —> 正相关\"\"\""
   ]
  },
  {
   "cell_type": "code",
   "execution_count": 42,
   "id": "88f1e6fb",
   "metadata": {
    "ExecuteTime": {
     "end_time": "2022-04-27T08:10:48.331681Z",
     "start_time": "2022-04-27T08:10:44.723215Z"
    }
   },
   "outputs": [
    {
     "data": {
      "image/png": "[encoded data removed]",
      "text/plain": [
       "<Figure size 1440x864 with 2 Axes>"
      ]
     },
     "metadata": {
      "needs_background": "light"
     },
     "output_type": "display_data"
    }
   ],
   "source": [
    "sns.heatmap(X.corr(),annot=True,cmap='RdYlGn',linewidths=0.2)\n",
    "fig=plt.gcf()\n",
    "fig.set_size_inches(20,12)\n",
    "plt.show()"
   ]
  },
  {
   "cell_type": "code",
   "execution_count": 43,
   "id": "71df1e1d",
   "metadata": {
    "ExecuteTime": {
     "end_time": "2022-04-27T07:59:39.945742Z",
     "start_time": "2022-04-27T07:59:39.940838Z"
    }
   },
   "outputs": [],
   "source": [
    "# 在热图结果中：\n",
    "# 正相关：如果 A 的增加导致特征 B 的增加，那么这两个特征是正相关的。 完全正相关特征的值为 1。\n",
    "# 负相关：如果 A 的增加导致特征 B 的减少，那么这两个特征是负相关的。 那么完全负相关特征的值为-1。\n",
    "# 在我们的训练数据中有两个高度或完全相关的特征会导致多重共线性，因此最好将它们删除。\n",
    "\n",
    "# 在上述热图中，我们可以看到没有高度相关的特征。 在特征 fare 和 pclass 之间，相关性的最高值为 0.45，低于0.6。 因此无需删除任何功能。"
   ]
  },
  {
   "cell_type": "code",
   "execution_count": 44,
   "id": "4abf5bb8",
   "metadata": {
    "ExecuteTime": {
     "end_time": "2022-04-27T08:11:48.379479Z",
     "start_time": "2022-04-27T08:11:48.349643Z"
    }
   },
   "outputs": [
    {
     "data": {
      "text/plain": [
       "set()"
      ]
     },
     "execution_count": 44,
     "metadata": {},
     "output_type": "execute_result"
    }
   ],
   "source": [
    "# 如果上述方式还不够明显，我们也可以在代码的帮助下通过定义像 0.6 这样的阈值来做到这一点\n",
    "threshold=0.6\n",
    "# find and remove correlated features\n",
    "def correlation(dataset, threshold):\n",
    "    col_corr = set()  # Set of all the names of correlated columns\n",
    "    corr_matrix = dataset.corr()\n",
    "    for i in range(len(corr_matrix.columns)):\n",
    "        for j in range(i):\n",
    "            if corr_matrix.iloc[i, j] > threshold: # we are interested in absolute coeff value\n",
    "                colname = corr_matrix.columns[i]  # getting the name of column\n",
    "                col_corr.add(colname)\n",
    "    return col_corr\n",
    "\n",
    "correlation(X,threshold)\n",
    "# 如果输出的结果为set(),意味着没有高相关的特征，不需要去删除特征"
   ]
  },
  {
   "cell_type": "markdown",
   "id": "d1beb9f0",
   "metadata": {},
   "source": [
    "# 选择模型、训练、评估Model Training"
   ]
  },
  {
   "cell_type": "markdown",
   "id": "a60223bd",
   "metadata": {},
   "source": [
    "## 拆分训练集->训练集+验证集"
   ]
  },
  {
   "cell_type": "markdown",
   "id": "decc78a2",
   "metadata": {},
   "source": [
    "### train_test_split照设定比例进行拆分"
   ]
  },
  {
   "cell_type": "code",
   "execution_count": 45,
   "id": "9c540127",
   "metadata": {
    "ExecuteTime": {
     "end_time": "2022-04-27T08:31:13.646934Z",
     "start_time": "2022-04-27T08:31:13.630496Z"
    }
   },
   "outputs": [
    {
     "name": "stdout",
     "output_type": "stream",
     "text": [
      "(712, 16)\n",
      "(712,)\n",
      "(569, 16)\n",
      "(143, 16)\n"
     ]
    }
   ],
   "source": [
    "from sklearn.model_selection import train_test_split \n",
    "X_train, X_validation, y_train, y_validation = train_test_split(X, y, test_size=0.2, random_state=42)\n",
    "\n",
    "print(X.shape)\n",
    "print(y.shape)\n",
    "\n",
    "print(X_train.shape)\n",
    "print(X_validation.shape)"
   ]
  },
  {
   "cell_type": "markdown",
   "id": "42d7c58d",
   "metadata": {},
   "source": [
    "### K折交叉验证拆分"
   ]
  },
  {
   "cell_type": "markdown",
   "id": "7c63135e",
   "metadata": {},
   "source": [
    "见 sklearn关键API.ipynb的 K折交叉验证K-Folds cross-validator 章节："
   ]
  },
  {
   "cell_type": "markdown",
   "id": "72137dc2",
   "metadata": {},
   "source": [
    "## 选择算法进行训练"
   ]
  },
  {
   "cell_type": "code",
   "execution_count": 46,
   "id": "160db66e",
   "metadata": {
    "ExecuteTime": {
     "end_time": "2022-04-27T08:31:14.131650Z",
     "start_time": "2022-04-27T08:31:14.121353Z"
    }
   },
   "outputs": [],
   "source": [
    "from sklearn.metrics import accuracy_score,confusion_matrix, classification_report\n",
    "from sklearn.model_selection import KFold, cross_val_score, cross_val_predict ## Cross Validation"
   ]
  },
  {
   "cell_type": "markdown",
   "id": "e6fafddb",
   "metadata": {},
   "source": [
    "### 朴素贝叶斯Naive Bayes"
   ]
  },
  {
   "cell_type": "code",
   "execution_count": 47,
   "id": "cb437505",
   "metadata": {
    "ExecuteTime": {
     "end_time": "2022-04-27T08:33:19.078501Z",
     "start_time": "2022-04-27T08:33:18.227396Z"
    }
   },
   "outputs": [
    {
     "name": "stdout",
     "output_type": "stream",
     "text": [
      "--------GaussianNB Naive Bayes -------\n",
      "The accuracy Gaussian Naive Bayes Classifier is 76.92\n"
     ]
    },
    {
     "data": {
      "image/png": "[encoded data removed]",
      "text/plain": [
       "<Figure size 432x288 with 2 Axes>"
      ]
     },
     "metadata": {
      "needs_background": "light"
     },
     "output_type": "display_data"
    }
   ],
   "source": [
    "#################################### Naive Bayes ########################\n",
    "# 1. 调用朴素贝叶斯算法，基于train_test_split照设定比例进行拆分的数据集进行训练\n",
    "from sklearn.naive_bayes import GaussianNB\n",
    "model= GaussianNB()\n",
    "model.fit(X_train,y_train)\n",
    "y_prediction_gnb=model.predict(X_validation)\n",
    "\n",
    "# 计算分类准确得分accuracy_score(y_true, y_pred)\n",
    "accuracy_score_gnb = round(accuracy_score(y_validation, y_prediction_gnb)*100,2)\n",
    "\n",
    "\n",
    "print('--------GaussianNB Naive Bayes -------')\n",
    "\n",
    "print('The accuracy Gaussian Naive Bayes Classifier is',accuracy_score_gnb) # metrics.accuracy_score进行准确率衡量\n",
    "\n",
    "sns.heatmap(confusion_matrix(y_validation,y_prediction_gnb),annot=True,fmt='3.0f',cmap=\"Accent_r\") # heatmap显示混淆矩阵\n",
    "plt.title('Confusion Matrix', y=1, size=15);"
   ]
  },
  {
   "cell_type": "code",
   "execution_count": 48,
   "id": "7f165f50",
   "metadata": {},
   "outputs": [
    {
     "name": "stdout",
     "output_type": "stream",
     "text": [
      "The cross validated score for Gaussian Naive Bayes classifier is: 77.11\n"
     ]
    },
    {
     "data": {
      "image/png": "[encoded data removed]",
      "text/plain": [
       "<Figure size 432x288 with 2 Axes>"
      ]
     },
     "metadata": {
      "needs_background": "light"
     },
     "output_type": "display_data"
    }
   ],
   "source": [
    "# 2. 调用朴素贝叶斯算法，基于K折交叉验证拆分数据集进行训练\n",
    "kfold = KFold(n_splits=10,shuffle=True,random_state=42) # split the data into 10 equal parts，这不是只是帮助理解K折交叉验证的原理，可删除\n",
    "\n",
    "# 2.1 调用Model validation模型验证API cross_val_score：得到K折验证中每一折的得分，\n",
    "\n",
    "from sklearn.naive_bayes import GaussianNB\n",
    "model= GaussianNB()\n",
    "result_gnb=cross_val_score(model,X,y,cv=10,scoring='accuracy')  # cv=10 表示10折\n",
    "# print(result_gnb)\n",
    "\n",
    "# 2.2 result_gnb.mean() K个得分取平均值就是模型的平均性能\n",
    "print('The cross validated score for Gaussian Naive Bayes classifier is:',round(result_gnb.mean()*100,2))\n",
    "\n",
    "# 2.3 cross_val_predict：得到经过K折交叉验证计算得到的每个训练验证的输出预测\n",
    "y_pred = cross_val_predict(model,X,y,cv=10)  \n",
    "\n",
    "# 2.4 计算实际结果与预测结果的混淆举证confusion_matrix(y,y_pred)， 并以heatmap呈现\n",
    "sns.heatmap(confusion_matrix(y,y_pred),annot=True,fmt='3.0f',cmap=\"Accent_r\") # heatmap显示混淆矩阵\n",
    "plt.title('Confusion Matrix', y=1, size=15);"
   ]
  },
  {
   "cell_type": "code",
   "execution_count": 50,
   "id": "62df91f4",
   "metadata": {},
   "outputs": [
    {
     "name": "stdout",
     "output_type": "stream",
     "text": [
      "[0 0 0 0 0 0 0 0 0 1 1 0 0 0 1 1 1 1 0 1 0 0 0 1 1 1 1 0 1 0 0 0 0 1 0 0 0\n",
      " 1 0 1 0 0 0 0 1 0 1 0 1 1 1 0 1 0 1 0 1 1 1 1 0 0 1 0 0 0 0 0 0 0 1 1 0 0\n",
      " 0 1 1 0 1 0 1 1 0 1 1 0 0 0 1 1 0 1 0 0 0 1 0 0 0 1 0 0 0 1 0 0 0 1 0 1 1\n",
      " 0 0 1 0 0 0 0 0 0 0 1 1 0 0 1 1 0 0 0 0 0 0 1 0 0 1 1 1 1 0 0 1 0 0 1 0 1\n",
      " 0 0 0 0 0 0 0 0 0 1 1 0 0 0 0 0 1 0 0 1 0 1 1 1 1 0 0 0 0 1 1 0 1 0 1 0 0\n",
      " 0 1 0 0 0 0 1 0 1 1 0 0 1 1 1 0 1 0 1 1 0 0 0 0 0 0 0 1 1 1 1 1 0 0 0 1 1\n",
      " 0 1 0 1 1 1 0 1 0 0 0 1 1 0 1 1 0 0 0 1 0 1 0 0 0 1 0 1 1 1 0 1 0 0 0 0 0\n",
      " 0 0 1 0 0 1 0 0 0 1 0 0 1 0 1 0 0 0 0 1 0 0 0 0 1 0 0 1 0 0 1 1 1 0 0 0 1\n",
      " 1 0 1 1 0 1 0 1 0 0 0 0 1 1 1 1 0 1 1 1 0 0 0 0 0 1 0 0 0 0 0 0 0 1 0 1 0\n",
      " 0 0 0 0 1 1 0 1 0 0 1 0 1 0 1 0 0 0 0 1 0 0 0 0 0 1 1 1 1 1 0 1 1 0 1 0 1\n",
      " 1 0 1 0 1 0 1 0 0 0 0 0 0 0 0 1 0 0 0 0 1 0 0 0 0 1 0 0 0 0 1 0 1 0 0 1 1\n",
      " 0 0 0 0 0 1 0 0 1 0 0 0 0 0 1 1 0 0 0 0 0 1 1 0 1 1 0 1 1 0 1 0 0 1 0 1 0\n",
      " 0 0 0 0 1 0 0 0 1 0 0 1 0 0 0 1 0 1 1 1 1 1 0 0 0 1 1 0 1 0 1 0 0 0 0 1 0\n",
      " 0 0 0 1 0 0 1 0 0 0 0 1 0 0 0 1 1 0 0 1 0 0 1 1 0 0 0 1 1 0 0 0 0 0 0 1 1\n",
      " 1 1 0 1 0 1 0 0 1 1 0 0 0 0 1 0 0 1 1 1 0 1 1 0 0 0 0 0 1 0 0 1 1 1 0 0 0\n",
      " 0 1 1 1 1 0 0 0 0 0 0 0 1 1 0 1 0 0 1 1 1 0 0 1 1 0 0 0 0 1 1 0 1 0 0 1 0\n",
      " 0 0 0 0 1 1 0 1 0 0 1 0 0 0 1 1 1 1 1 0 0 1 0 1 0 1 0 1 1 1 0 1 0 0 0 0 0\n",
      " 0 0 0 1 1 0 0 0 0 0 0 0 1 0 1 0 0 0 1 0 1 0 1 1 1 0 1 0 0 0 1 0 1 1 0 0 0\n",
      " 0 0 0 0 0 1 1 1 0 0 1 0 1 0 0 0 0 0 0 0 0 0 0 0 0 0 0 0 1 0 0 0 1 1 0 0 0\n",
      " 0 0 1 0 1 0 0 1 0]\n",
      "[0 0 0 0 1 1 0 1 0 0 1 0 0 0 0 1 1 1 0 1 1 0 1 1 1 0 1 0 0 0 0 1 0 1 0 1 0\n",
      " 1 1 1 0 0 1 0 0 0 1 0 0 1 1 0 1 0 1 0 1 1 1 1 0 0 1 0 1 0 0 0 0 0 0 1 0 0\n",
      " 0 0 0 0 1 0 1 1 1 1 0 0 0 0 0 1 0 1 0 0 0 1 0 0 1 1 0 0 0 1 0 1 0 1 0 1 0\n",
      " 0 0 1 1 0 1 0 1 0 1 1 1 0 0 0 1 0 1 0 0 0 1 0 0 0 1 1 1 1 1 0 0 1 0 1 1 0\n",
      " 1 1 0 0 0 1 0 0 0 1 1 0 0 0 0 0 0 0 0 1 0 1 0 1 0 0 0 1 0 0 0 0 0 1 1 1 0\n",
      " 1 1 0 0 0 0 1 1 0 0 0 0 1 1 1 0 1 1 1 1 0 0 0 1 0 1 1 1 1 1 1 1 0 0 0 1 1\n",
      " 0 1 0 1 1 1 0 1 1 0 0 1 1 0 1 1 0 0 1 1 0 1 0 0 0 1 0 1 1 1 0 1 0 1 0 0 0\n",
      " 0 0 0 0 0 0 0 0 0 0 0 0 1 1 1 0 0 0 0 1 0 0 0 0 1 0 0 0 0 0 1 1 1 0 0 1 1\n",
      " 1 1 1 1 0 1 1 1 0 0 0 0 1 1 0 1 0 0 0 1 0 0 0 0 1 1 0 0 1 0 0 0 0 1 0 1 0\n",
      " 1 0 0 0 1 1 0 1 0 0 1 0 0 0 1 1 1 0 0 0 0 0 0 0 0 1 0 0 1 1 0 1 1 0 1 0 0\n",
      " 1 1 1 0 1 0 1 0 1 0 0 0 0 0 0 1 0 0 1 0 0 0 0 0 0 1 0 0 1 0 0 1 1 0 0 1 1\n",
      " 0 0 1 0 0 0 1 0 0 0 0 0 0 1 0 1 0 0 1 0 1 1 1 0 1 0 0 1 1 0 0 1 0 1 0 1 0\n",
      " 0 1 1 1 0 0 0 1 1 0 1 0 0 0 0 1 0 1 1 1 1 1 0 0 0 1 1 1 0 0 1 0 0 1 1 1 0\n",
      " 0 1 0 1 0 0 1 0 0 0 0 1 1 0 0 0 0 0 0 1 0 0 1 0 0 1 0 1 1 0 0 0 0 0 0 1 1\n",
      " 1 1 0 1 0 0 0 0 1 1 1 0 0 0 0 0 0 1 1 1 0 1 0 0 1 0 0 0 1 0 1 1 0 0 0 0 1\n",
      " 0 0 0 0 1 0 0 0 0 0 0 1 1 1 0 1 0 0 1 0 0 0 1 0 0 0 0 0 0 1 1 0 0 0 0 0 0\n",
      " 1 0 1 0 1 1 0 1 1 1 0 1 0 0 0 1 1 1 1 0 0 0 1 0 1 1 0 0 1 1 0 1 0 1 0 1 0\n",
      " 0 0 0 1 1 0 0 0 1 1 0 0 1 0 1 0 1 1 1 0 1 0 1 1 1 1 1 0 0 0 1 0 1 0 0 0 0\n",
      " 0 0 0 0 0 1 0 1 1 0 1 0 0 0 0 0 1 0 0 0 0 0 0 0 1 0 0 0 1 0 0 0 1 1 0 0 0\n",
      " 0 0 1 0 1 0 0 1 1]\n",
      "auc=： 0.7639337098292323\n"
     ]
    },
    {
     "data": {
      "image/png": "[encoded data removed]",
      "text/plain": [
       "<Figure size 432x288 with 1 Axes>"
      ]
     },
     "metadata": {
      "needs_background": "light"
     },
     "output_type": "display_data"
    }
   ],
   "source": [
    "#  绘制ROC曲线， 计算AUC值\n",
    "from sklearn.metrics import RocCurveDisplay,roc_curve,auc\n",
    "import numpy as np\n",
    "print(np.array(y)) \n",
    "print(y_pred)\n",
    "\n",
    "fpr, tpr, thresholds = roc_curve(np.array(y), y_pred, pos_label=1)\n",
    "# print(fpr)\n",
    "# print(tpr)\n",
    "# print(thresholds)\n",
    "\n",
    "auc = auc(fpr, tpr)\n",
    "print('auc=：', auc)\n",
    "\n",
    "display = RocCurveDisplay(fpr=fpr, tpr=tpr, roc_auc=auc, estimator_name='ROC curve')\n",
    "display.plot( color='darkorange', linestyle='-')\n",
    "plt.plot([0, 1], [0, 1], color='navy', linestyle='--')\n",
    "plt.show()"
   ]
  },
  {
   "cell_type": "code",
   "execution_count": null,
   "id": "020a60f5",
   "metadata": {},
   "outputs": [],
   "source": [
    "# matplotlib 绘制 ROC曲线和AUC值\n",
    "\n",
    "from sklearn import metrics\n",
    "import numpy as np\n",
    "# print(np.array(y))\n",
    "# print(type(y_pred))\n",
    "\n",
    "fpr, tpr, thresholds = metrics.roc_curve(np.array(y), y_pred, pos_label=1)\n",
    "print(fpr)\n",
    "print(tpr)\n",
    "print(thresholds)\n",
    "\n",
    "auc = metrics.auc(fpr, tpr)\n",
    "print('auc=：', auc)\n",
    "\n",
    "\n",
    "# 绘图\n",
    "import matplotlib.pyplot as plt\n",
    "plt.figure()\n",
    "lw = 2\n",
    "plt.plot(fpr, tpr, color='darkorange',\n",
    "         lw=lw, label='ROC curve (area = %0.2f)' % auc)\n",
    "plt.plot([0, 1], [0, 1], color='navy', lw=lw, linestyle='--')\n",
    "plt.xlim([0.0, 1.0])\n",
    "plt.ylim([0.0, 1.05])\n",
    "plt.xlabel('False Positive Rate')\n",
    "plt.ylabel('True Positive Rate')\n",
    "plt.title('Receiver operating characteristic example')\n",
    "plt.legend(loc=\"lower right\")\n",
    "plt.show()\n",
    "\n",
    "\n",
    "\n"
   ]
  },
  {
   "cell_type": "markdown",
   "id": "9a47418c",
   "metadata": {},
   "source": [
    "### 支持向量机SVM"
   ]
  },
  {
   "cell_type": "code",
   "execution_count": 51,
   "id": "94e5c441",
   "metadata": {
    "ExecuteTime": {
     "end_time": "2022-04-27T08:38:03.032720Z",
     "start_time": "2022-04-27T08:38:00.810242Z"
    }
   },
   "outputs": [
    {
     "name": "stdout",
     "output_type": "stream",
     "text": [
      "--------SVM -------\n",
      "The accuracy SVM is 83.22\n",
      "The cross validated score for SVM is: 82.16\n"
     ]
    },
    {
     "data": {
      "image/png": "[encoded data removed]",
      "text/plain": [
       "<Figure size 432x288 with 2 Axes>"
      ]
     },
     "metadata": {
      "needs_background": "light"
     },
     "output_type": "display_data"
    }
   ],
   "source": [
    "#################################### SVM ########################\n",
    "from sklearn.svm import SVC, LinearSVC\n",
    "model = SVC()\n",
    "model.fit(X_train,y_train)\n",
    "prediction_svm=model.predict(X_validation)\n",
    "\n",
    "accuracy_score_svm = round(accuracy_score(prediction_svm,y_validation)*100,2)\n",
    "\n",
    "print('--------SVM -------')\n",
    "print('The accuracy SVM is',round(accuracy_score(prediction_svm,y_validation)*100,2))\n",
    "\n",
    "kfold = KFold(n_splits=10,shuffle=True,random_state=42) # split the data into 10 equal parts\n",
    "\n",
    "result_svm=cross_val_score(model,X,y,cv=10,scoring='accuracy') \n",
    "\n",
    "print('The cross validated score for SVM is:',round(result_svm.mean()*100,2))\n",
    "\n",
    "y_pred = cross_val_predict(model,X,y,cv=10)\n",
    "sns.heatmap(confusion_matrix(y,y_pred),annot=True,fmt='3.0f',cmap=\"Accent_r\")\n",
    "plt.title('Confusion Matrix', y=1, size=15);"
   ]
  },
  {
   "cell_type": "markdown",
   "id": "fc197afe",
   "metadata": {},
   "source": [
    "### 神经网络KNN"
   ]
  },
  {
   "cell_type": "code",
   "execution_count": 52,
   "id": "50163f9e",
   "metadata": {
    "ExecuteTime": {
     "end_time": "2022-04-27T08:39:13.593858Z",
     "start_time": "2022-04-27T08:39:11.823313Z"
    }
   },
   "outputs": [
    {
     "name": "stdout",
     "output_type": "stream",
     "text": [
      "--------KNN -------\n",
      "The accuracy KNN Classifier is 81.82\n",
      "The cross validated score for KNN classifier is: 82.16\n"
     ]
    },
    {
     "data": {
      "image/png": "[encoded data removed]",
      "text/plain": [
       "<Figure size 432x288 with 2 Axes>"
      ]
     },
     "metadata": {
      "needs_background": "light"
     },
     "output_type": "display_data"
    }
   ],
   "source": [
    "#################################### KNN ########################\n",
    "from sklearn.neighbors import KNeighborsClassifier\n",
    "model =  KNeighborsClassifier()\n",
    "model.fit(X_train,y_train)\n",
    "prediction_knn=model.predict(X_validation)\n",
    "\n",
    "accuracy_score_knn = round(accuracy_score(prediction_knn,y_validation)*100,2)\n",
    "print('--------KNN -------')\n",
    "print('The accuracy KNN Classifier is',round(accuracy_score(prediction_knn,y_validation)*100,2))\n",
    "\n",
    "kfold = KFold(n_splits=10,shuffle=True, random_state=42) # split the data into 8 equal parts\n",
    "\n",
    "result_knn=cross_val_score(model,X,y,cv=10,scoring='accuracy')\n",
    "\n",
    "print('The cross validated score for KNN classifier is:',round(result_knn.mean()*100,2))\n",
    "\n",
    "y_pred = cross_val_predict(model,X,y,cv=10)\n",
    "sns.heatmap(confusion_matrix(y,y_pred),annot=True,fmt='3.0f',cmap=\"Accent_r\")\n",
    "plt.title('Confusion Matrix', y=1, size=15);"
   ]
  },
  {
   "cell_type": "markdown",
   "id": "b151affa",
   "metadata": {},
   "source": [
    "### 逻辑回归Logistic Regression"
   ]
  },
  {
   "cell_type": "code",
   "execution_count": 53,
   "id": "ee6be172",
   "metadata": {
    "ExecuteTime": {
     "end_time": "2022-04-27T08:40:14.836122Z",
     "start_time": "2022-04-27T08:40:12.591162Z"
    }
   },
   "outputs": [
    {
     "name": "stdout",
     "output_type": "stream",
     "text": [
      "--------Logistic Regression -------\n",
      "The accuracy Logistic Regression is 82.52\n",
      "The cross validated score for Logistic Regression is: 79.91\n"
     ]
    },
    {
     "data": {
      "image/png": "[encoded data removed]",
      "text/plain": [
       "<Figure size 432x288 with 2 Axes>"
      ]
     },
     "metadata": {
      "needs_background": "light"
     },
     "output_type": "display_data"
    }
   ],
   "source": [
    "#################################### Logistic Regression ########################\n",
    "from sklearn.linear_model import LogisticRegression\n",
    "model =  LogisticRegression()\n",
    "model.fit(X_train,y_train)\n",
    "prediction_lr=model.predict(X_validation)\n",
    "accuracy_score_lr = round(accuracy_score(prediction_lr,y_validation)*100,2)\n",
    "\n",
    "print('--------Logistic Regression -------')\n",
    "print('The accuracy Logistic Regression is',round(accuracy_score(prediction_lr,y_validation)*100,2))\n",
    "\n",
    "kfold = KFold(n_splits=10,shuffle=True, random_state=42) # split the data into 10 equal parts\n",
    "\n",
    "result_lr=cross_val_score(model,X,y,cv=10,scoring='accuracy')\n",
    "\n",
    "print('The cross validated score for Logistic Regression is:',round(result_lr.mean()*100,2))\n",
    "\n",
    "y_pred = cross_val_predict(model,X,y,cv=10)\n",
    "sns.heatmap(confusion_matrix(y,y_pred),annot=True,fmt='3.0f',cmap=\"Accent_r\")\n",
    "plt.title('Confusion Matrix', y=1, size=15);"
   ]
  },
  {
   "cell_type": "markdown",
   "id": "5e207e4f",
   "metadata": {},
   "source": [
    "### 随机森林 Random Forest"
   ]
  },
  {
   "cell_type": "code",
   "execution_count": 54,
   "id": "d4e3c336",
   "metadata": {
    "ExecuteTime": {
     "end_time": "2022-04-27T08:43:46.283748Z",
     "start_time": "2022-04-27T08:42:24.831619Z"
    },
    "scrolled": true
   },
   "outputs": [
    {
     "name": "stdout",
     "output_type": "stream",
     "text": [
      "--------Random Forest Classifier -------\n",
      "The accuracy Random Forest Classifier  is 83.92\n",
      "The cross validated score for Random Forest Classifier is: 81.46\n"
     ]
    },
    {
     "data": {
      "image/png": "[encoded data removed]",
      "text/plain": [
       "<Figure size 432x288 with 2 Axes>"
      ]
     },
     "metadata": {
      "needs_background": "light"
     },
     "output_type": "display_data"
    }
   ],
   "source": [
    "# Random Forests\n",
    "from sklearn.ensemble import RandomForestClassifier\n",
    "model = RandomForestClassifier(n_estimators=800,\n",
    "                             min_samples_split=12,\n",
    "                             max_features='auto',oob_score=True,\n",
    "                             random_state=1,n_jobs=-1)\n",
    "\n",
    "model.fit(X_train,y_train)\n",
    "prediction_rf=model.predict(X_validation)\n",
    "\n",
    "accuracy_score_rf = round(accuracy_score(prediction_rf,y_validation)*100,2)\n",
    "\n",
    "print('--------Random Forest Classifier -------')\n",
    "print('The accuracy Random Forest Classifier  is',round(accuracy_score(prediction_rf,y_validation)*100,2))\n",
    "\n",
    "kfold = KFold(n_splits=10,shuffle=True, random_state=42) # split the data into 10 equal parts\n",
    "\n",
    "result_rf=cross_val_score(model,X,y,cv=10,scoring='accuracy')\n",
    "\n",
    "print('The cross validated score for Random Forest Classifier is:',round(result_rf.mean()*100,2))\n",
    "\n",
    "y_pred = cross_val_predict(model,X,y,cv=10)\n",
    "sns.heatmap(confusion_matrix(y,y_pred),annot=True,fmt='3.0f',cmap=\"Accent_r\")\n",
    "plt.title('Confusion Matrix', y=1, size=15);"
   ]
  },
  {
   "cell_type": "markdown",
   "id": "1fef2c38",
   "metadata": {},
   "source": [
    "### 梯度提升Gradient Boost"
   ]
  },
  {
   "cell_type": "code",
   "execution_count": 55,
   "id": "53d8db32",
   "metadata": {
    "ExecuteTime": {
     "end_time": "2022-04-27T08:44:35.639547Z",
     "start_time": "2022-04-27T08:44:29.517631Z"
    }
   },
   "outputs": [
    {
     "name": "stdout",
     "output_type": "stream",
     "text": [
      "-------- Gradient Boost -------\n",
      "The accuracy Gradient Boost Classifier is 82.52\n",
      "The cross validated score for Gradient Boost classifier is: 82.72\n"
     ]
    },
    {
     "data": {
      "image/png": "[encoded data removed]",
      "text/plain": [
       "<Figure size 432x288 with 2 Axes>"
      ]
     },
     "metadata": {
      "needs_background": "light"
     },
     "output_type": "display_data"
    }
   ],
   "source": [
    "from sklearn.ensemble import GradientBoostingClassifier\n",
    "model= GradientBoostingClassifier()\n",
    "\n",
    "model.fit(X_train,y_train)\n",
    "prediction_gb=model.predict(X_validation)\n",
    "accuracy_score_gb = round(accuracy_score(prediction_gb,y_validation)*100,2)\n",
    "\n",
    "print('-------- Gradient Boost -------')\n",
    "print('The accuracy Gradient Boost Classifier is',round(accuracy_score(prediction_gb,y_validation)*100,2))\n",
    "\n",
    "kfold = KFold(n_splits=10, shuffle=True,random_state=42) # split the data into 10 equal parts\n",
    "\n",
    "result_gb=cross_val_score(model,X,y,cv=10,scoring='accuracy')\n",
    "\n",
    "print('The cross validated score for Gradient Boost classifier is:',round(result_gb.mean()*100,2))\n",
    "\n",
    "y_pred = cross_val_predict(model,X,y,cv=10)\n",
    "sns.heatmap(confusion_matrix(y,y_pred),annot=True,fmt='3.0f',cmap=\"Accent_r\")\n",
    "plt.title('Confusion Matrix', y=1, size=15);"
   ]
  },
  {
   "cell_type": "markdown",
   "id": "f1d4b6b4",
   "metadata": {},
   "source": [
    "### ADA Boost"
   ]
  },
  {
   "cell_type": "code",
   "execution_count": 56,
   "id": "ca6de31d",
   "metadata": {
    "ExecuteTime": {
     "end_time": "2022-04-27T08:45:13.955909Z",
     "start_time": "2022-04-27T08:45:08.089739Z"
    }
   },
   "outputs": [
    {
     "name": "stdout",
     "output_type": "stream",
     "text": [
      "--------ADA Boost -------\n",
      "The accuracy ADA Boost Classifier is 79.02\n",
      "The cross validated score for ADA Boost classifier is: 79.91\n"
     ]
    },
    {
     "data": {
      "image/png": "[encoded data removed]",
      "text/plain": [
       "<Figure size 432x288 with 2 Axes>"
      ]
     },
     "metadata": {
      "needs_background": "light"
     },
     "output_type": "display_data"
    }
   ],
   "source": [
    "from sklearn.ensemble import AdaBoostClassifier\n",
    "model= AdaBoostClassifier()\n",
    "\n",
    "model.fit(X_train,y_train)\n",
    "prediction_ada=model.predict(X_validation)\n",
    "\n",
    "accuracy_score_ada = round(accuracy_score(prediction_ada,y_validation)*100,2)\n",
    "\n",
    "print('--------ADA Boost -------')\n",
    "print('The accuracy ADA Boost Classifier is',round(accuracy_score(prediction_ada,y_validation)*100,2))\n",
    "\n",
    "kfold = KFold(n_splits=10,shuffle=True, random_state=42) # split the data into 10 equal parts\n",
    "\n",
    "result_ada=cross_val_score(model,X,y,cv=10,scoring='accuracy')\n",
    "\n",
    "print('The cross validated score for ADA Boost classifier is:',round(result_ada.mean()*100,2))\n",
    "\n",
    "y_pred = cross_val_predict(model,X,y,cv=10)\n",
    "sns.heatmap(confusion_matrix(y,y_pred),annot=True,fmt='3.0f',cmap=\"Accent_r\")\n",
    "plt.title('Confusion Matrix', y=1, size=15);"
   ]
  },
  {
   "cell_type": "markdown",
   "id": "d7a668f4",
   "metadata": {},
   "source": [
    "### 以上几种算法模型的评估对比"
   ]
  },
  {
   "cell_type": "code",
   "execution_count": 57,
   "id": "32744c08",
   "metadata": {
    "ExecuteTime": {
     "end_time": "2022-04-27T08:46:16.628995Z",
     "start_time": "2022-04-27T08:46:16.599733Z"
    }
   },
   "outputs": [
    {
     "data": {
      "text/html": [
       "<div>\n",
       "<style scoped>\n",
       "    .dataframe tbody tr th:only-of-type {\n",
       "        vertical-align: middle;\n",
       "    }\n",
       "\n",
       "    .dataframe tbody tr th {\n",
       "        vertical-align: top;\n",
       "    }\n",
       "\n",
       "    .dataframe thead th {\n",
       "        text-align: right;\n",
       "    }\n",
       "</style>\n",
       "<table border=\"1\" class=\"dataframe\">\n",
       "  <thead>\n",
       "    <tr style=\"text-align: right;\">\n",
       "      <th></th>\n",
       "      <th>Model</th>\n",
       "      <th>Score</th>\n",
       "    </tr>\n",
       "  </thead>\n",
       "  <tbody>\n",
       "    <tr>\n",
       "      <th>6</th>\n",
       "      <td>Gradient Boosting</td>\n",
       "      <td>0.827230</td>\n",
       "    </tr>\n",
       "    <tr>\n",
       "      <th>1</th>\n",
       "      <td>KNN</td>\n",
       "      <td>0.821616</td>\n",
       "    </tr>\n",
       "    <tr>\n",
       "      <th>0</th>\n",
       "      <td>Support Vector Machines</td>\n",
       "      <td>0.821577</td>\n",
       "    </tr>\n",
       "    <tr>\n",
       "      <th>3</th>\n",
       "      <td>Random Forest</td>\n",
       "      <td>0.814574</td>\n",
       "    </tr>\n",
       "    <tr>\n",
       "      <th>5</th>\n",
       "      <td>AdaBoostClassifier</td>\n",
       "      <td>0.799139</td>\n",
       "    </tr>\n",
       "    <tr>\n",
       "      <th>2</th>\n",
       "      <td>Logistic Regression</td>\n",
       "      <td>0.799120</td>\n",
       "    </tr>\n",
       "    <tr>\n",
       "      <th>4</th>\n",
       "      <td>Naive Bayes</td>\n",
       "      <td>0.771127</td>\n",
       "    </tr>\n",
       "  </tbody>\n",
       "</table>\n",
       "</div>"
      ],
      "text/plain": [
       "                     Model     Score\n",
       "6        Gradient Boosting  0.827230\n",
       "1                      KNN  0.821616\n",
       "0  Support Vector Machines  0.821577\n",
       "3            Random Forest  0.814574\n",
       "5       AdaBoostClassifier  0.799139\n",
       "2      Logistic Regression  0.799120\n",
       "4              Naive Bayes  0.771127"
      ]
     },
     "execution_count": 57,
     "metadata": {},
     "output_type": "execute_result"
    }
   ],
   "source": [
    "models = pd.DataFrame({\n",
    "    'Model': ['Support Vector Machines', 'KNN', 'Logistic Regression', \n",
    "              'Random Forest', 'Naive Bayes', 'AdaBoostClassifier', \n",
    "              'Gradient Boosting'],\n",
    "    'Score': [result_svm.mean(), result_knn.mean(), result_lr.mean(), \n",
    "              result_rf.mean(), result_gnb.mean(), result_ada.mean(), \n",
    "              result_gb.mean()]})\n",
    "models.sort_values(by='Score',ascending=False)"
   ]
  },
  {
   "cell_type": "code",
   "execution_count": 58,
   "id": "8452e622",
   "metadata": {},
   "outputs": [
    {
     "data": {
      "text/html": [
       "<div>\n",
       "<style scoped>\n",
       "    .dataframe tbody tr th:only-of-type {\n",
       "        vertical-align: middle;\n",
       "    }\n",
       "\n",
       "    .dataframe tbody tr th {\n",
       "        vertical-align: top;\n",
       "    }\n",
       "\n",
       "    .dataframe thead th {\n",
       "        text-align: right;\n",
       "    }\n",
       "</style>\n",
       "<table border=\"1\" class=\"dataframe\">\n",
       "  <thead>\n",
       "    <tr style=\"text-align: right;\">\n",
       "      <th></th>\n",
       "      <th>Model</th>\n",
       "      <th>Score</th>\n",
       "    </tr>\n",
       "  </thead>\n",
       "  <tbody>\n",
       "    <tr>\n",
       "      <th>3</th>\n",
       "      <td>Random Forest</td>\n",
       "      <td>83.92</td>\n",
       "    </tr>\n",
       "    <tr>\n",
       "      <th>0</th>\n",
       "      <td>Support Vector Machines</td>\n",
       "      <td>83.22</td>\n",
       "    </tr>\n",
       "    <tr>\n",
       "      <th>2</th>\n",
       "      <td>Logistic Regression</td>\n",
       "      <td>82.52</td>\n",
       "    </tr>\n",
       "    <tr>\n",
       "      <th>6</th>\n",
       "      <td>Gradient Boosting</td>\n",
       "      <td>82.52</td>\n",
       "    </tr>\n",
       "    <tr>\n",
       "      <th>1</th>\n",
       "      <td>KNN</td>\n",
       "      <td>81.82</td>\n",
       "    </tr>\n",
       "    <tr>\n",
       "      <th>5</th>\n",
       "      <td>AdaBoostClassifier</td>\n",
       "      <td>79.02</td>\n",
       "    </tr>\n",
       "    <tr>\n",
       "      <th>4</th>\n",
       "      <td>Naive Bayes</td>\n",
       "      <td>76.92</td>\n",
       "    </tr>\n",
       "  </tbody>\n",
       "</table>\n",
       "</div>"
      ],
      "text/plain": [
       "                     Model  Score\n",
       "3            Random Forest  83.92\n",
       "0  Support Vector Machines  83.22\n",
       "2      Logistic Regression  82.52\n",
       "6        Gradient Boosting  82.52\n",
       "1                      KNN  81.82\n",
       "5       AdaBoostClassifier  79.02\n",
       "4              Naive Bayes  76.92"
      ]
     },
     "execution_count": 58,
     "metadata": {},
     "output_type": "execute_result"
    }
   ],
   "source": [
    "models = pd.DataFrame({\n",
    "    'Model': ['Support Vector Machines', 'KNN', 'Logistic Regression', \n",
    "              'Random Forest', 'Naive Bayes', 'AdaBoostClassifier', \n",
    "              'Gradient Boosting'],\n",
    "    'Score': [accuracy_score_svm, accuracy_score_knn, accuracy_score_lr,\n",
    "              accuracy_score_rf, accuracy_score_gnb, accuracy_score_ada,\n",
    "              accuracy_score_gb]})\n",
    "models.sort_values(by='Score',ascending=False)"
   ]
  },
  {
   "cell_type": "markdown",
   "id": "d27bff78",
   "metadata": {},
   "source": [
    "# 选择Random Forest算法，进行超参数调优"
   ]
  },
  {
   "cell_type": "markdown",
   "id": "aa5805cb",
   "metadata": {},
   "source": [
    "超参数优化，详见：sklearn关键API -> Hyper-parameter optimizers超参数优化"
   ]
  },
  {
   "cell_type": "code",
   "execution_count": null,
   "id": "27cab8c7",
   "metadata": {
    "ExecuteTime": {
     "end_time": "2022-04-27T08:50:15.403604Z",
     "start_time": "2022-04-27T08:47:51.630513Z"
    }
   },
   "outputs": [
    {
     "name": "stdout",
     "output_type": "stream",
     "text": [
      "range(100, 1000, 100)\n",
      "range(5, 15, 2)\n",
      "{'n_estimators': range(100, 1000, 100), 'max_depth': range(5, 15, 2)}\n",
      "Fitting 10 folds for each of 45 candidates, totalling 450 fits\n"
     ]
    }
   ],
   "source": [
    "from sklearn.ensemble import RandomForestClassifier\n",
    "from sklearn.model_selection import GridSearchCV\n",
    "\n",
    "n_estim = range(100,1000,100) \n",
    "print(n_estim)\n",
    "max_depth = range(5,15,2)\n",
    "print(max_depth)\n",
    "\n",
    "param_grid = {\"n_estimators\" :n_estim,\"max_depth\":max_depth}\n",
    "print(param_grid)\n",
    "\n",
    "model = RandomForestClassifier()\n",
    "model_rf = GridSearchCV(model, param_grid = param_grid, cv=10, scoring=\"accuracy\", n_jobs= 4, verbose = 1)\n",
    "\n",
    "model_rf.fit(X_train,y_train)\n",
    "\n",
    "print(model_rf.best_score_)\n",
    "\n",
    "#best estimator\n",
    "print(model_rf.best_estimator_)"
   ]
  },
  {
   "cell_type": "code",
   "execution_count": null,
   "id": "8723dc7b",
   "metadata": {
    "ExecuteTime": {
     "end_time": "2022-04-27T09:15:15.405091Z",
     "start_time": "2022-04-27T09:15:14.361829Z"
    }
   },
   "outputs": [],
   "source": [
    "### Applying Param Got From GridSearchCV\n",
    "rfmodel = RandomForestClassifier(max_depth=5, n_estimators=300, min_samples_split=12, n_jobs=-1,\n",
    "                       oob_score=True, random_state=11)\n",
    "\n",
    "rfmodel.fit(X_train,y_train)"
   ]
  },
  {
   "cell_type": "markdown",
   "id": "447b8e07",
   "metadata": {},
   "source": [
    "# 使用Random Forest算法调优后的模型进行预测"
   ]
  },
  {
   "cell_type": "code",
   "execution_count": null,
   "id": "fffed77b",
   "metadata": {
    "ExecuteTime": {
     "end_time": "2022-04-27T09:14:42.934909Z",
     "start_time": "2022-04-27T09:14:42.864280Z"
    }
   },
   "outputs": [],
   "source": [
    "df_test = pd.read_csv(r'DataSet\\Titanic\\test.csv')\n",
    "test = clean_data(df_test)\n",
    "test"
   ]
  },
  {
   "cell_type": "code",
   "execution_count": null,
   "id": "43d6351d",
   "metadata": {
    "ExecuteTime": {
     "end_time": "2022-04-27T09:15:22.433156Z",
     "start_time": "2022-04-27T09:15:22.270394Z"
    }
   },
   "outputs": [],
   "source": [
    "\n",
    "y_pred = rfmodel.predict(test)\n",
    "# y_pred"
   ]
  },
  {
   "cell_type": "code",
   "execution_count": null,
   "id": "b0192e5c",
   "metadata": {
    "ExecuteTime": {
     "end_time": "2022-04-27T09:15:25.580631Z",
     "start_time": "2022-04-27T09:15:25.569039Z"
    }
   },
   "outputs": [],
   "source": [
    "submission = pd.DataFrame({\n",
    "        \"PassengerId\": df_test[\"PassengerId\"],\n",
    "        \"Survived\": y_pred})"
   ]
  },
  {
   "cell_type": "code",
   "execution_count": null,
   "id": "58156744",
   "metadata": {
    "ExecuteTime": {
     "end_time": "2022-04-27T09:15:29.320922Z",
     "start_time": "2022-04-27T09:15:29.309385Z"
    }
   },
   "outputs": [],
   "source": [
    "submission.to_csv('Submission.csv', index=False)"
   ]
  },
  {
   "cell_type": "code",
   "execution_count": null,
   "id": "94e0f9fe",
   "metadata": {},
   "outputs": [],
   "source": []
  },
  {
   "cell_type": "code",
   "execution_count": null,
   "id": "83c97526",
   "metadata": {},
   "outputs": [],
   "source": []
  },
  {
   "cell_type": "code",
   "execution_count": null,
   "id": "f8728a57",
   "metadata": {},
   "outputs": [],
   "source": []
  },
  {
   "cell_type": "code",
   "execution_count": null,
   "id": "bba3b727",
   "metadata": {},
   "outputs": [],
   "source": []
  },
  {
   "cell_type": "code",
   "execution_count": null,
   "id": "da7d6a16",
   "metadata": {},
   "outputs": [],
   "source": []
  },
  {
   "cell_type": "code",
   "execution_count": null,
   "id": "878c7345",
   "metadata": {},
   "outputs": [],
   "source": []
  },
  {
   "cell_type": "code",
   "execution_count": null,
   "id": "21853f50",
   "metadata": {},
   "outputs": [],
   "source": []
  }
 ],
 "metadata": {
  "hide_input": false,
  "kernelspec": {
   "display_name": "Python 3 (ipykernel)",
   "language": "python",
   "name": "python3"
  },
  "language_info": {
   "codemirror_mode": {
    "name": "ipython",
    "version": 3
   },
   "file_extension": ".py",
   "mimetype": "text/x-python",
   "name": "python",
   "nbconvert_exporter": "python",
   "pygments_lexer": "ipython3",
   "version": "3.9.12"
  },
  "toc": {
   "base_numbering": 1,
   "nav_menu": {},
   "number_sections": true,
   "sideBar": true,
   "skip_h1_title": false,
   "title_cell": "Table of Contents",
   "title_sidebar": "Contents",
   "toc_cell": false,
   "toc_position": {
    "height": "calc(100% - 180px)",
    "left": "10px",
    "top": "150px",
    "width": "320.75px"
   },
   "toc_section_display": true,
   "toc_window_display": true
  }
 },
 "nbformat": 4,
 "nbformat_minor": 5
}
