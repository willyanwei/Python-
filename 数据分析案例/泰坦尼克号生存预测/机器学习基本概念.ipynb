{
 "cells": [
  {
   "cell_type": "markdown",
   "id": "601a0f11",
   "metadata": {},
   "source": [
    "# 人工智能基本概念"
   ]
  },
  {
   "cell_type": "markdown",
   "id": "c15dd977",
   "metadata": {},
   "source": [
    "**人工智能（Artificial intelligence）** \t研究、开发用于模拟、延伸和扩展人的智能的理论、方法、技术及应用系统的一门新的技术科学。它是一个笼统而宽泛的概念，人工智能的最终目标是使计算机能够模拟人的思维方式和行为。大概在上世纪50年代开始兴起，但是受限于数据和硬件设备等限制，当时发展缓慢。  \n",
    " \n",
    "**机器学习（Machine learning）**\t是人工智能的子集，是实现人工智能的一种途径，但并不是唯一的途径。它是一门专门研究计算机怎样模拟或实现人类的学习行为，以获取新的知识或技能，重新组织已有的知识结构使之不断改善自身的性能的学科。大概在上世纪80年代开始蓬勃发展，诞生了一大批数学统计相关的机器学习模型。    \n",
    "常用Python库：Scikit-Learn   \n",
    "\t\n",
    "\n",
    "**深度学习（Deep learning）**\t是机器学习的子集，灵感来自人脑，由人工神经网络（ANN）组成，它模仿人脑中存在的相似结构。在深度学习中，学习是通过相互关联的「神经元」的一个深层的、多层的「网络」来进行的。「深度」一词通常指的是神经网络中隐藏层的数量。大概在2012年以后爆炸式增长，广泛应用在很多的场景中。   \n",
    "常用Python库： Caffe、 TensorFlow、 Keras 、 PyTorch\n",
    "\n",
    "<img src=\"./pic/人工智能、机器学习、深度学习的关系示意图.png\" alt=\"Drawing\" style=\"width: 600px;\" align=\"left\"/>"
   ]
  },
  {
   "cell_type": "markdown",
   "id": "c284cb76",
   "metadata": {},
   "source": [
    "# 机器学习"
   ]
  },
  {
   "cell_type": "markdown",
   "id": "90ff786e",
   "metadata": {},
   "source": [
    "##  机器学习是做什么的？\n",
    "机器学习研究的是计算机怎样模拟人类的学习行为，以获取新的知识或技能，并重新组织已有的知识结构，使之不断改善自身。  \n",
    "从实践的意义上来说，机器学习是在大数据的支撑下，通过各种算法让机器对数据进行深层次的统计分析以进行「自学」，使得人工智能系统获得了归纳推理和决策能力"
   ]
  },
  {
   "cell_type": "markdown",
   "id": "cb6298d0",
   "metadata": {},
   "source": [
    "## 机器学习的三要素（数据-算法-模型）\n",
    "机器学习三要素： 数据、模型、算法\n",
    "1. **数据驱动**：数据驱动指的是我们基于客观的量化数据，通过主动数据的采集分析以支持决策。\n",
    "\n",
    "2. **算法**：指学习模型的具体计算方法。统计学习基于训练数据集，根据学习策略，从假设空间中选择最优模型，最后需要考虑用什么样的计算方法求解最优模型。通常是一个最优化的问题。\n",
    "\t\t\n",
    "3. **模型**：在AI数据驱动的范畴内，模型指的是基于数据X做决策Y的假设函数，可以有不同的形态，计算型和规则型等。"
   ]
  },
  {
   "cell_type": "markdown",
   "id": "54a890d1",
   "metadata": {},
   "source": [
    "## 机器学习基本流程\n",
    "机器学习工作流（WorkFlow）包含数据预处理（Processing）、模型学习（Learning）、模型评估（Evaluation）、新样本预测（Prediction）几个步骤。\n",
    "1. **数据预处理**：输入（未处理的数据 + 标签）→处理过程（特征处理+幅度缩放、特征选择、维度约减、采样）→输出（测试集 + 训练集）。Numpy、Pandas\n",
    "2. **模型学习**：算法的选择、模型选择、交叉验证、结果评估、超参选择。\n",
    "3. **模型评估**：了解模型对于数据集测试的得分。 选择最优的模型\n",
    "4. **新样本预测**：预测测试集。  \n",
    "\n"
   ]
  },
  {
   "cell_type": "markdown",
   "id": "294399c8",
   "metadata": {},
   "source": [
    "## 机器学习数据集准备\n",
    "\n",
    "机器学习最典型的监督学习为分类与回归问题。分类问题中，我们学习出来一条「决策边界」完成数据区分；在回归问题中，我们学习出拟合样本分布的曲线。在进行分类与回归之前，需要先准备好数据集\n",
    "\n",
    "一般将数据集分为训练集(Training)与测试集(Test)两部分。   \n",
    "训练集（Training Set）：帮助训练模型，简单的说就是通过训练集的数据让确定拟合曲线的参数。 \n",
    "测试集（Test Set）：为了测试已经训练好的模型的精确度。\n",
    "\n",
    "通常将数据集的80%作为训练集train，20%作为测试集test；如果数据集很大，测试集不需要完全按比例分配，够用就好。 \n",
    "\n",
    "**训练集（Training Set）**：帮助训练模型，简单的说就是通过训练集的数据让确定拟合曲线的参数， 确定模型\t\n",
    "\n",
    "**测试集（Test Set）**：在测试集 测试 已经训练好的模型的精确度。测试集自始至终没有参与到模型的训练过程；它的目的只有一个：在确定一个最终模型后，评价其泛化能力。\n",
    "\n",
    "Test Set这并不能保证模型的正确性，只是说相似的数据用此模型会得出相似的结果。因为在训练模型的时候，参数全是根据现有训练集里的数据进行修正、拟合，有可能会出现过拟合的情况，即这个参数仅对训练集里的数据拟合比较准确，这个时候再有一个数据需要利用模型预测结果，准确率可能就会很差。\n",
    "\n",
    "防止训练模型过拟合，可有使用K折交叉验证，这个时候将训练集进一步拆分，得到训练集（Training Set）+验证集（Validation Set）：  \t\t\n",
    "**验证集（Validation Set）**：初始的Train训练集会进一步再分为Train训练集与Validation验证集两部分，以评价不同参数组合的效果，以确定最终的模型。最后放到Test测试集中评价其效果。\n",
    "\n",
    "**训练集拆分方法**  \n",
    "一般先拆分数据为（Train + Validation）与Test两部分，其比例一般为 8:2、7:3、6:4；  \n",
    "其次进一步拆分出Train + Validation的方法：可以按照设定比例进行拆分，也有K折交叉验证、Bootstrap自助法抽样。\n",
    "\n",
    "在数据准备阶段，只区分训练集和测试集。训练集拆分为训练集和验证集在特征工程之后做。\n",
    "\n",
    "<!-- ![pic](./pic/训练集验证集测试集.jpg) -->\n",
    "\n",
    "<!-- <img src=\"./pic/skleran算法选择图CH.jpg\" alt=\"Drawing\" style=\"width: 600px;\" align=\"left\"/> -->\n",
    "<!-- <img src=\"./pic/训练集验证集测试集.jpg\"  style='width:600px;' align=\"left\"/> -->\n"
   ]
  },
  {
   "cell_type": "markdown",
   "id": "07da35e5",
   "metadata": {},
   "source": [
    "## 机器学习算法选择"
   ]
  },
  {
   "cell_type": "markdown",
   "id": "096c6382",
   "metadata": {},
   "source": [
    "### 机器学习算法分类\n",
    "\n",
    "1. **监督学习**：有数据、有标签的学习方式。从给定的训练数据集中学习出一个函数，当新的数据到来时，可以根据这个函数预测结果。监督学习的训练集要求是包括输入和输出，也可以说是特征和目标。训练集中的目标是由人标注的。常见的监督学习算法包括回归分析和统计分类。\n",
    "2. **无监督学习**：有数据、无标签的学习方法。 与监督学习相比，训练集没有人为标注的结果。常见的无监督学习算法有生成对抗网络（GAN）、聚类。\n",
    "3. **强化学习**：有延迟和稀疏的反馈标签的学习方法。 通过观察来学习做成如何的动作。每个动作都会对环境有所影响，学习对象根据观察到的周围环境的反馈来做出判断。"
   ]
  },
  {
   "cell_type": "markdown",
   "id": "d3a06339",
   "metadata": {},
   "source": [
    "### 机器学习算法解决什么问题？\n",
    "\n",
    "1. **分类**：根据已知样本的某些特征，判断一个新的样本属于哪种已知的样本类;   \n",
    "分类算法：KNN算法、逻辑回归算法、朴素贝叶斯算法、决策树模型、随机森林分类模型、GBDT模型、XGBoost模型、支持向量机模型等。  \n",
    "\n",
    "    分类问题可以细分如下：\n",
    "    * 二分类问题：表示分类任务中有两个类别新的样本属于哪种已知的样本类。\n",
    "    * 多类分类（Multiclass classification）问题：表示分类任务中有多类别。\n",
    "    * 多标签分类（Multilabel classification）问题：给每个样本一系列的目标标签。\n"
   ]
  },
  {
   "cell_type": "markdown",
   "id": "6502bebc",
   "metadata": {},
   "source": [
    "2. **回归**：根据数据样本上抽取出来的特征，预测连续值的结果。  \n",
    "回归算法：决策树模型、随机森林分类模型、GBDT模型、回归树模型、支持向量机模型等。  "
   ]
  },
  {
   "cell_type": "markdown",
   "id": "85d3f763",
   "metadata": {},
   "source": [
    "3. **聚类**：从海量数据中识别数据的相似性与差异性，并按照最大共同点聚合为多个类别。  \n",
    "聚类算法： k均值，谱聚类，均值偏移等"
   ]
  },
  {
   "cell_type": "markdown",
   "id": "0c1229a9",
   "metadata": {},
   "source": [
    "4. **降维**： 将高维数据用低维数据进行表达；数据的映射。  \n",
    "降维算法：PCA，特征选择，非负矩阵分解"
   ]
  },
  {
   "cell_type": "markdown",
   "id": "0c67512f",
   "metadata": {},
   "source": [
    "### 机器学习算法如何选择  \n",
    "\n",
    "根据经验选择  \n",
    "<!-- ![pic](./pic/skleran算法选择图CH.jpg)\n",
    "\n",
    "![pic](./pic/skleran算法选择图EN.jpg) -->\n",
    "\n",
    "<img src=\"./pic/skleran算法选择图CH.jpg\" alt=\"Drawing\" style=\"width: 1000px;\" align=\"left\"/>"
   ]
  },
  {
   "cell_type": "markdown",
   "id": "b7511635",
   "metadata": {},
   "source": [
    "## 机器学习模型评估和选择"
   ]
  },
  {
   "cell_type": "markdown",
   "id": "e4fa2a12",
   "metadata": {},
   "source": [
    "### 机器学习与数据拟合\n",
    "机器学习最典型的监督学习为分类与回归问题。  \n",
    "分类问题中，我们学习出来一条「决策边界」完成数据区分；  \n",
    "在回归问题中，我们学习出拟合样本分布的曲线。  \n",
    "<!-- ![pic](./pic/机器学习与数据拟合.jpg) -->\n",
    "\n",
    "<img src=\"./pic/机器学习与数据拟合.jpg\" alt=\"Drawing\" style=\"width: 500px;\" align=\"left\"/>\n"
   ]
  },
  {
   "cell_type": "markdown",
   "id": "f8db7804",
   "metadata": {},
   "source": [
    "### 评估维度"
   ]
  },
  {
   "cell_type": "markdown",
   "id": "b86de4cd",
   "metadata": {},
   "source": [
    "#### 经验误差\n",
    "模型在训练集上的误差称为「经验误差」（Empirical Error）。  \n",
    "但是经验误差并不是越小越好，因为我们希望在新的没有见过的数据上，也能有好的预估结果。"
   ]
  },
  {
   "cell_type": "markdown",
   "id": "46648353",
   "metadata": {},
   "source": [
    "#### 过拟合  \n",
    "模型在训练集上表现的很好，但是在交叉验证集合测试集上表现一般，也就是说模型对未知样本的预测表现一般，泛化（Generalization）能力较差。  \n",
    "\n",
    "如何防止过拟合呢？一般的方法有Early Stopping、数据集扩增（Data Augmentation）、正则化、Dropout等。  \n",
    "\n",
    "**正则化**：指的是在目标函数后面添加一个正则化项，一般有L1正则化与L2正则化。L1正则是基于L1范数，即在目标函数后面加上参数的L1范数和项，即参数绝对值和与参数的积项。\n",
    "\n",
    "**数据集扩增**：即需要得到更多的符合要求的数据，即和已有的数据是独立同分布的，或者近似独立同分布的。一般方法有：从数据源头采集更多数据、复制原有数据并加上随机噪声、重采样、根据当前数据集估计数据分布参数，使用该分布产生更多数据等。\n",
    "\n",
    "**DropOut**：通过修改神经网络本身结构来实现的。"
   ]
  },
  {
   "cell_type": "markdown",
   "id": "9430a0a3",
   "metadata": {},
   "source": [
    "#### 偏差\n",
    "偏差（Bias），它通常指的是模型拟合的偏差程度。给定无数套训练集而期望拟合出来的模型就是平均模型。偏差就是真实模型和平均模型的差异。  \n",
    "\n",
    "简单模型是一组直线，平均之后得到的平均模型是一条直的虚线，与真实模型曲线的差别较大（灰色阴影部分较大）。因此，简单模型通常高偏差 。  "
   ]
  },
  {
   "cell_type": "markdown",
   "id": "14f62d25",
   "metadata": {},
   "source": [
    "#### 方差\n",
    "方差（Variance），它通常指的是模型的平稳程度（简单程度）。  \n",
    "简单模型的对应的函数如出一辙，都是水平直线，而且平均模型的函数也是一条水平直线，因此简单模型的方差很小，并且对数据的变动不敏感。"
   ]
  },
  {
   "cell_type": "markdown",
   "id": "ddf6844d",
   "metadata": {},
   "source": [
    "### 性能度量指标\n",
    "\n"
   ]
  },
  {
   "cell_type": "markdown",
   "id": "2c8c5d54",
   "metadata": {},
   "source": [
    "#### 分类问题 \n",
    "分类问题常用的性能度量指标包括\n",
    "\n",
    "1. 混淆矩阵（Confusion Matrix）    \n",
    "    错误率（Error Rate）  \n",
    "    精确率（Accuracy）    \n",
    "    查准率（Precision）  \n",
    "    查全率（Recall）  \n",
    "    F1值  \n",
    "2. ROC曲线/AUC值    \n",
    "\n",
    "涉及到的API：   metrics衡量指标系列API ，如：   \n",
    "sklearn.metrics.accuracy_score      \n",
    "sklearn.metrics.roc_auc_score¶    \n"
   ]
  },
  {
   "cell_type": "markdown",
   "id": "9da6fe4b",
   "metadata": {},
   "source": [
    "##### 混淆矩阵\n",
    "在人工智能中，混淆矩阵（Confusion Matrix）是非常有效的评估模式，特别用于监督学习（在无监督学习中一般叫做匹配矩阵）。典型的混淆矩阵构成如下图所示：  \n",
    "\n",
    "\n",
    "<img src=\"./pic/混淆矩阵.jpg\" alt=\"Drawing\" style=\"width: 600px;\" align=\"left\"/>\n",
    "\n",
    "TP：(实际为正例，预测也为正例) 实际为男生，预测为男生；  \n",
    "FP：(实际为负例，预测为正例) 实际为女生，预测为男生；  \n",
    "FN：(实际为正例，预测为负例) 实际为男生，预测为女生；  \n",
    "TN：(实际为负例，预测也为负例) 实际为女生，预测为女生；     \n",
    "   \n",
    "        \n",
    "每一列代表了预测类别，每一列的总数表示预测为该类别的数据的数目。    \n",
    "每一行代表了数据的真实归属类别，每一行的数据总数表示该类别的数据实例的数目。 "
   ]
  },
  {
   "cell_type": "markdown",
   "id": "0fb7f48e",
   "metadata": {},
   "source": [
    "1. **错误率**：分类错误的样本数占样本总数的比例。     \n",
    "\n",
    "\n",
    "2. **精确率（Accuracy）**：\n",
    "对于分类问题，指分类正确的样本数占样本总数的比例，是最常用的指标，可以总体上衡量一个预测的性能。一般情况（数据类别均衡）下，模型的精度越高，说明模型的效果越好。。      \n",
    "\n",
    "Accuracy = (TP + TN) / 总样本     \n",
    "\n",
    "\n",
    "但是在数据类别严重不均衡的情况下，这个评估指标并不合理，比如发病率 0.1% 的医疗场景下，如果只追求 Accuracy，模型可以把所有人判定为没有病的正常人，Accuracy高达 99.9%，但这个模型实际是不可用的。为了更好地应对上述问题，衍生出了一系列其他评估指标。例如：  \n",
    "\n",
    "宁愿漏掉，不可错杀：在识别垃圾邮件的场景中可能偏向这一种思路，因为不希望很多的正常邮件被误杀，这样会造成严重的困扰。因此，查准率（Precision）将是一个被侧重关心的指标。  \n",
    "\n",
    "宁愿错杀，不可漏掉：在金融风控领域大多偏向这种思路，希望系统能够筛选出所有有风险的行为或用户，然后交给人工鉴别，漏掉一个可能造成灾难性后果。因此，查全率（Recall）将是一个被侧重关心的指标。  \n"
   ]
  },
  {
   "cell_type": "markdown",
   "id": "fff1da9b",
   "metadata": {},
   "source": [
    "3. **查准率（Precision）**，  \n",
    "又称正确率、准确率，表示在模型识别为正类的样本中，真正为正类的样本所占的比例。一般情况下，查准率越高，说明模型的效果越好    \n",
    "Precision = TP / (TP + FP)  \n"
   ]
  },
  {
   "cell_type": "markdown",
   "id": "bbfb7141",
   "metadata": {},
   "source": [
    "4. **查全率（Recall）**，  \n",
    "又称召回率，表示的是，模型正确识别出为正类的样本的数量占总的正类样本数量的比值。一般情况下，Recall 越高，说明有更多的正类样本被模型预测正确，模型的效果越好。   \n",
    "Recall = TP / (TP + FN)   \n",
    " "
   ]
  },
  {
   "cell_type": "markdown",
   "id": "2a54b962",
   "metadata": {},
   "source": [
    "5. **F1值**  \n",
    "理论上来说，Precision 和 Recall 都是越高越好，但更多时候它们两个是矛盾的，经常无法保证二者都很高。此时，引入一个新指标F1值 ，用来综合考虑 Precision 与 Recall。  \n",
    " F1值 = 精确率 * 召回率 * 2 / ( 精确率 + 召回率)   \n",
    " 综合平等考虑 Precision 和 Recall 的评估指标，当F1值较高时则说明模型性能较好。  "
   ]
  },
  {
   "cell_type": "markdown",
   "id": "14bee523",
   "metadata": {},
   "source": [
    "##### **ROC曲线（Receiver Operating Characteristic Curve）** 全称是「受试者工作特性曲线」。  \n",
    "综合考虑了概率预测排序的质量，体现了学习器在不同任务下的「期望泛化性能」的好坏。  \n",
    "\n",
    "ROC曲线的横轴是 假正类率(false postive rate FPR)， 也叫伪阳性率。FPR: FP/(FP+TN)，代表分类器 预测为正类中实际为负实例 占 所有负实例 的比例。\n",
    " \n",
    "\n",
    "ROC曲线的纵轴是 真正类率(true postive rate TPR)，也叫真阳性率。TPR: TP/(TP+FN), 代表分类器 预测为正类中实际为正实例 占 所有正实例 的比例。\n",
    "\n",
    "\n",
    "横轴FPR: FPR越大，预测正类中实际负类越多。\n",
    "\n",
    "纵轴TPR：TPR越大，预测正类中实际正类越多。\n",
    "\n",
    "理想目标：TPR=1，FPR=0，即图中(0,1)点，此时ROC曲线越靠拢(0,1)点，越偏离45度对角线越好。\n",
    "\n",
    "ROC曲线反映了TPR和FPR随阈值的变化情况。曲线月接近左上角，表示该分类器的性能越好  \n",
    "\n",
    "<img src=\"./pic/ROC.jpg\" alt=\"Drawing\" style=\"width: 600px;\" align=\"left\"/>"
   ]
  },
  {
   "cell_type": "markdown",
   "id": "b5025baf",
   "metadata": {},
   "source": [
    "##### **AUC（Area Under ROC Curve）** 是ROC曲线下面积，代表了样本预测的排序质量。  "
   ]
  },
  {
   "cell_type": "markdown",
   "id": "dcf0a42c",
   "metadata": {},
   "source": [
    "**代码演示** "
   ]
  },
  {
   "cell_type": "code",
   "execution_count": 3,
   "id": "675d7b45",
   "metadata": {},
   "outputs": [
    {
     "name": "stdout",
     "output_type": "stream",
     "text": [
      "[0.  0.  0.5 0.5 1. ]\n"
     ]
    },
    {
     "data": {
      "image/png": "[encoded data removed]",
      "text/plain": [
       "<Figure size 432x288 with 1 Axes>"
      ]
     },
     "metadata": {
      "needs_background": "light"
     },
     "output_type": "display_data"
    }
   ],
   "source": [
    "from sklearn.metrics import roc_curve, auc\n",
    "# 数据准备\n",
    "import numpy as np\n",
    "from sklearn import metrics\n",
    "y = np.array([1, 1, 2, 2])\n",
    "scores = np.array([0.1, 0.4, 0.35, 0.8])\n",
    " \n",
    "# roc_curve的输入为\n",
    "# y: 样本标签\n",
    "# scores: 模型对样本属于正例的概率输出\n",
    "# pos_label: 标记为正例的标签，本例中标记为2的即为正例\n",
    "fpr, tpr, thresholds = metrics.roc_curve(y, scores, pos_label=2)\n",
    "# 假阳性率\n",
    "print(fpr) # array([ 0. ,  0.5,  0.5,  1. ])\n",
    "\n",
    "# 真阳性率\n",
    "tpr # array([ 0.5,  0.5,  1. ,  1. ])\n",
    "\n",
    "# 阈值\n",
    "thresholds # array([ 0.8 ,  0.4 ,  0.35,  0.1 ])\n",
    "\n",
    " \n",
    "# auc的输入为很简单，就是fpr, tpr值\n",
    "auc = metrics.auc(fpr, tpr)\n",
    "auc # 0.75\n",
    "\n",
    "\n",
    "# ROC曲线可视化\n",
    "import matplotlib.pyplot as plt\n",
    "plt.figure()\n",
    "lw = 2\n",
    "plt.plot(fpr, tpr, color='darkorange',\n",
    "         lw=lw, label='ROC curve (area = %0.2f)' % auc)\n",
    "plt.plot([0, 1], [0, 1], color='navy', lw=lw, linestyle='--')\n",
    "plt.xlim([0.0, 1.0])\n",
    "plt.ylim([0.0, 1.05])\n",
    "plt.xlabel('False Positive Rate')\n",
    "plt.ylabel('True Positive Rate')\n",
    "plt.title('Receiver operating characteristic example')\n",
    "plt.legend(loc=\"lower right\")\n",
    "plt.show()"
   ]
  },
  {
   "cell_type": "markdown",
   "id": "7d87f505",
   "metadata": {},
   "source": [
    "#### 回归问题  \n",
    "\n",
    "关于模型「好坏」的判断，不仅取决于算法和数据，还取决于当前任务需求。  \n",
    "回归问题常用的性能度量指标有：平均绝对误差、均方误差、均方根误差、R平方等。  \n",
    "涉及的API： metrics.mean_absolute_error等\n",
    "\n",
    "\n",
    "**平均绝对误差（Mean Absolute Error，MAE）** ，又叫平均绝对离差，是所有标签值与回归模型预测值的偏差的绝对值的平均。    \n",
    "**平均绝对百分误差（Mean Absolute Percentage Error，MAPE）** 是对MAE的一种改进，考虑了绝对误差相对真实值的比例。  \n",
    "**均方误差（Mean Square Error，MSE）** 相对于平均绝对误差而言，均方误差求的是所有标签值与回归模型预测值的偏差的平方的平均。  \n",
    "**均方根误差（Root-Mean-Square Error，RMSE）** 也称标准误差，是在均方误差的基础上进行开方运算。RMSE会被用来衡量观测值同真值之间的偏差。  \n",
    "**R平方** 决定系数，反映因变量的全部变异能通过目前的回归模型被模型中的自变量解释的比例。比例越接近于1，表示当前的回归模型对数据的解释越好，越能精确描述数据的真实分布。"
   ]
  },
  {
   "cell_type": "markdown",
   "id": "300be3f6",
   "metadata": {},
   "source": [
    "### 评估方法"
   ]
  },
  {
   "cell_type": "markdown",
   "id": "d342f277",
   "metadata": {},
   "source": [
    "我们手上没有未知的样本，如何可靠地评估？关键是要获得可靠的「测试集数据」（Test Set），即测试集（用于评估）应该与训练集（用于模型学习）「互斥」。"
   ]
  },
  {
   "cell_type": "markdown",
   "id": "90ad220b",
   "metadata": {},
   "source": [
    "常见的评估方法有：留出法（Hold-out）、交叉验证法（ Cross Validation）、自助法（Bootstrap）。"
   ]
  },
  {
   "cell_type": "markdown",
   "id": "ce3adbeb",
   "metadata": {},
   "source": [
    "#### 留出法（Hold-out）  \n",
    "留出法是机器学习中最常见的评估方法之一，它会从训练数据中保留出验证样本集，这部分数据不用于训练，而用于模型评估。     \n",
    "这样数据切分成三个互斥的部分，即训练集、测试集和验证集。在训练集上训练模型，在测试集上选择模型，最后在测试集上评估泛化误差。数据集的划分要尽量保持数据分布的一致性，如在分类任务中至少要保持样本的类别比例相似，此时可以采用分层采样。  \n",
    "\n",
    "API： sklearn.model_selection.train_test_split¶\n",
    "\n",
    "完整的数学定义如下：    \n",
    "对于一个机器学习问题，通常有数据集train（用于训练模型），但还需要评估模型，因此不能把整个train用于训练，因为拿训练过的数据再去评估必然无效。那么最基本的方法就是留出法：把train划分为两部分，训练集和测试集，两者互斥。"
   ]
  },
  {
   "cell_type": "markdown",
   "id": "247b8022",
   "metadata": {},
   "source": [
    "**留出法数据划分的注意点：**  \n",
    "\n",
    "随机划分不一定能保证有效性，因为如果T中正好只取到某一种特殊类型数据，从而带来了额外的误差。此时处理方法要视具体情况而定，如当数据明显的分为有限类时，可以采用分层抽样方式选择测试数据，保证数据分布比例的平衡。  \n",
    "单次划分不一定能得到合适的测试集，一般多次重复「划分 - 训练 - 测试求误差」的步骤，取误差的平均值。    \n",
    "划分的验证集，太大或者太小都不合适，常用做法是选择1/5~1/3左右数据当作验证集用于评估。    "
   ]
  },
  {
   "cell_type": "markdown",
   "id": "70f01b1d",
   "metadata": {},
   "source": [
    "#### K折交叉验证法（Cross Validation）\n",
    "留出法的数据划分，可能会带来偏差。在机器学习中，另外一种比较常见的评估方法是交叉验证法——  K折交叉验证对  K个不同分组训练的结果进行平均来减少方差。    \n",
    "\n",
    "API： sklearn.model_selection.KFold\n",
    "\n",
    "因此模型的性能对数据的划分就不那么敏感，对数据的使用也会更充分，模型评估结果更加稳定，可以很好地避免上述问题。  \n",
    "\n",
    "<img src=\"./pic/KFold4.jpg\" alt=\"Drawing\" style=\"width: 600px;\" align=\"left\"/>"
   ]
  },
  {
   "cell_type": "markdown",
   "id": "68332144",
   "metadata": {},
   "source": [
    "#### 自助法（Bootstrap）  \n",
    "部分场景下，数据量较少，很难通过已有的数据来估计数据的整体分布（因为数据量不足时，计算的统计量反映不了数据分布），这时可以使用 Bootstrap 自助法。   \n",
    "\n",
    "API： sklearn.model_selection.LeaveOneOut  \n",
    "\n",
    "Bootstrap 是一种用小样本估计总体值的一种非参数方法，在进化和生态学研究中应用十分广泛。Bootstrap通过有放回抽样生成大量的伪样本，通过对伪样本进行计算，获得统计量的分布，从而估计数据的整体分布。   \n",
    "<img src=\"./pic/Bootstrap.jpg\" alt=\"Drawing\" style=\"width: 600px;\" align=\"left\"/>"
   ]
  },
  {
   "cell_type": "markdown",
   "id": "f179ee3d",
   "metadata": {},
   "source": [
    "### 模型选择准则"
   ]
  },
  {
   "cell_type": "markdown",
   "id": "fe2f3e01",
   "metadata": {},
   "source": [
    "我们希望找到对当前问题表达能力好，且模型复杂度较低的模型：    \n",
    "表达力好的模型，可以较好地对训练数据中的规律和模式进行学习；\n",
    "复杂度低的模型，方差较小，不容易过拟合，有较好的泛化表达。    \n",
    "\n",
    "<img src=\"./pic/拟合.jpg\" alt=\"Drawing\" style=\"width: 600px;\" align=\"left\"/>"
   ]
  },
  {
   "cell_type": "markdown",
   "id": "2b31663b",
   "metadata": {},
   "source": [
    "### 模型调优 "
   ]
  },
  {
   "cell_type": "markdown",
   "id": "418844d0",
   "metadata": {},
   "source": [
    "#### 验证集评估选择\n",
    "切分数据为训练集和验证集。  \n",
    "对于准备好的候选超参数，在训练集上进行模型，在验证集上评估。  "
   ]
  },
  {
   "cell_type": "markdown",
   "id": "1d51567b",
   "metadata": {},
   "source": [
    "#### 网格搜索/随机搜索交叉验证  \n",
    "通过网格搜索/随机搜索产出候选的超参数组。    \n",
    "对参数组的每一组超参数，使用交叉验证评估效果。  \n",
    "选出效果最好的超参数。  "
   ]
  },
  {
   "cell_type": "markdown",
   "id": "778d6cc3",
   "metadata": {},
   "source": [
    "  \n",
    "\n",
    "1. 网格搜索   \n",
    "API：model_selection.GridSearchCV(estimator, ...)  \n",
    "GridSearch和CV，即网格搜索和交叉验证\n",
    "\n",
    "网格搜索算法是一种通过遍历给定的参数组合来优化模型表现的方法  \n",
    "\n",
    "使用场景：模型调优，寻求最优超参数；超参数选择不恰当，就会出现欠拟合或者过拟合的问题  \n",
    "\n",
    "内容： 网格搜索，穷举搜索：在所有候选的参数选择中，通过循环遍历，尝试每一种可能性，表现最好的参数就是最终的结果\n",
    "\n",
    "搜索的是参数，即在指定的参数范围内，按步长依次调整参数，利用调整的参数训练学习器，从所有的参数中找到在验证集上精度最高的参数，这其实是一个训练和比较的过程。\n",
    "\n",
    "\n",
    "用法：网格搜索适用于三四个（或者更少）的超参数（当超参数的数量增长时，网格搜索的计算复杂度会呈现指数增长，这时候则使用随机搜索），用户列出一个较小的超参数值域，这些超参数至于的笛卡尔积（排列组合）为一组组超参数。网格搜索算法使用每组超参数训练模型并挑选验证集误差最小的超参数组合\n",
    "\n",
    "缺点：遍历所有组合，比较耗时\n",
    "\n",
    " \n",
    "<img src=\"./pic/网格搜索.jpg\" alt=\"Drawing\" style=\"width: 600px;\" align=\"left\"/>    \n",
    "\n",
    "\n",
    "\n",
    "\n"
   ]
  },
  {
   "cell_type": "markdown",
   "id": "7e9464e2",
   "metadata": {},
   "source": [
    "2. 随机搜索       \n",
    "API： sklearn.model_selection.RandomizedSearchCV(estimator, ...)  \n",
    "网格搜索查看超参数的每个可能组合以找到最佳模型，而随机搜索仅选择和测试超参数的随机组合。  \n",
    "\n",
    "该技术从超参数网格中「随机采样」，而不是进行详尽的搜索。  \n",
    "\n",
    "我们可以指定随机搜索在返回最佳模型之前应该「尝试的总运行次数。」   "
   ]
  },
  {
   "cell_type": "markdown",
   "id": "c1098203",
   "metadata": {},
   "source": [
    "\n",
    "\n",
    "3. 如何选择？ \n",
    "\n",
    "如果你发现自己试图在网格搜索和随机搜索之间进行选择，这里有一些提示可以帮助你决定使用哪一个：\n",
    "\n",
    "如果你已经拥有可以很好地执行的「已知超参数值的大致范围，请使用网格搜索。」确保你的参数空间很小，因为网格搜索可能非常耗时。\n",
    "\n",
    "如果你还不知道在模型上表现良好的参数，请对广泛的值使用随机搜索。随机搜索比网格搜索要快，并且在参数空间较大时应始终使用。\n",
    "\n",
    "同时使用随机搜索和网格搜索以获得最佳结果也是一个好主意。\n",
    "\n",
    "「你可以先使用具有较大参数空间的随机搜索，因为它更快。然后，使用随机搜索找到的最佳超参数来缩小参数网格，并将较小范围的值提供给网格搜索。」``"
   ]
  },
  {
   "cell_type": "markdown",
   "id": "cf7c8319",
   "metadata": {},
   "source": [
    "#### 贝叶斯优化  \n",
    "基于贝叶斯优化的超参数调优。  "
   ]
  },
  {
   "cell_type": "code",
   "execution_count": null,
   "id": "9a26a2e7",
   "metadata": {},
   "outputs": [],
   "source": []
  }
 ],
 "metadata": {
  "kernelspec": {
   "display_name": "Python 3 (ipykernel)",
   "language": "python",
   "name": "python3"
  },
  "language_info": {
   "codemirror_mode": {
    "name": "ipython",
    "version": 3
   },
   "file_extension": ".py",
   "mimetype": "text/x-python",
   "name": "python",
   "nbconvert_exporter": "python",
   "pygments_lexer": "ipython3",
   "version": "3.9.12"
  },
  "toc": {
   "base_numbering": 1,
   "nav_menu": {},
   "number_sections": true,
   "sideBar": true,
   "skip_h1_title": false,
   "title_cell": "Table of Contents",
   "title_sidebar": "Contents",
   "toc_cell": false,
   "toc_position": {
    "height": "calc(100% - 180px)",
    "left": "10px",
    "top": "150px",
    "width": "278.698px"
   },
   "toc_section_display": true,
   "toc_window_display": true
  }
 },
 "nbformat": 4,
 "nbformat_minor": 5
}
